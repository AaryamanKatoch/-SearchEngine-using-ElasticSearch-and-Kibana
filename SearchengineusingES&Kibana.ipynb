{
 "cells": [
  {
   "cell_type": "code",
   "execution_count": 1,
   "id": "b361b21f-3472-4127-9346-a1a7def71c09",
   "metadata": {},
   "outputs": [],
   "source": [
    "import re\n",
    "import os\n",
    "import copy\n",
    "import math\n",
    "import random\n",
    "import string\n",
    "import pathlib\n",
    "import itertools\n",
    "\n",
    "import numpy as np\n",
    "import pandas as pd\n",
    "\n",
    "from tqdm import tqdm\n",
    "from collections import Counter, defaultdict\n",
    "from sklearn.feature_extraction.text import CountVectorizer\n",
    "\n",
    "#mentio path to datasets here.\n",
    "base_path = pathlib.Path(\"topublish/\")\n",
    "tqdm.pandas()"
   ]
  },
  {
   "cell_type": "code",
   "execution_count": 2,
   "id": "89f49aad-a667-40fa-80ec-fec0fb5ff285",
   "metadata": {},
   "outputs": [],
   "source": [
    "import pickle\n",
    "import pathlib\n",
    "\n",
    "\n",
    "def load_text_file(filename):\n",
    "    if not pathlib.Path(filename).exists(): \n",
    "        print(\"FILE NOT EXISTENT\")\n",
    "        return None\n",
    "\n",
    "    with open(filename, \"r\", errors=\"ignore\") as fp:\n",
    "        return fp.readlines()\n",
    "\n",
    "\n",
    "def save_pickle_file(data, filename):\n",
    "    with open(filename, \"wb\") as fp:\n",
    "        pickle.dump(data, fp)\n",
    "\n",
    "\n",
    "def load_pickle_file(filename):\n",
    "    data = None\n",
    "    with open(filename, \"rb\") as fp:\n",
    "        data = pickle.load(fp)\n",
    "\n",
    "    return data"
   ]
  },
  {
   "cell_type": "code",
   "execution_count": 3,
   "id": "cdc94e66-5e61-4c1d-b7ea-ea79ebd201bf",
   "metadata": {},
   "outputs": [],
   "source": [
    "def split_text(text):\n",
    "   return text.split()\n",
    "\n",
    "\n",
    "def load_corpus(lang=\"java\", verbose=False):\n",
    "    lines = load_text_file(base_path / pathlib.Path(f\"{lang}/{lang}_qid2all.txt\"))\n",
    "\n",
    "\n",
    "    record_list = list()\n",
    "    for line in tqdm(lines, disable=not verbose):\n",
    "        record_list.append(\n",
    "            {name: text.strip(string.whitespace) for name, text in zip([\"qid\", \"title\", \"body\", \"answer\"], line.split(\"\\t\"))}\n",
    "        )\n",
    "            \n",
    "    java_corpus_dataframe = pd.DataFrame(record_list)\n",
    "\n",
    "    return java_corpus_dataframe\n",
    "\n",
    "def load_corpus1(lang=\"java\", verbose=False):\n",
    "    lines = load_text_file(base_path / pathlib.Path(f\"{lang}/{lang}_cosidf.txt\"))\n",
    "\n",
    "\n",
    "    record_list = list()\n",
    "    for line in tqdm(lines, disable=not verbose):\n",
    "        record_list.append(\n",
    "            {name: text.strip(string.whitespace) for name, text in zip([\"qid1\", \"qid2\", \"score\", \"label\"], line.split(\"\\t\"))}\n",
    "        )\n",
    "            \n",
    "    javascosidf_corpus_dataframe = pd.DataFrame(record_list)\n",
    "\n",
    "    return javascosidf_corpus_dataframe"
   ]
  },
  {
   "cell_type": "code",
   "execution_count": 4,
   "id": "d0d54f8b-786d-4213-ba5f-9508537f959f",
   "metadata": {},
   "outputs": [
    {
     "name": "stderr",
     "output_type": "stream",
     "text": [
      "100%|██████████| 700552/700552 [00:02<00:00, 322006.26it/s]\n"
     ]
    },
    {
     "name": "stdout",
     "output_type": "stream",
     "text": [
      "             qid                                              title  \\\n",
      "0        8388608  java swing update component content independently   \n",
      "1       31424546            eclipse mars starts exit code using jdk   \n",
      "2       23068676  get current timestamp string format java yyyy ...   \n",
      "3        4194310  java string indexof handle regular expression ...   \n",
      "4       31457289           efficient method updating observablelist   \n",
      "...          ...                                                ...   \n",
      "700547  33554430  save room reservation using angularjs spring h...   \n",
      "700548  14680054  java regular expression escape regular expression   \n",
      "700549  29360123                        server side redirect logged   \n",
      "700550   8388604        without arguments proguard assume arguments   \n",
      "700551  41943038                         confused integer char type   \n",
      "\n",
      "                                                     body  \\\n",
      "0       could update content several visible one time ...   \n",
      "1       plan moving eclipse mars recently installed bi...   \n",
      "2       get timestamp string format java yyyy mm dd hh...   \n",
      "3       want capture index particular regular expressi...   \n",
      "4       setup mysql database data makeshift server bui...   \n",
      "...                                                   ...   \n",
      "700547  scenario reservation booked user specific room...   \n",
      "700548  sample data returned web service california us...   \n",
      "700549  use cloud endpoints client side oauth access b...   \n",
      "700550  quick question since documentation unclear mat...   \n",
      "700551  code like question used int ch isvalid int ch ...   \n",
      "\n",
      "                                                   answer  \n",
      "0       schedule updates running long running calculat...  \n",
      "1       jdk bit download windows x version point vm mi...  \n",
      "2       use java util date class instead timestamp get...  \n",
      "3       workaround standard practice get result using ...  \n",
      "4       need would work keep list instance serverlist ...  \n",
      "...                                                   ...  \n",
      "700547  error message specific default jackson tries m...  \n",
      "700548  regex want put split function need escape quot...  \n",
      "700549  provide custom servlet implementaion login flo...  \n",
      "700550  without arguments keeps attributes bit unusual...  \n",
      "700551  int type wider range char type see data type r...  \n",
      "\n",
      "[700552 rows x 4 columns]\n"
     ]
    }
   ],
   "source": [
    "pd.set_option(\"display.max_columns\", 10)\n",
    "\n",
    "java_corpus_dataframe = load_corpus(lang=\"java\", verbose=True)\n",
    "print(java_corpus_dataframe)"
   ]
  },
  {
   "cell_type": "code",
   "execution_count": 5,
   "id": "8eecfd84-ee03-4538-a49b-e171d8df2022",
   "metadata": {},
   "outputs": [],
   "source": [
    "#getting required jsons for java\n",
    "import json\n",
    "l=[]\n",
    "for i in range(len(java_corpus_dataframe)):\n",
    "  d={}\n",
    "  d[\"index\"]={\"_id\":java_corpus_dataframe.qid[i]}\n",
    "  l.append(d)\n",
    "  dbody={}\n",
    "  dbody[\"title\"]=java_corpus_dataframe.title[i]\n",
    "  dbody[\"body\"]=java_corpus_dataframe.body[i]\n",
    "  dbody[\"answer\"]=java_corpus_dataframe.answer[i]\n",
    "  l.append(dbody)\n",
    "\n",
    "L = len(l)\n",
    "\n",
    "#with open(\"java.json\",\"w\") as studs:\n",
    " #for i in l:\n",
    "  # json.dump(i,studs)\n",
    "\n",
    " \n",
    "with open('java1.json', 'a') as outfile:\n",
    "    for i in range(0,(L//6)-1):\n",
    "        json.dump(l[i], outfile)\n",
    "        outfile.write('\\n')\n",
    "\n",
    "\n",
    "with open('java2.json', 'a') as outfile:\n",
    "    for i in range((L//6)-1,((2*L)//6)):\n",
    "        json.dump(l[i], outfile)\n",
    "        outfile.write('\\n')\n",
    "\n",
    "with open('java3.json', 'a') as outfile:\n",
    "    for i in range(((2*L)//6),((3*L)//6)):\n",
    "        json.dump(l[i], outfile)\n",
    "        outfile.write('\\n')\n",
    "        \n",
    "\n",
    "with open('java4.json', 'a') as outfile:\n",
    "    for i in range(((3*L)//6),((4*L)//6)-1):\n",
    "        json.dump(l[i], outfile)\n",
    "        outfile.write('\\n')     \n",
    "\n",
    "with open('java5.json', 'a') as outfile:\n",
    "    for i in range(((4*L)//6)-1,((5*L)//6)):\n",
    "        json.dump(l[i], outfile)\n",
    "        outfile.write('\\n') \n",
    "                   \n",
    "with open('java6.json', 'a') as outfile:\n",
    "    for i in range(((5*L)//6),((6*L)//6)):\n",
    "        json.dump(l[i], outfile)\n",
    "        outfile.write('\\n') \n"
   ]
  },
  {
   "cell_type": "code",
   "execution_count": 6,
   "id": "97560b23-737c-4636-a2dc-0a6a6e2f291f",
   "metadata": {},
   "outputs": [],
   "source": [
    "# loading python to corpus to compute jsons\n",
    "def load_corpus12(lang=\"python\", verbose=False):\n",
    "    lines = load_text_file(base_path / pathlib.Path(f\"{lang}/{lang}_qid2all.txt\"))\n",
    "\n",
    "\n",
    "    record_list = list()\n",
    "    for line in tqdm(lines, disable=not verbose):\n",
    "        record_list.append(\n",
    "            {name: text.strip(string.whitespace) for name, text in zip([\"qid\", \"title\", \"body\", \"answer\"], line.split(\"\\t\"))}\n",
    "        )\n",
    "            \n",
    "    python_corpus_dataframe = pd.DataFrame(record_list)\n",
    "\n",
    "    return python_corpus_dataframe"
   ]
  },
  {
   "cell_type": "code",
   "execution_count": 7,
   "id": "857ed956-9adc-4f7f-8a32-fbf186254719",
   "metadata": {},
   "outputs": [
    {
     "name": "stderr",
     "output_type": "stream",
     "text": [
      "100%|██████████| 485827/485827 [00:01<00:00, 384492.44it/s]\n"
     ]
    },
    {
     "name": "stdout",
     "output_type": "stream",
     "text": [
      "             qid                                              title  \\\n",
      "0       27787264  pandas query throws error column name starts n...   \n",
      "1       35651586                      psycopg cursor already closed   \n",
      "2       30342145                    redemption setting display name   \n",
      "3       45088774            removing words numbers text file python   \n",
      "4       30408713                 python using x values draw picture   \n",
      "...          ...                                                ...   \n",
      "485822   3145720              accumulate state across tests py test   \n",
      "485823  37748729                                 use tkinter method   \n",
      "485824  19922939                       finding middle three numbers   \n",
      "485825  35362859                   python convert string list split   \n",
      "485826   8388607             way make work vim reindent python code   \n",
      "\n",
      "                                                     body  \\\n",
      "0       trying perform query following dataframe works...   \n",
      "1       using psycopg bunch queries need execute seque...   \n",
      "2       using add pst file attached pst outlook proble...   \n",
      "3       one column within column may may many digit nu...   \n",
      "4       series methods take image x pixels although si...   \n",
      "...                                                   ...   \n",
      "485822  currently project tests similar py test tests ...   \n",
      "485823  problem using method tkinter plan print interv...   \n",
      "485824  looking alternative concise ways return middle...   \n",
      "485825  got little problem string database called acti...   \n",
      "485826  let say following python code later remove wou...   \n",
      "\n",
      "                                                   answer  \n",
      "0       query uses pandas eval evaluate python express...  \n",
      "1       presumably connection dropped would need reest...  \n",
      "2       pst provider sometimes ignores specified displ...  \n",
      "3       use pattern like try one liner outputs alterna...  \n",
      "4                                                   mabye  \n",
      "...                                                   ...  \n",
      "485822  good unit test practice avoid state accumulate...  \n",
      "485823  single argument eg calling time sleep generall...  \n",
      "485824  return middle number actually meant maximum nu...  \n",
      "485825  use json library work python objects gain much...  \n",
      "485826  whereas c c indenting program affect behaviour...  \n",
      "\n",
      "[485827 rows x 4 columns]\n"
     ]
    }
   ],
   "source": [
    "pd.set_option(\"display.max_columns\", 10)\n",
    "\n",
    "python_corpus_dataframe = load_corpus12(lang=\"python\", verbose=True)\n",
    "print(python_corpus_dataframe)"
   ]
  },
  {
   "cell_type": "code",
   "execution_count": 8,
   "id": "089b546d-b57e-488b-831c-165f4b4aa273",
   "metadata": {},
   "outputs": [],
   "source": [
    "#getting required jsons for python\n",
    "import json\n",
    "l=[]\n",
    "for i in range(len(python_corpus_dataframe)):\n",
    "  d={}\n",
    "  d[\"index\"]={\"_id\":python_corpus_dataframe.qid[i]}\n",
    "  l.append(d)\n",
    "  dbody={}\n",
    "  dbody[\"title\"]=python_corpus_dataframe.title[i]\n",
    "  dbody[\"body\"]=python_corpus_dataframe.body[i]\n",
    "  dbody[\"answer\"]=python_corpus_dataframe.answer[i]\n",
    "  l.append(dbody)\n",
    "\n",
    "L = len(l)\n",
    "\n",
    "#with open(\"java.json\",\"w\") as studs:\n",
    " #for i in l:\n",
    "  # json.dump(i,studs)\n",
    "   \n",
    "with open('python1t.json', 'a') as outfile:\n",
    "    for i in range(0,(L//4)-1):\n",
    "        json.dump(l[i], outfile)\n",
    "        outfile.write('\\n')\n",
    "\n",
    "with open('python2t.json', 'a') as outfile:\n",
    "    for i in range((L//4)-1,((2*L)//4)-1):\n",
    "        json.dump(l[i], outfile)\n",
    "        outfile.write('\\n')\n",
    "\n",
    "with open('python3t.json', 'a') as outfile:\n",
    "    for i in range(((2*L)//4)-1,((3*L)//4)):\n",
    "        json.dump(l[i], outfile)\n",
    "        outfile.write('\\n')\n",
    "        \n",
    "\n",
    "with open('python4t.json', 'a') as outfile:\n",
    "    for i in range(((3*L)//4),((4*L)//4)):\n",
    "        json.dump(l[i], outfile)\n",
    "        outfile.write('\\n')     \n",
    "\n",
    "\n"
   ]
  },
  {
   "cell_type": "code",
   "execution_count": 9,
   "id": "ca8bb7c0-93d2-4679-80f4-a9882ddbbf0f",
   "metadata": {},
   "outputs": [],
   "source": [
    "# loading python to corpus to compute jsons\n",
    "def load_corpus13(lang=\"javascript\", verbose=False):\n",
    "    lines = load_text_file(base_path / pathlib.Path(f\"{lang}/{lang}_qid2all.txt\"))\n",
    "\n",
    "\n",
    "    record_list = list()\n",
    "    for line in tqdm(lines, disable=not verbose):\n",
    "        record_list.append(\n",
    "            {name: text.strip(string.whitespace) for name, text in zip([\"qid\", \"title\", \"body\", \"answer\"], line.split(\"\\t\"))}\n",
    "        )\n",
    "            \n",
    "    javascript_corpus_dataframe = pd.DataFrame(record_list)\n",
    "\n",
    "    return javascript_corpus_dataframe"
   ]
  },
  {
   "cell_type": "code",
   "execution_count": 10,
   "id": "0add10cf-c502-4ed3-9d8e-752a9807e229",
   "metadata": {},
   "outputs": [
    {
     "name": "stderr",
     "output_type": "stream",
     "text": [
      "100%|██████████| 1319382/1319382 [00:04<00:00, 282634.50it/s]\n"
     ]
    },
    {
     "name": "stdout",
     "output_type": "stream",
     "text": [
      "              qid                                              title  \\\n",
      "0        47457739                   delay checkform using javascript   \n",
      "1        23068675             bind function elements dom page loaded   \n",
      "2        44040197  calling javascript class method another method...   \n",
      "3        30307229                              html calculate button   \n",
      "4        25165834                    ajax call controller method mvc   \n",
      "...           ...                                                ...   \n",
      "1319377  44734296        regex allow capital letters beginning words   \n",
      "1319378  37748727  javascript moving image created programmatical...   \n",
      "1319379   6640980  click button html page direct user another htm...   \n",
      "1319380  41943034         using switch statement create new variable   \n",
      "1319381   8388605                    preventing js file called twice   \n",
      "\n",
      "                                                      body  \\\n",
      "0        tried delay sec submit form like work still re...   \n",
      "1        code js file however click update button first...   \n",
      "2        trying write wrapper class called mongo call g...   \n",
      "3        need help explaining code changed values reaso...   \n",
      "4        trying inline editing cell row upon double cli...   \n",
      "...                                                    ...   \n",
      "1319377  check capital letters exist beginning words re...   \n",
      "1319378  learning javascript came point created image l...   \n",
      "1319379  want create something like clicking button htm...   \n",
      "1319380  using switch statement taken input data html t...   \n",
      "1319381  way put variable javascript file increments wh...   \n",
      "\n",
      "                                                    answer  \n",
      "0        problem submit request outcome return somethin...  \n",
      "1        bind events elements exist time binding use re...  \n",
      "2        update insert function follows getting error c...  \n",
      "3        may thinking using values values give first th...  \n",
      "4        try removing data contenttype datatype ajax ca...  \n",
      "...                                                    ...  \n",
      "1319377  z z b least amount characters match whereas b ...  \n",
      "1319378  call function body onkeyup event script edit m...  \n",
      "1319379  best think based example make call second page...  \n",
      "1319380  need save input data coordinate variable make ...  \n",
      "1319381                                                     \n",
      "\n",
      "[1319382 rows x 4 columns]\n"
     ]
    }
   ],
   "source": [
    "pd.set_option(\"display.max_columns\", 10)\n",
    "\n",
    "javascript_corpus_dataframe = load_corpus12(lang=\"javascript\", verbose=True)\n",
    "print(javascript_corpus_dataframe)"
   ]
  },
  {
   "cell_type": "code",
   "execution_count": 11,
   "id": "6ef7bf7c-600f-460d-8089-7cbfec1d232a",
   "metadata": {},
   "outputs": [],
   "source": [
    "import json\n",
    "l=[]\n",
    "for i in range(len(javascript_corpus_dataframe)):\n",
    "  d={}\n",
    "  d[\"index\"]={\"_id\":javascript_corpus_dataframe.qid[i]}\n",
    "  l.append(d)\n",
    "  dbody={}\n",
    "  dbody[\"title\"]=javascript_corpus_dataframe.title[i]\n",
    "  dbody[\"body\"]=javascript_corpus_dataframe.body[i]\n",
    "  dbody[\"answer\"]=javascript_corpus_dataframe.answer[i]\n",
    "  l.append(dbody)\n",
    "\n",
    "L = len(l)\n",
    "\n",
    "#with open(\"java.json\",\"w\") as studs:\n",
    " #for i in l:\n",
    "  # json.dump(i,studs)\n",
    "   \n",
    "with open('javascript1.json', 'a') as outfile:\n",
    "    for i in range(0,(L//11)-1):\n",
    "        json.dump(l[i], outfile)\n",
    "        outfile.write('\\n')\n",
    "\n",
    "with open('javascript2.json', 'a') as outfile:\n",
    "    for i in range((L//11)-1,((2*L)//11)-1):\n",
    "        json.dump(l[i], outfile)\n",
    "        outfile.write('\\n')\n",
    "\n",
    "with open('javascript3.json', 'a') as outfile:\n",
    "    for i in range(((2*L)//11)-1,((3*L)//11)):\n",
    "        json.dump(l[i], outfile)\n",
    "        outfile.write('\\n')\n",
    "        \n",
    "\n",
    "with open('javascript4.json', 'a') as outfile:\n",
    "    for i in range(((3*L)//11),((4*L)//11)):\n",
    "        json.dump(l[i], outfile)\n",
    "        outfile.write('\\n')     \n",
    "\n",
    "with open('javascript5.json', 'a') as outfile:\n",
    "    for i in range(((4*L)//11),((5*L)//11)):\n",
    "        json.dump(l[i], outfile)\n",
    "        outfile.write('\\n') \n",
    "                   \n",
    "with open('javascript6.json', 'a') as outfile:\n",
    "    for i in range(((5*L)//11),((6*L)//11)-1):\n",
    "        json.dump(l[i], outfile)\n",
    "        outfile.write('\\n') \n",
    "        \n",
    "with open('javascript7.json', 'a') as outfile:\n",
    "    for i in range(((6*L)//11)-1,((7*L)//11)-1):\n",
    "        json.dump(l[i], outfile)\n",
    "        outfile.write('\\n') \n",
    "\n",
    "with open('javascript8.json', 'a') as outfile:\n",
    "    for i in range(((7*L)//11)-1,((8*L)//11)-1):\n",
    "        json.dump(l[i], outfile)\n",
    "        outfile.write('\\n') \n",
    "        \n",
    "with open('javascript9.json', 'a') as outfile:\n",
    "    for i in range(((8*L)//11)-1,((9*L)//11)):\n",
    "        json.dump(l[i], outfile)\n",
    "        outfile.write('\\n') \n",
    "        \n",
    "with open('javascript10.json', 'a') as outfile:\n",
    "    for i in range(((9*L)//11),((10*L)//11)):\n",
    "        json.dump(l[i], outfile)\n",
    "        outfile.write('\\n') \n",
    "        \n",
    "with open('javascript11.json', 'a') as outfile:\n",
    "    for i in range(((10*L)//11),((11*L)//11)):\n",
    "        json.dump(l[i], outfile)\n",
    "        outfile.write('\\n') "
   ]
  },
  {
   "cell_type": "code",
   "execution_count": 12,
   "id": "8de32b84-96ea-40e0-aea2-592888d2ce6b",
   "metadata": {},
   "outputs": [],
   "source": [
    "#push all jsons to indexes using terminal curl command (curl -s -H \"Content-Type: application/json\"  -XPOST http://localhost:9200/index_name/_bulk --data-binary @/Users/aaryamantpkatoch/Desktop/jsons/java6.json)"
   ]
  },
  {
   "cell_type": "code",
   "execution_count": 13,
   "id": "57572da9-fb62-466d-a07c-ac4b7d8b632b",
   "metadata": {},
   "outputs": [
    {
     "name": "stderr",
     "output_type": "stream",
     "text": [
      "100%|██████████| 253441/253441 [00:00<00:00, 739358.75it/s]\n"
     ]
    },
    {
     "name": "stdout",
     "output_type": "stream",
     "text": [
      "            qid1      qid2           score  label\n",
      "0           qid1      qid2           score  label\n",
      "1        4252472  15194804  0.941838972542      0\n",
      "2        4252472  18264178  0.801707464484      0\n",
      "3        4252472  16225177  0.801707464484      1\n",
      "4        4252472  16445238  0.769576496381      0\n",
      "...          ...       ...             ...    ...\n",
      "253436  15615881  18456100  0.537130501589      0\n",
      "253437  15615881  31407382  0.536373912746      0\n",
      "253438  15615881  26271786  0.532262831449      0\n",
      "253439  15615881  11008033  0.524612763032      0\n",
      "253440  15615881  42065871  0.522841280226      0\n",
      "\n",
      "[253441 rows x 4 columns]\n"
     ]
    }
   ],
   "source": [
    "# uploading javacosidf to corpus\n",
    "pd.set_option(\"display.max_columns\", 10)\n",
    "\n",
    "javacosidf_corpus_dataframe = load_corpus1(lang=\"java\", verbose=True)\n",
    "print(javacosidf_corpus_dataframe)"
   ]
  },
  {
   "cell_type": "code",
   "execution_count": 14,
   "id": "be0953c7-0a23-4a23-a2f4-cdd2f6adae23",
   "metadata": {},
   "outputs": [],
   "source": [
    "#fixing the index\n",
    "javacosidf_corpus_dataframe = javacosidf_corpus_dataframe.drop(labels=0, axis=0)\n",
    "javacosidf_corpus_dataframe.reset_index(drop=True, inplace=True)"
   ]
  },
  {
   "cell_type": "code",
   "execution_count": 15,
   "id": "3086302d-e4ed-43a0-8c61-9daad3dd41f3",
   "metadata": {},
   "outputs": [
    {
     "name": "stdout",
     "output_type": "stream",
     "text": [
      "            qid1      qid2           score label\n",
      "0        4252472  15194804  0.941838972542     0\n",
      "1        4252472  18264178  0.801707464484     0\n",
      "2        4252472  16225177  0.801707464484     1\n",
      "3        4252472  16445238  0.769576496381     0\n",
      "4        4252472  17233226  0.720987113025     0\n",
      "...          ...       ...             ...   ...\n",
      "253435  15615881  18456100  0.537130501589     0\n",
      "253436  15615881  31407382  0.536373912746     0\n",
      "253437  15615881  26271786  0.532262831449     0\n",
      "253438  15615881  11008033  0.524612763032     0\n",
      "253439  15615881  42065871  0.522841280226     0\n",
      "\n",
      "[253440 rows x 4 columns]\n"
     ]
    }
   ],
   "source": [
    "print(javacosidf_corpus_dataframe)"
   ]
  },
  {
   "cell_type": "code",
   "execution_count": 16,
   "id": "e7e1fa16-b381-496c-8ce7-cabc7d65ca23",
   "metadata": {},
   "outputs": [
    {
     "name": "stdout",
     "output_type": "stream",
     "text": [
      "Collecting package metadata (current_repodata.json): done\n",
      "Solving environment: done\n",
      "\n",
      "# All requested packages already installed.\n",
      "\n",
      "Retrieving notices: ...working... done\n",
      "\n",
      "Note: you may need to restart the kernel to use updated packages.\n"
     ]
    }
   ],
   "source": [
    "conda install elasticsearch -y\n"
   ]
  },
  {
   "cell_type": "code",
   "execution_count": 17,
   "id": "2c5d22f6-bec5-424b-8601-e9d8c1f60ae4",
   "metadata": {},
   "outputs": [],
   "source": [
    "from elasticsearch import Elasticsearch\n",
    "es=Elasticsearch()"
   ]
  },
  {
   "cell_type": "code",
   "execution_count": 19,
   "id": "248979c6-bd17-462d-a31a-229e736ce0af",
   "metadata": {},
   "outputs": [
    {
     "data": {
      "text/plain": [
       "['javabm',\n",
       " 'javadlm',\n",
       " 'javascriptbm',\n",
       " 'javascriptdlm',\n",
       " 'javascripttf',\n",
       " 'javatf',\n",
       " 'pythonbm',\n",
       " 'pythondlm',\n",
       " 'pythontf',\n",
       " 'test']"
      ]
     },
     "execution_count": 19,
     "metadata": {},
     "output_type": "execute_result"
    }
   ],
   "source": [
    "#get all the indexes \n",
    "index_list = []\n",
    "\n",
    "for index in es.indices.get('*'):\n",
    "    if \"0\" and \".\" not in index:\n",
    "        index_list.append(index)\n",
    "\n",
    "index_list"
   ]
  },
  {
   "cell_type": "code",
   "execution_count": 20,
   "id": "a5eeda56-595a-47ae-a09e-244e5d76d32b",
   "metadata": {},
   "outputs": [
    {
     "name": "stdout",
     "output_type": "stream",
     "text": [
      "['4252472' '1662766' '3302177' ... '15405288' '22932451' '15615881']\n"
     ]
    }
   ],
   "source": [
    "#get each qid1 for java from javacosidf\n",
    "each_qid1_cosidf = javacosidf_corpus_dataframe[\"qid1\"].unique()\n",
    "print(each_qid1_cosidf)"
   ]
  },
  {
   "cell_type": "code",
   "execution_count": 21,
   "id": "a1782f3a-ddda-4e25-a332-848611214f40",
   "metadata": {},
   "outputs": [],
   "source": [
    "#define ranking function\n",
    "def ranking(qid1,qid1_title,ratings):\n",
    "    _search={\n",
    "        \"requests\":[\n",
    "            {\n",
    "                \"id\":str(qid1),\n",
    "                \"request\":{\n",
    "                    \"query\":{\n",
    "                        \"bool\":{\n",
    "                            \"must_not\":{\n",
    "                                \"match\":{\n",
    "                                    \"_id\":qid1\n",
    "                                }\n",
    "                            },\n",
    "                            \"should\":[\n",
    "                            {\n",
    "                                \"match\":{\n",
    "                                    \"title\":{\n",
    "                                        \"query\":qid1_title,\n",
    "                                        \"boost\":3.0,\n",
    "                                        \"analyzer\":\"my_analyzer\"\n",
    "                                    }\n",
    "                                    }\n",
    "                            },\n",
    "                            {   \n",
    "                                \"match\":{\n",
    "                                    \"body\":{\n",
    "                                        \"query\":qid1_title,\n",
    "                                        \"boost\":0.5,\n",
    "                                        \"analyzer\":\"my_analyzer\"   \n",
    "                                    }}},\n",
    "                                {\n",
    "                                 \"match\":{\n",
    "                                    \"answer\":{\n",
    "                                        \"query\":qid1_title,\n",
    "                                        \"boost\":0.5,\n",
    "                                        \"analyzer\":\"my_analyzer\"   \n",
    "                                    }}}\n",
    "                            ]}}\n",
    "                },\n",
    "                \"ratings\": ratings\n",
    "            }\n",
    "        ],\n",
    "        \"metric\":{\n",
    "            \"dcg\":{\n",
    "                \"k\":10,\n",
    "                \"normalize\":True\n",
    "            }\n",
    "        }\n",
    "    }\n",
    "    return _search\n",
    "        \n",
    "                                    "
   ]
  },
  {
   "cell_type": "code",
   "execution_count": 22,
   "id": "9d7f1028-bc4e-419b-aace-88a4b515993d",
   "metadata": {},
   "outputs": [],
   "source": [
    "#java bm25\n",
    "#create ratings json for each qid1\n",
    "for k in each_qid1_cosidf:\n",
    "    ratings=[]\n",
    "    for j in range(len(javacosidf_corpus_dataframe)):\n",
    "            if(javacosidf_corpus_dataframe.qid1[j]==k):\n",
    "                        ratings.append({\"_index\":\"javabm\",\"_id\":javacosidf_corpus_dataframe.qid2[j],\"rating\":int(javacosidf_corpus_dataframe.label[j])})\n",
    "                        ratings=ratings[0:30]\n",
    "    import json\n",
    "    with open(f'{k}.json', 'w') as fp:\n",
    "            fp.write(\n",
    "            '[\\n' +\n",
    "            ',\\n'.join(json.dumps(l) for l in ratings) +\n",
    "            '\\n]\\n')\n",
    "   \n"
   ]
  },
  {
   "cell_type": "code",
   "execution_count": 23,
   "id": "fe3df46a-3efb-406c-862b-555b9d708864",
   "metadata": {},
   "outputs": [
    {
     "name": "stdout",
     "output_type": "stream",
     "text": [
      "[0.38685280723454163, 1.0, 1.0, 0.3333333333333333, 0.6309297535714574, 1.0, 0.0, 0.6309297535714574, 0.6309297535714574, 0.3562071871080222, 0.0, 0.7122630665145961, 0.6309297535714574, 0.0, 0.19342640361727081, 0.0, 1.0, 1.0, 1.0, 0.5, 0.0, 0.3706656904013185, 1.0, 0.0, 0.6309297535714574, 0.0, 1.0, 1.0, 1.0, 0.3154648767857287, 0.30102999566398114, 0.6309297535714574, 1.0, 0.38685280723454163, 0.5706417189553201, 0.30102999566398114, 0.5, 0.0, 0.0, 0.0, 0.6309297535714574, 0.6309297535714574, 0.0, 0.5, 0.0, 0.0, 1.0, 1.0, 0.0, 0.3562071871080222, 0.0, 0.5, 0.0, 0.6309297535714574, 0.0, 0.0, 0.5, 1.0, 0.0, 1.0, 0.0, 1.0, 0.0, 1.0, 0.0, 0.38685280723454163, 1.0, 0.3154648767857287, 1.0, 1.0, 0.38685280723454163, 0.7039180890341348, 0.0, 1.0, 0.0, 1.0, 0.6131471927654585, 0.0, 1.0, 0.0, 0.3562071871080222, 0.2184074368181642, 0.5, 0.0, 1.0, 1.0, 0.0, 1.0, 0.0, 0.6131471927654585, 1.0, 1.0, 0.0, 0.0, 0.43067655807339306, 0.0, 1.0, 0.0, 0.0, 0.0, 0.0, 1.0, 0.0, 1.0, 0.0, 0.0, 0.0, 0.3562071871080222, 0.0, 0.0, 0.38685280723454163, 0.0, 0.0, 0.0, 0.6309297535714574, 0.6309297535714574, 1.0, 0.0, 0.6131471927654585, 0.0, 1.0, 0.0, 0.3333333333333333, 0.43067655807339306, 0.30102999566398114, 0.6309297535714574, 0.0, 0.2890648263178878, 0.0, 0.4911492931622974, 0.0, 0.6309297535714574, 0.6309297535714574, 1.0, 0.0, 0.0, 0.6934264036172708, 0.5, 0.0, 0.0, 0.0, 1.0, 0.0, 0.30657359638272924, 0.414436999553344, 0.30657359638272924, 0.0, 0.6131471927654585, 1.0, 0.3562071871080222, 0.0, 0.0, 1.0, 0.3154648767857287, 0.8772153153380494, 0.30102999566398114, 1.0, 0.44130740935663865, 1.0, 0.0, 1.0, 1.0, 0.3562071871080222, 0.30102999566398114, 0.6309297535714574, 0.0, 0.6309297535714574, 0.6309297535714574, 0.5, 0.0, 1.0, 0.0, 0.0, 1.0, 0.0, 1.0, 0.0, 0.43067655807339306, 0.6509209298071325, 0.6309297535714574, 0.6309297535714574, 0.7668091220635322, 0.6131471927654585, 0.6309297535714574, 0.6309297535714574, 1.0, 0.0, 0.3333333333333333, 0.0, 0.0, 1.0, 0.6131471927654585, 0.30657359638272924, 1.0, 0.2640681225725909, 0.0, 0.0, 0.3333333333333333, 0.6309297535714574, 1.0, 1.0, 0.3154648767857287, 0.43067655807339306, 0.30102999566398114, 0.6309297535714574, 0.3562071871080222, 0.3562071871080222, 0.932521091954824, 0.20438239758848614, 0.5, 0.0, 0.30102999566398114, 0.3333333333333333, 1.0, 0.6309297535714574, 0.43067655807339306, 0.0, 1.0, 0.3333333333333333, 0.5, 1.0, 0.5, 0.0, 1.0, 0.0, 0.0, 0.3562071871080222, 0.43067655807339306, 1.0, 0.0, 0.5, 0.0, 0.0, 0.0, 1.0, 0.6309297535714574, 0.3154648767857287, 0.0, 0.5, 1.0, 0.6309297535714574, 0.0, 0.6309297535714574, 0.6309297535714574, 0.0, 0.0, 0.43067655807339306, 0.2890648263178878, 0.6131471927654585, 1.0, 0.0, 0.5706417189553201, 1.0, 0.0, 0.5, 1.0, 0.43067655807339306, 0.3333333333333333, 0.6309297535714574, 0.5, 0.0, 0.6309297535714574, 1.0, 0.0, 0.0, 0.43067655807339306, 0.0, 0.6309297535714574, 0.0, 0.0, 0.3562071871080222, 0.0, 0.0, 0.9197207891481877, 1.0, 0.2184074368181642, 0.0, 0.0, 0.0, 0.0, 0.0, 0.3154648767857287, 1.0, 0.6309297535714574, 0.9197207891481877, 1.0, 1.0, 0.5, 1.0, 0.0, 0.6309297535714574, 1.0, 0.6509209298071325, 0.6508205185601093, 1.0, 0.0, 0.0, 1.0, 0.0, 0.0, 0.0, 0.6309297535714574, 0.38685280723454163, 0.3333333333333333, 1.0, 0.30102999566398114, 1.0, 1.0, 0.6309297535714574, 0.30102999566398114, 0.5, 0.3333333333333333, 0.38685280723454163, 0.0, 0.3154648767857287, 1.0, 1.0, 0.0, 0.5, 0.0, 1.0, 0.0, 0.5, 0.0, 0.5, 0.6309297535714574, 0.0, 1.0, 0.0, 1.0, 0.5, 0.0, 1.0, 0.0, 0.6309297535714574, 0.2890648263178878, 0.0, 0.43067655807339306, 0.0, 0.0, 0.3562071871080222, 1.0, 1.0, 0.5249810332008934, 1.0, 0.3562071871080222, 0.5, 1.0, 0.3333333333333333, 1.0, 1.0, 1.0, 0.0, 0.3154648767857287, 0.38685280723454163, 1.0, 0.0, 0.6309297535714574, 0.30102999566398114, 0.0, 0.5, 0.0, 0.0, 0.3333333333333333, 0.0, 0.6309297535714574, 0.6309297535714574, 1.0, 0.8503449055347547, 0.2640681225725909, 0.0, 0.43067655807339306, 0.38685280723454163, 0.0, 0.3154648767857287, 0.6309297535714574, 0.0, 1.0, 1.0, 0.6309297535714574, 0.0, 1.0, 1.0, 0.0, 0.0, 0.6309297535714574, 0.6309297535714574, 0.6309297535714574, 0.0, 0.0, 1.0, 1.0, 1.0, 0.30657359638272924, 0.6309297535714574, 0.6934264036172708, 0.38685280723454163, 0.38685280723454163, 1.0, 0.38685280723454163, 0.43067655807339306, 0.0, 1.0, 0.0, 1.0, 0.0, 0.0, 0.0, 1.0, 1.0, 0.8175295903539446, 0.30657359638272924, 1.0, 1.0, 0.0, 0.3562071871080222, 1.0, 0.0, 0.3333333333333333, 1.0, 0.5, 0.0, 0.43067655807339306, 0.3154648767857287, 0.6309297535714574, 0.20210734650054762, 0.5, 0.0, 0.0, 1.0, 0.5, 0.2640681225725909, 1.0, 1.0, 0.5437713091520254, 1.0, 1.0, 1.0, 1.0, 1.0, 0.0, 0.0, 0.0, 0.38685280723454163, 0.5, 0.0, 0.38685280723454163, 0.5, 0.43067655807339306, 1.0, 0.5, 1.0, 1.0, 0.30102999566398114, 1.0, 0.0, 0.0, 1.0, 1.0, 0.43067655807339306, 0.38685280723454163, 1.0, 0.43067655807339306, 0.0, 0.38685280723454163, 0.0, 0.6309297535714574, 1.0, 1.0, 1.0, 0.0, 1.0, 0.43067655807339306, 0.5249810332008934, 0.0, 0.0, 0.3154648767857287, 0.30102999566398114, 0.3154648767857287, 0.3562071871080222, 0.6309297535714574, 0.0, 0.43067655807339306, 0.5, 0.5706417189553201, 0.23719771276929624, 0.0, 0.2640681225725909, 0.0, 0.0, 0.6131471927654585, 0.6309297535714574, 0.43067655807339306, 0.0, 0.38685280723454163, 0.5, 0.0, 0.4911492931622974, 1.0, 1.0, 0.30102999566398114, 1.0, 0.0, 0.30102999566398114, 0.3333333333333333, 0.30102999566398114, 0.0, 0.38685280723454163, 0.8395700624665826, 0.3154648767857287, 0.38685280723454163, 0.3562071871080222, 1.0, 0.43067655807339306, 1.0, 0.0, 1.0, 1.0, 0.0, 0.9197207891481877, 0.3333333333333333, 0.0, 0.0, 0.3562071871080222, 0.3333333333333333, 0.38685280723454163, 0.0, 0.6052602440527058, 0.3154648767857287, 0.30102999566398114, 0.0, 0.9197207891481877, 0.6934264036172708, 0.5, 0.30102999566398114, 1.0, 0.0, 0.5, 0.0, 1.0, 0.6309297535714574, 0.0, 0.0, 0.5, 1.0, 0.0, 0.38685280723454163, 0.38685280723454163, 0.0, 0.43067655807339306, 0.0, 1.0, 0.0, 0.5, 0.43067655807339306, 0.0, 0.0, 0.0, 0.5802792108518124, 0.0, 0.0, 0.0, 0.0, 0.38685280723454163, 0.6309297535714574, 0.3333333333333333, 0.0, 0.8503449055347547, 0.30102999566398114, 0.43067655807339306, 1.0, 1.0, 0.0, 0.38685280723454163, 0.8315546295836226, 1.0, 0.5, 1.0, 0.0, 0.5802792108518124, 0.0, 0.0, 0.6309297535714574, 0.3295827480202853, 0.6309297535714574, 0.38685280723454163, 0.6309297535714574, 1.0, 0.2890648263178878, 0.0, 0.0, 0.0, 0.2890648263178878, 0.3562071871080222, 0.3333333333333333, 1.0, 1.0, 0.43067655807339306, 1.0, 0.38685280723454163, 1.0, 1.0, 0.0, 0.0, 1.0, 1.0, 0.3333333333333333, 1.0, 0.0, 0.0, 1.0, 0.0, 0.0, 1.0, 0.0, 0.0, 0.9197207891481877, 0.0, 1.0, 0.0, 0.6309297535714574, 0.0, 0.6309297535714574, 0.6309297535714574, 1.0, 1.0, 0.2890648263178878, 1.0, 0.38685280723454163, 1.0, 1.0, 0.6309297535714574, 1.0, 0.3154648767857287, 0.0, 0.0, 0.8065735963827292, 1.0, 0.0, 0.0, 0.6309297535714574, 0.2640681225725909, 1.0, 0.43067655807339306, 0.38685280723454163, 0.43067655807339306, 0.43067655807339306, 0.3562071871080222, 0.2890648263178878, 0.3562071871080222, 0.0, 0.2890648263178878, 0.0, 1.0, 1.0, 0.3154648767857287, 0.0, 0.0, 0.0, 0.0, 0.43067655807339306, 0.0, 0.38685280723454163, 0.0, 1.0, 1.0, 0.5109559939712154, 0.0, 0.20438239758848614, 0.0, 1.0, 1.0, 0.0, 1.0, 0.0, 0.6309297535714574, 0.0, 0.0, 0.38685280723454163, 0.2890648263178878, 0.43067655807339306, 1.0, 1.0, 0.0, 0.18457569677956817, 0.8175295903539446, 0.43067655807339306, 0.43067655807339306, 1.0, 0.30102999566398114, 0.43067655807339306, 0.6309297535714574, 1.0, 1.0, 0.6309297535714574, 0.5, 0.5, 0.38685280723454163, 0.3154648767857287, 0.0, 0.0, 0.0, 0.0, 0.7903864795495062, 0.5, 0.0, 1.0, 0.5, 1.0, 0.6309297535714574, 0.0, 1.0, 0.6309297535714574, 0.0, 0.0, 0.0, 0.38685280723454163, 0.0, 1.0, 0.3562071871080222, 0.6309297535714574, 0.0, 0.0, 0.43067655807339306, 1.0, 1.0, 0.0, 0.6131471927654585, 0.0, 0.0, 1.0, 0.0, 0.6309297535714574, 0.5, 0.0, 0.6309297535714574, 1.0, 0.0, 0.0, 0.3333333333333333, 1.0, 0.0, 1.0, 0.0, 0.6052602440527058, 1.0, 0.43067655807339306, 0.6309297535714574, 0.0, 0.3154648767857287, 0.0, 0.0, 0.6309297535714574, 0.0, 0.0, 1.0, 1.0, 1.0, 0.0, 1.0, 0.0, 0.0, 0.3333333333333333, 0.0, 1.0, 0.6309297535714574, 0.3154648767857287, 0.0, 0.6309297535714574, 0.43067655807339306, 0.3333333333333333, 0.5, 0.0, 0.0, 0.0, 1.0, 0.2890648263178878, 0.6309297535714574, 0.2890648263178878, 1.0, 1.0, 0.30102999566398114, 0.0, 0.0, 0.4911492931622974, 0.0, 0.6309297535714574, 0.5437713091520254, 0.38685280723454163, 1.0, 0.0, 1.0, 0.6309297535714574, 0.5, 0.0, 1.0, 1.0, 0.6131471927654585, 0.6309297535714574, 0.0, 0.6309297535714574, 1.0, 0.6309297535714574, 0.2960819109658653, 0.43067655807339306, 0.0, 0.6309297535714574, 0.0, 0.6309297535714574, 0.5, 1.0, 0.0, 0.0, 0.0, 0.0, 0.8503449055347547, 0.0, 0.38685280723454163, 0.0, 0.3154648767857287, 0.0, 0.0, 0.3333333333333333, 1.0, 1.0, 0.0, 1.0, 0.3333333333333333, 0.6309297535714574, 0.5, 0.0, 0.6309297535714574, 0.0, 0.0, 0.0, 1.0, 1.0, 0.0, 1.0, 0.0, 0.30102999566398114, 0.6509209298071325, 1.0, 0.43067655807339306, 0.2890648263178878, 1.0, 0.0, 0.0, 0.2890648263178878, 0.0, 0.0, 0.0, 0.0, 1.0, 1.0, 0.0, 0.0, 0.43067655807339306, 0.5109559939712154, 1.0, 0.0, 0.7903864795495062, 1.0, 1.0, 0.6309297535714574, 0.0, 0.43067655807339306, 1.0, 0.3836491390379003, 0.8772153153380494, 1.0, 0.0, 0.6309297535714574, 0.0, 1.0, 0.3562071871080222, 0.0, 0.0, 1.0, 0.0, 1.0, 0.0, 0.5, 1.0, 0.6309297535714574, 0.0, 0.0, 0.6309297535714574, 0.3562071871080222, 1.0, 0.0, 0.0, 0.3333333333333333, 0.43067655807339306, 0.0, 1.0, 0.0, 1.0, 0.0, 0.3154648767857287, 0.0, 0.0, 0.5, 1.0, 0.0, 0.19342640361727081, 0.0, 0.0, 0.0, 0.0, 0.0, 1.0, 0.5, 0.0, 0.3333333333333333, 0.5, 0.38685280723454163, 0.0, 0.0, 1.0, 1.0, 0.5437713091520254, 0.6309297535714574, 0.0, 0.0, 0.0, 0.3562071871080222, 0.0, 0.0, 1.0, 0.0, 1.0, 0.43067655807339306, 0.0, 0.0, 0.5, 0.0, 0.0, 0.0, 1.0, 1.0, 0.0, 1.0, 0.0, 0.0, 0.38685280723454163, 0.3333333333333333, 1.0, 1.0, 1.0, 0.0, 0.0, 0.2640681225725909, 1.0, 0.5, 0.0, 0.0, 0.6509209298071325, 1.0, 0.6309297535714574, 0.0, 0.0, 0.0, 0.0, 0.0, 0.6309297535714574, 0.0, 0.0, 0.43067655807339306, 0.3154648767857287, 0.3562071871080222, 0.5, 0.5, 0.6309297535714574, 0.0, 0.3562071871080222, 0.6309297535714574, 0.0, 0.43067655807339306, 0.0, 1.0, 0.3154648767857287, 1.0, 0.6309297535714574, 0.0, 0.0, 0.2890648263178878, 0.0, 1.0, 0.0, 0.6309297535714574, 0.0, 0.3562071871080222, 0.6309297535714574, 1.0, 1.0, 0.0, 0.5, 0.0, 0.3333333333333333, 0.3562071871080222, 1.0, 0.0, 0.0, 1.0, 0.0, 0.30102999566398114, 1.0, 0.38685280723454163, 0.2890648263178878, 0.5, 1.0, 0.0, 0.0, 1.0, 0.0, 0.5375811193822124, 0.3333333333333333, 0.3333333333333333, 0.0, 0.0, 0.0, 0.2890648263178878, 0.0, 0.2890648263178878, 0.0, 0.0, 0.0, 0.0, 1.0, 0.2890648263178878, 0.0, 0.5, 0.6309297535714574, 1.0, 1.0, 0.0, 0.6309297535714574, 0.3562071871080222, 0.5, 0.6131471927654585, 0.9197207891481877, 0.6309297535714574, 0.7328286204777911, 0.3333333333333333, 1.0, 0.5, 0.6309297535714574, 0.6240505200038378, 0.5, 0.0, 0.0, 1.0, 1.0, 0.0, 1.0, 0.6309297535714574, 0.5, 0.0, 0.0, 0.0, 0.3562071871080222, 0.0, 1.0, 0.0, 1.0, 1.0, 0.0, 0.0, 0.6309297535714574, 0.0, 0.5, 0.5, 0.0, 1.0, 0.0, 0.6309297535714574, 0.43067655807339306, 0.3154648767857287, 0.0, 0.0, 0.0, 0.0, 0.0, 0.0, 0.0, 0.2890648263178878, 0.6309297535714574, 0.0, 0.3562071871080222, 1.0, 0.0, 0.6131471927654585, 0.0, 0.6309297535714574, 0.0, 0.0, 0.5, 0.43067655807339306, 0.30102999566398114, 0.2890648263178878, 0.0, 1.0, 0.0, 0.0, 0.5, 0.6309297535714574, 0.8194270280062368, 1.0, 0.0, 0.0, 0.3562071871080222, 0.0, 1.0, 0.6309297535714574, 1.0, 1.0, 1.0, 0.6131471927654585, 0.6309297535714574, 0.0, 1.0, 0.6309297535714574, 0.0, 1.0, 1.0, 0.3562071871080222, 0.43067655807339306, 0.6309297535714574, 0.0, 1.0, 0.0, 1.0, 0.43067655807339306, 0.0, 0.6309297535714574, 1.0, 1.0, 0.0, 0.38685280723454163, 1.0, 0.0, 0.0, 0.6240505200038378, 0.2890648263178878, 0.38685280723454163, 0.0, 0.5, 0.6309297535714574, 1.0, 0.8772153153380494, 1.0, 0.9197207891481877, 0.2640681225725909, 0.6934264036172708, 0.6309297535714574, 0.6934264036172708, 0.5, 0.0, 0.0, 0.19342640361727081, 0.6131471927654585, 0.30102999566398114, 0.9197207891481877, 0.0, 0.38685280723454163, 0.0, 0.30102999566398114, 0.8315546295836226, 0.38685280723454163, 0.0, 0.5, 0.6309297535714574, 0.5, 1.0, 0.0, 1.0, 0.6309297535714574, 0.0, 0.0, 0.6309297535714574, 0.0, 0.0, 0.30102999566398114, 0.4441228664487979, 0.6309297535714574, 0.3154648767857287, 0.0, 0.0, 1.0, 0.0, 1.0, 0.5, 0.6309297535714574, 1.0, 1.0, 0.6131471927654585, 0.0, 0.3333333333333333, 0.0, 0.30102999566398114, 0.20210734650054762, 0.6309297535714574, 0.17723928678404774, 0.38685280723454163, 1.0, 0.38685280723454163, 0.38685280723454163, 0.0, 0.0, 0.5, 1.0, 0.43067655807339306, 0.0, 0.0, 0.6309297535714574, 0.0, 0.3562071871080222, 0.8772153153380494, 0.3333333333333333, 0.0, 0.3154648767857287, 1.0, 0.0, 0.483812883166777, 0.0, 0.0, 1.0, 0.38685280723454163, 1.0, 1.0, 0.6131471927654585, 0.5, 0.0, 0.6309297535714574, 1.0, 0.0, 0.7903864795495062, 0.0, 0.0, 0.0, 1.0, 0.0, 0.0, 0.0, 0.3333333333333333, 0.0, 0.6309297535714574, 0.0, 1.0, 1.0, 1.0, 0.37590633587120725, 0.0, 0.3154648767857287, 0.0, 1.0, 0.0, 0.2890648263178878, 0.6131471927654585, 0.0, 0.38685280723454163, 0.5, 0.43067655807339306, 0.0, 0.0, 1.0, 0.30102999566398114, 0.0, 1.0, 0.6309297535714574, 0.6309297535714574, 0.5, 0.0, 0.8503449055347547, 1.0, 0.38685280723454163, 0.0, 0.3154648767857287, 0.0, 0.19342640361727081, 1.0, 0.0, 0.0, 0.0, 0.0, 1.0, 0.6309297535714574, 0.0, 0.0, 0.0, 0.6052602440527058, 0.6309297535714574, 1.0, 0.0, 1.0, 0.0, 0.38685280723454163, 0.0, 0.5, 0.0, 0.0, 0.0, 0.6309297535714574, 0.5, 1.0, 0.0, 1.0, 0.0, 0.0, 1.0, 0.6131471927654585, 1.0, 0.3562071871080222, 0.0, 0.5, 0.6309297535714574, 0.0, 0.0, 0.468450520161077, 0.5, 0.0, 0.30102999566398114, 1.0, 1.0, 0.0, 1.0, 1.0, 0.6309297535714574, 0.0, 1.0, 0.3154648767857287, 1.0, 1.0, 1.0, 0.0, 0.6309297535714574, 0.0, 0.0, 1.0, 0.3562071871080222, 0.3333333333333333, 1.0, 0.0, 0.3562071871080222, 1.0, 1.0, 0.0, 1.0, 1.0, 0.43067655807339306, 0.6309297535714574, 0.0, 0.0, 1.0, 0.0, 0.0, 0.2640681225725909, 0.0, 1.0, 0.3562071871080222, 0.43067655807339306, 0.0, 0.38685280723454163, 0.0, 1.0, 0.0, 0.0, 0.0, 0.0, 1.0, 0.0, 0.0, 0.0, 0.43067655807339306, 0.46927872602275655, 0.0, 0.0, 0.38685280723454163, 0.3562071871080222, 0.6309297535714574, 0.0, 0.2890648263178878, 0.3562071871080222, 0.0, 0.0, 0.0, 1.0, 0.0, 0.0, 0.6309297535714574, 1.0, 0.0, 0.0, 1.0, 0.0, 0.0, 0.0, 0.0, 0.3562071871080222, 0.0, 0.38685280723454163, 0.0, 0.0, 0.0, 0.2890648263178878, 0.6131471927654585, 0.0, 1.0, 1.0, 0.8065735963827292, 0.8315546295836226, 0.0, 0.38685280723454163, 0.6309297535714574, 0.0, 1.0, 1.0, 0.23719771276929624, 0.6131471927654585, 1.0, 1.0, 0.3562071871080222, 0.38685280723454163, 0.3562071871080222, 0.0, 0.0, 1.0, 0.3562071871080222, 0.43067655807339306, 0.6240505200038378, 0.0, 0.0, 0.0, 0.3562071871080222, 0.3562071871080222, 1.0, 0.0, 1.0, 0.0, 0.0, 0.5, 0.5, 1.0, 0.0, 0.0, 0.0, 1.0, 0.0, 1.0, 0.38685280723454163, 0.0, 0.0, 0.5, 0.0, 0.0, 1.0, 0.6309297535714574, 0.5, 0.3562071871080222, 0.0, 0.6309297535714574, 0.0, 1.0, 0.0, 0.0, 0.0, 0.3562071871080222, 0.6309297535714574, 0.0, 0.8503449055347547, 0.6309297535714574, 1.0, 0.3562071871080222, 0.5, 0.5, 0.0, 0.6131471927654585, 0.6309297535714574, 0.0, 0.0, 1.0, 0.6309297535714574, 0.0, 0.8772153153380494, 0.0, 0.3562071871080222, 0.0, 0.5, 0.6309297535714574, 1.0, 0.0, 1.0, 0.0, 0.0, 0.3562071871080222, 0.0, 0.6131471927654585, 0.0, 0.5023737407779441, 1.0, 0.0, 0.0, 0.3562071871080222, 0.38685280723454163, 0.3562071871080222, 0.0, 1.0, 1.0, 1.0, 0.0, 1.0, 0.6309297535714574, 0.38685280723454163, 0.0, 0.5, 0.43067655807339306, 0.6131471927654585, 1.0, 1.0, 1.0, 1.0, 0.0, 0.43067655807339306, 0.0, 0.38685280723454163, 1.0, 0.0, 1.0, 0.2640681225725909, 0.2890648263178878, 0.9197207891481877, 0.0, 0.0, 0.0, 0.43067655807339306, 0.30102999566398114, 0.38685280723454163, 0.43067655807339306, 1.0, 0.3154648767857287, 0.0, 0.0, 0.0, 0.41183384043543503, 0.30102999566398114, 1.0, 0.0, 1.0, 0.0, 0.38685280723454163, 0.0, 0.0, 0.5, 0.3333333333333333, 1.0, 0.0, 0.0, 1.0, 0.0, 0.0, 0.0, 1.0, 0.0, 0.6309297535714574, 0.5012658353418872, 0.0, 1.0, 0.0, 0.6309297535714574, 0.0, 0.5, 1.0, 0.6240505200038378, 1.0, 0.0, 0.3154648767857287, 0.9197207891481877, 1.0, 0.0, 0.0, 0.38685280723454163, 1.0, 0.43067655807339306, 0.0, 0.3154648767857287, 0.38685280723454163, 0.43067655807339306, 1.0, 0.0, 0.0, 1.0, 1.0, 0.5, 0.6309297535714574, 0.0, 0.0, 0.2890648263178878, 0.5, 0.6309297535714574, 0.5, 0.0, 1.0, 0.43067655807339306, 1.0, 0.0, 0.5, 1.0, 0.0, 0.0, 0.43067655807339306, 0.5, 0.6309297535714574, 0.6309297535714574, 0.0, 0.5, 0.0, 1.0, 0.0, 0.5, 0.2890648263178878, 0.0, 0.6309297535714574, 0.2890648263178878, 0.5, 0.7757386182436073, 0.30102999566398114, 0.0, 0.0, 0.5, 0.0, 0.0, 0.38685280723454163, 0.5, 0.6309297535714574, 0.43067655807339306, 0.0, 0.30102999566398114, 1.0, 0.0, 1.0, 1.0, 0.5, 0.0, 0.5, 0.3333333333333333, 0.0, 0.0, 0.0, 0.6309297535714574, 0.5, 0.38685280723454163, 1.0, 1.0, 0.5, 1.0, 0.2890648263178878, 0.0, 0.0, 0.5, 0.0, 0.38685280723454163, 0.17723928678404774, 1.0, 1.0, 0.6309297535714574, 0.43067655807339306, 0.3154648767857287, 0.0, 1.0, 0.6309297535714574, 0.0, 0.6309297535714574, 1.0, 0.38685280723454163, 0.0, 0.2890648263178878, 0.0, 1.0, 0.38685280723454163, 1.0, 0.38685280723454163, 1.0, 1.0, 0.3333333333333333, 0.0, 0.6309297535714574, 0.0, 1.0, 0.0, 0.0, 1.0, 1.0, 0.30657359638272924, 0.0, 0.6309297535714574, 0.43067655807339306, 1.0, 0.0, 1.0, 0.3154648767857287, 1.0, 0.6309297535714574, 0.0, 0.3154648767857287, 0.0, 0.0, 0.30657359638272924, 0.0, 0.3154648767857287, 0.8175295903539446, 0.38685280723454163, 0.0, 0.0, 0.3154648767857287, 1.0, 0.0, 0.43067655807339306, 0.3562071871080222, 1.0, 0.6309297535714574, 0.0, 0.0, 0.0, 0.38685280723454163, 0.5642221110316635, 1.0, 0.5, 1.0, 0.0, 0.0, 0.0, 0.6309297535714574, 0.7039180890341348, 0.0, 0.43067655807339306, 0.6309297535714574, 0.30102999566398114, 0.0, 1.0, 0.6309297535714574, 1.0, 0.0, 1.0, 1.0, 0.6309297535714574, 0.0, 0.38685280723454163, 1.0, 0.5, 0.3154648767857287, 0.0, 0.30102999566398114, 0.8065735963827292, 0.0, 0.0, 0.0, 0.0, 0.6309297535714574, 0.3562071871080222, 0.0, 0.5, 0.0, 0.0, 0.0, 0.3333333333333333, 0.38685280723454163, 0.0, 1.0, 0.30102999566398114, 0.38685280723454163, 1.0, 1.0, 0.0, 0.0, 0.0, 0.30102999566398114, 0.38685280723454163, 0.0, 0.6309297535714574, 0.0, 0.43067655807339306, 0.0, 0.0, 0.0, 0.0, 0.43067655807339306, 0.38685280723454163, 0.6309297535714574, 0.0, 0.0, 1.0, 0.6309297535714574, 0.0, 0.30102999566398114, 0.6309297535714574, 0.30102999566398114, 0.0, 0.3333333333333333, 1.0, 0.30102999566398114, 0.0, 0.0, 1.0, 1.0, 0.3154648767857287, 0.0, 0.6309297535714574, 0.5, 0.0, 1.0, 0.0, 1.0, 0.5, 1.0, 1.0, 0.8503449055347547, 0.5, 0.414436999553344, 0.2890648263178878, 0.0, 0.0, 1.0, 1.0, 0.0, 0.20438239758848614, 0.0, 0.3562071871080222, 1.0, 0.0, 0.30102999566398114, 1.0, 1.0, 0.0, 0.43067655807339306, 0.0, 1.0, 0.0, 1.0, 1.0, 0.6309297535714574, 0.6934264036172708, 0.30657359638272924, 0.3154648767857287, 0.19342640361727081, 1.0, 0.0, 0.5, 0.0, 1.0, 0.5, 0.0, 0.0, 0.0, 0.0, 0.38685280723454163, 0.38685280723454163, 1.0, 0.0, 0.9197207891481877, 0.6309297535714574, 1.0, 0.6131471927654585, 0.0, 0.7039180890341348, 0.0, 0.38685280723454163, 0.5, 1.0, 0.9197207891481877, 0.0, 0.0, 0.0, 0.0, 1.0, 0.0, 0.0, 1.0, 0.0, 0.30102999566398114, 0.38685280723454163, 0.0, 1.0, 0.8772153153380494, 1.0, 1.0, 0.5437713091520254, 0.43067655807339306, 0.0, 1.0, 0.38685280723454163, 0.0, 0.0, 0.6309297535714574, 0.0, 1.0, 0.5, 0.0, 0.0, 1.0, 0.0, 0.30657359638272924, 0.0, 0.0, 0.0, 0.30102999566398114, 0.0, 0.5706417189553201, 0.0, 0.20438239758848614, 0.2890648263178878, 1.0, 1.0, 0.6131471927654585, 0.0, 0.0, 0.0, 1.0, 0.0, 0.0, 1.0, 0.6309297535714574, 1.0, 1.0, 0.23719771276929624, 0.0, 0.0, 0.5, 0.38685280723454163, 1.0, 0.0, 0.0, 0.0, 0.38685280723454163, 0.38685280723454163, 0.0, 0.0, 0.0, 0.4967432029864876, 1.0, 0.5912352048230278, 1.0, 0.5, 0.5, 0.0, 0.0, 0.0, 0.0, 0.6309297535714574, 0.6309297535714574, 1.0, 0.0, 0.0, 0.3562071871080222, 0.23719771276929624, 0.0, 0.43067655807339306, 0.5, 0.6309297535714574, 0.0, 0.0, 0.378002100396839, 1.0, 0.3333333333333333, 0.2890648263178878, 0.5, 0.30102999566398114, 0.0, 0.38685280723454163, 0.38685280723454163, 1.0, 0.38685280723454163, 0.2890648263178878, 0.43067655807339306, 0.6309297535714574, 0.0, 0.0, 1.0, 0.3562071871080222, 0.0, 1.0, 0.6309297535714574, 1.0, 0.468450520161077, 0.3562071871080222, 0.5, 0.6309297535714574, 1.0, 0.0, 0.38685280723454163, 0.0, 0.3333333333333333, 0.0, 0.18457569677956817, 0.6131471927654585, 0.43067655807339306, 0.7903864795495062, 0.6309297535714574, 0.30102999566398114, 0.38685280723454163, 0.6309297535714574, 0.3562071871080222, 0.0, 0.0, 0.43067655807339306, 1.0, 0.5, 1.0, 0.6309297535714574, 0.0, 1.0, 0.8503449055347547, 1.0, 0.43067655807339306, 0.0, 0.6131471927654585, 0.43067655807339306, 0.3154648767857287, 1.0, 0.0, 0.6309297535714574, 0.38685280723454163, 0.0, 0.0, 0.0, 0.0, 1.0, 0.43067655807339306, 0.0, 1.0, 0.2890648263178878, 0.3562071871080222, 0.0, 0.3154648767857287, 0.2890648263178878, 0.6309297535714574, 0.9197207891481877, 0.30102999566398114, 1.0, 0.2184074368181642, 0.0, 0.5, 0.0, 1.0, 0.0, 0.6309297535714574, 0.0, 0.6131471927654585, 1.0, 0.0, 0.0, 0.5, 0.0, 0.5, 0.0, 0.30657359638272924, 1.0, 0.30102999566398114, 0.0, 1.0, 0.0, 1.0, 1.0, 1.0, 0.3154648767857287, 0.6309297535714574, 0.6309297535714574, 1.0, 0.0, 0.0, 0.5, 0.5, 0.38685280723454163, 0.0, 0.6934264036172708, 0.38685280723454163, 0.5, 0.17723928678404774, 0.0, 0.0, 0.6052602440527058, 0.0, 1.0, 0.7039180890341348, 0.0, 1.0, 0.6309297535714574, 0.6131471927654585, 1.0, 0.38685280723454163, 0.0, 0.2890648263178878, 0.0, 0.0, 1.0, 0.0, 0.5, 1.0, 0.5249810332008934, 0.0, 0.6131471927654585, 0.5249810332008934, 1.0, 0.5, 0.0, 0.43067655807339306, 0.38685280723454163, 0.0, 0.6309297535714574, 0.0, 0.3562071871080222, 0.6309297535714574, 0.0, 0.0, 0.0, 0.0, 1.0, 0.0, 1.0, 0.6131471927654585, 0.0, 0.38685280723454163, 1.0, 0.0, 0.0, 0.0, 0.0, 0.0, 0.0, 0.0, 0.0, 1.0, 0.0, 0.0, 0.5912352048230278, 0.0, 1.0, 0.38895809436805434, 0.43067655807339306, 0.5249810332008934, 1.0, 1.0, 1.0, 1.0, 0.0, 0.0, 1.0, 0.3562071871080222, 0.0, 0.0, 0.5, 0.5, 0.3333333333333333, 0.6309297535714574, 0.38685280723454163, 0.38685280723454163, 0.0, 0.0, 0.6309297535714574, 0.0, 0.5, 1.0, 1.0, 0.0, 1.0, 0.6309297535714574, 1.0, 0.0, 0.0, 1.0, 1.0, 1.0, 0.3154648767857287, 0.0, 0.0, 0.35014830198348024, 0.0, 1.0, 0.6309297535714574, 0.6131471927654585, 1.0, 1.0, 0.14804095548293264, 1.0, 0.38685280723454163, 0.0, 0.0, 0.43067655807339306, 0.3333333333333333, 0.0, 1.0, 0.3154648767857287, 0.6309297535714574, 0.2890648263178878, 1.0, 0.0, 1.0, 0.0, 0.0, 0.0, 0.0, 0.0, 0.0, 0.0, 1.0, 0.6309297535714574, 1.0, 0.38685280723454163, 0.0, 0.0, 0.0, 0.5, 0.6309297535714574, 0.5714285040141098, 0.0, 0.0, 0.0, 1.0, 0.6309297535714574, 1.0, 0.3154648767857287, 1.0, 1.0, 1.0, 0.8315546295836226, 1.0, 1.0, 1.0, 1.0, 0.38685280723454163, 1.0, 1.0, 0.6309297535714574, 0.0, 0.8175295903539446, 0.0, 0.0, 0.6309297535714574, 0.5012658353418872, 0.0, 1.0, 0.0, 0.0, 0.0, 0.0, 0.0, 1.0, 0.0, 0.5, 0.6309297535714574, 0.30657359638272924, 0.43067655807339306, 0.0, 0.0, 0.0, 0.0, 0.0, 1.0, 0.5109559939712154, 0.6309297535714574, 0.6309297535714574, 1.0, 0.0, 0.3154648767857287, 0.3562071871080222, 0.3333333333333333, 0.6309297535714574, 1.0, 0.0, 0.2890648263178878, 1.0, 0.0, 1.0, 0.0, 1.0, 0.38685280723454163, 1.0, 0.0, 0.46927872602275655, 1.0, 0.6309297535714574, 1.0, 0.0, 1.0, 0.6309297535714574, 0.0, 1.0, 0.0, 1.0, 0.0, 0.0, 0.6309297535714574, 1.0, 0.5, 0.43067655807339306, 0.0, 0.0, 1.0, 0.43067655807339306, 0.0, 0.43067655807339306, 0.0, 0.2890648263178878, 0.0, 1.0, 0.0, 0.3154648767857287, 1.0, 0.6309297535714574, 0.0, 0.0, 0.0, 0.4824755593907551, 0.6309297535714574, 0.3154648767857287, 0.5, 0.0, 0.0, 0.6309297535714574, 0.30657359638272924, 0.5, 1.0, 0.0, 0.0, 0.0, 0.6309297535714574, 1.0, 0.0, 0.0, 0.9010126104210695, 0.0, 0.6309297535714574, 1.0, 0.3154648767857287, 1.0, 0.0, 0.6309297535714574, 0.0, 0.0, 0.3562071871080222, 0.3562071871080222, 0.6309297535714574, 0.0, 0.5, 1.0, 0.17723928678404774, 0.19342640361727081, 0.5, 1.0, 0.0, 0.3562071871080222, 1.0, 0.3154648767857287, 0.6309297535714574, 0.38685280723454163, 1.0, 0.5, 1.0, 1.0, 0.6309297535714574, 0.0, 0.19342640361727081, 0.5, 1.0, 1.0, 0.0, 0.5, 1.0, 0.5, 0.3562071871080222, 1.0, 0.38685280723454163, 0.49818925746641285, 0.0, 0.30102999566398114, 1.0, 0.5, 0.0, 0.6309297535714574, 0.2890648263178878, 0.6309297535714574, 1.0, 1.0, 0.9197207891481877, 0.0, 0.6309297535714574, 1.0, 0.3154648767857287, 1.0, 0.0, 1.0, 0.3154648767857287, 0.0, 0.43067655807339306, 0.0, 0.0, 0.0, 0.0, 0.0, 0.2890648263178878, 0.0, 0.0, 0.0, 0.0, 0.0, 0.0, 0.3562071871080222, 0.0, 1.0, 0.38685280723454163, 0.3333333333333333, 1.0, 0.5, 0.5, 0.0, 0.6934264036172708, 1.0, 0.6509209298071325, 0.0, 0.0, 0.0, 1.0, 1.0, 0.6309297535714574, 0.6309297535714574, 0.2890648263178878, 1.0, 0.0, 0.0, 0.6309297535714574, 0.5, 0.0, 0.0, 0.0, 1.0, 0.0, 0.0, 0.0, 0.0, 0.0, 0.0, 0.3562071871080222, 0.3562071871080222, 0.0, 0.0, 0.0, 0.3154648767857287, 0.3562071871080222, 0.0, 0.0, 1.0, 1.0, 1.0, 0.6309297535714574, 0.0, 0.38685280723454163, 0.0, 1.0, 0.30102999566398114, 0.0, 0.0, 0.3562071871080222, 0.0, 1.0, 0.5, 0.43067655807339306, 0.0, 0.0, 0.0, 0.43067655807339306, 0.0, 1.0, 0.0, 1.0, 0.30657359638272924, 0.0, 0.3562071871080222, 0.0, 1.0, 1.0, 0.0, 0.6309297535714574, 0.0, 0.45250815297345076, 1.0, 0.0, 0.17723928678404774, 0.0, 0.5, 1.0, 0.0, 0.0, 0.0, 0.2890648263178878, 0.9197207891481877, 0.43067655807339306, 0.0, 0.3333333333333333, 0.0, 0.30102999566398114, 0.6131471927654585, 0.0, 0.6309297535714574, 0.5, 1.0, 0.0, 0.2184074368181642, 0.0, 0.0, 0.43067655807339306, 0.5, 0.0, 0.17723928678404774, 1.0, 0.0, 0.3836491390379003, 0.0, 1.0, 0.5, 0.5, 1.0, 0.5, 1.0, 1.0, 0.0, 1.0, 1.0, 0.0, 0.6934264036172708, 0.9197207891481877, 0.43067655807339306, 0.38685280723454163, 0.6309297535714574, 0.6309297535714574, 0.0, 0.0, 0.38685280723454163, 1.0, 0.38685280723454163, 1.0, 0.38685280723454163, 0.0, 0.18457569677956817, 0.0, 0.0, 0.6105456988825856, 1.0, 0.5, 0.0, 1.0, 0.0, 0.43067655807339306, 0.0, 0.6309297535714574, 0.30102999566398114, 0.0, 0.30102999566398114, 0.6309297535714574, 0.30657359638272924, 0.30102999566398114, 0.20438239758848614, 0.6309297535714574, 0.0, 0.3154648767857287, 0.6309297535714574, 0.38685280723454163, 0.5, 0.43067655807339306, 0.0, 0.5, 0.0, 0.0, 0.0, 1.0, 0.3562071871080222, 0.9197207891481877, 0.8547529378296288, 0.38685280723454163, 1.0, 1.0, 1.0, 0.0, 1.0, 0.2890648263178878, 1.0, 0.3154648767857287, 1.0, 0.30102999566398114, 0.0, 1.0, 1.0, 0.2890648263178878, 0.6309297535714574, 0.3154648767857287, 0.6309297535714574, 0.0, 0.0, 0.0, 1.0, 1.0, 0.9066276098484508, 1.0, 0.38685280723454163, 0.5, 0.9674679834891693, 0.5, 0.38685280723454163, 0.0, 1.0, 0.2890648263178878, 0.0, 1.0, 0.0, 0.30657359638272924, 0.30102999566398114, 0.43067655807339306, 0.3562071871080222, 0.6309297535714574, 0.5, 0.0, 0.38685280723454163, 0.0, 0.0, 0.0, 0.0, 1.0, 0.0, 0.0, 0.0, 0.38685280723454163, 0.0, 1.0, 1.0, 0.0, 0.0, 0.6333183426878355, 0.38685280723454163, 0.38685280723454163, 0.3562071871080222, 0.6309297535714574, 0.3154648767857287, 0.0, 0.39106560501896376, 0.0, 0.0, 0.6309297535714574, 1.0, 0.6309297535714574, 0.2640681225725909, 0.6309297535714574, 0.0, 0.6309297535714574, 0.5, 0.0, 1.0, 0.0, 0.0, 1.0, 0.0, 1.0, 0.0, 0.0, 0.3562071871080222, 0.0, 1.0, 0.3562071871080222, 0.8772153153380494, 0.0, 0.6309297535714574, 0.0, 0.0, 0.6934264036172708, 0.5, 0.39780880120575696, 0.0, 1.0, 0.6309297535714574, 0.3333333333333333, 1.0, 1.0, 0.5, 0.0, 0.43067655807339306, 0.0, 1.0, 0.0, 0.0, 0.3333333333333333, 0.0, 0.0, 0.0, 0.0, 0.0, 0.5, 0.0, 1.0, 0.6131471927654585, 0.0, 0.0, 0.5249810332008934, 0.6309297535714574, 1.0, 0.0, 1.0, 0.0, 0.2890648263178878, 0.0, 0.0, 0.6131471927654585, 0.30657359638272924, 1.0, 0.8065735963827292, 0.0, 0.38685280723454163, 1.0, 0.6131471927654585, 0.2890648263178878, 0.0, 0.43067655807339306, 0.0, 0.38685280723454163, 0.0, 0.6309297535714574, 0.0, 1.0, 1.0, 0.0, 0.8065735963827292, 0.0, 0.0, 1.0, 0.2890648263178878, 0.0, 1.0, 0.0, 0.30102999566398114, 0.6309297535714574, 0.0, 0.43067655807339306, 0.0, 1.0, 1.0, 0.3154648767857287, 0.38685280723454163, 0.23719771276929624, 0.6309297535714574, 1.0, 0.0, 0.2890648263178878, 0.9197207891481877, 0.43067655807339306, 0.43067655807339306, 1.0, 0.0, 0.0, 0.0, 0.38685280723454163, 1.0, 0.9197207891481877, 0.6309297535714574, 0.0, 0.43067655807339306, 0.43067655807339306, 0.0, 0.6309297535714574, 1.0, 0.43067655807339306, 0.23719771276929624, 0.0, 0.0, 0.0, 1.0, 1.0, 0.6131471927654585, 0.6309297535714574, 0.3154648767857287, 0.483812883166777, 0.43067655807339306, 0.6309297535714574, 0.0, 0.6309297535714574, 0.0, 0.38685280723454163, 0.0, 0.6309297535714574, 0.0, 0.3333333333333333, 1.0, 0.43067655807339306, 0.9060254355346824, 0.0, 0.5, 0.0, 0.0, 0.0, 0.0, 1.0, 0.0, 0.20438239758848614, 1.0, 0.0, 1.0, 0.8065735963827292, 0.0, 0.23463936301137828, 0.43067655807339306, 1.0, 0.38685280723454163, 0.5, 1.0, 0.0, 0.468450520161077, 1.0, 0.30102999566398114, 1.0, 0.0, 0.8772153153380494, 0.3333333333333333, 0.6309297535714574, 0.0, 0.0, 0.0, 0.0, 0.5249810332008934, 0.0, 1.0, 0.0, 0.0, 1.0, 0.0, 0.0, 0.5, 0.0, 0.0, 0.6131471927654585, 0.0, 0.0, 0.0, 0.0, 0.38685280723454163, 0.6309297535714574, 0.38685280723454163, 0.0, 0.19342640361727081, 0.23719771276929624, 0.43067655807339306, 0.0, 0.0, 0.6131471927654585, 0.0, 0.43067655807339306, 0.6309297535714574, 0.6309297535714574, 1.0, 1.0, 0.6131471927654585, 0.0, 0.38685280723454163, 0.38685280723454163, 1.0, 1.0, 1.0, 0.0, 1.0, 1.0, 0.30102999566398114, 0.0, 1.0, 0.2890648263178878, 0.3562071871080222, 0.0, 1.0, 0.7039180890341348, 1.0, 0.3333333333333333, 1.0, 1.0, 1.0, 0.0, 0.8772153153380494, 0.43067655807339306, 0.0, 0.6713860725233042, 0.0, 0.5, 0.0, 0.5, 0.0, 0.141266972859829, 0.0, 1.0, 0.38685280723454163, 0.3154648767857287, 0.6309297535714574, 0.0, 1.0, 0.38685280723454163, 1.0, 0.38685280723454163, 0.0, 0.6309297535714574, 0.483812883166777, 0.6309297535714574, 1.0, 0.0, 1.0, 0.0, 0.9197207891481877, 0.3562071871080222, 0.0, 0.8529278650606569, 0.0, 1.0, 0.6309297535714574, 0.43067655807339306, 1.0, 0.6309297535714574, 0.6309297535714574, 1.0, 0.5, 0.0, 1.0, 0.0, 0.0, 0.3562071871080222, 0.38685280723454163, 0.6309297535714574, 0.3154648767857287, 0.0, 1.0, 1.0, 0.0, 0.6309297535714574, 1.0, 0.2890648263178878, 0.6309297535714574, 0.0, 1.0, 0.0, 0.0, 0.38685280723454163, 0.0, 0.6309297535714574, 1.0, 1.0, 0.6309297535714574, 0.7903864795495062, 0.5, 0.43067655807339306, 1.0, 0.8175295903539446, 0.43067655807339306, 0.0, 0.0, 1.0, 1.0, 0.2890648263178878, 0.0, 1.0, 0.0, 1.0, 0.0, 0.0, 0.0, 0.6131471927654585, 1.0, 1.0, 1.0, 0.0, 0.5, 0.3562071871080222, 0.5, 0.0, 0.0, 1.0, 0.43067655807339306, 0.3333333333333333, 0.8503449055347547, 0.38685280723454163, 0.0, 0.30102999566398114, 0.6309297535714574, 0.0, 0.5, 0.6131471927654585, 0.0, 1.0, 0.38685280723454163, 0.6309297535714574, 0.6309297535714574, 0.0, 0.0, 0.30102999566398114, 1.0, 0.0, 0.0, 0.2890648263178878, 0.0, 0.6934264036172708, 0.6309297535714574, 1.0, 0.38685280723454163, 0.38685280723454163, 0.3154648767857287, 0.3562071871080222, 1.0, 0.0, 0.0, 0.6309297535714574, 0.20210734650054762, 0.0, 0.38685280723454163, 0.6309297535714574, 0.3154648767857287, 1.0, 1.0, 0.8065735963827292, 0.0, 0.5, 0.0, 1.0, 1.0, 0.0, 0.6309297535714574, 0.5, 0.0, 0.0, 0.6309297535714574, 0.0, 0.0, 0.43067655807339306, 0.0, 1.0, 0.0, 0.6309297535714574, 0.6131471927654585, 0.3333333333333333, 0.0, 0.0, 0.5, 1.0, 1.0, 0.0, 0.0, 1.0, 0.3333333333333333, 0.5, 1.0, 0.30102999566398114, 0.0, 0.0, 0.43067655807339306, 0.0, 0.6049306994552044, 0.30102999566398114, 0.6309297535714574, 0.6309297535714574, 1.0, 1.0, 0.4632423659320676, 0.5, 0.6309297535714574, 0.0, 0.6309297535714574, 0.0, 0.3154648767857287, 1.0, 0.3562071871080222, 1.0, 0.0, 0.0, 0.3333333333333333, 0.0, 0.3562071871080222, 0.3154648767857287, 0.3562071871080222, 0.5, 1.0, 0.0, 1.0, 0.6309297535714574, 0.7977228895450267, 0.6131471927654585, 1.0, 1.0, 0.8315546295836226, 1.0, 0.30102999566398114, 0.3154648767857287, 0.6309297535714574, 0.0, 0.0, 0.6309297535714574, 0.0, 0.0, 0.0, 1.0, 0.5, 0.0, 0.0, 0.43067655807339306, 0.0, 0.38685280723454163, 0.43067655807339306, 0.6309297535714574, 0.3154648767857287, 0.0, 0.8772153153380494, 0.6975637657739949, 0.0, 1.0, 0.0, 1.0, 0.0, 0.6240505200038378, 0.8772153153380494, 0.43067655807339306, 0.30657359638272924, 0.6052602440527058, 1.0, 0.0, 0.0, 0.0, 1.0, 0.0, 0.0, 0.3333333333333333, 1.0, 0.0, 0.5, 1.0, 0.6052602440527058, 1.0, 1.0, 0.6309297535714574, 0.0, 1.0, 0.43067655807339306, 0.38685280723454163, 0.0, 0.6309297535714574, 0.6131471927654585, 0.0, 0.0, 1.0, 1.0, 0.5, 0.43067655807339306, 0.0, 1.0, 1.0, 0.8772153153380494, 0.3154648767857287, 0.2890648263178878, 0.6131471927654585, 0.30657359638272924, 0.8175295903539446, 0.0, 0.8503449055347547, 0.4824755593907551, 0.18457569677956817, 0.0, 1.0, 1.0, 0.4824755593907551, 0.2184074368181642, 0.0, 1.0, 0.6052602440527058, 1.0, 0.6309297535714574, 0.0, 0.6131471927654585, 0.38895809436805434, 0.6309297535714574, 1.0, 0.0, 1.0, 1.0, 0.43067655807339306, 0.2890648263178878, 0.0, 0.0, 0.2890648263178878, 0.0, 0.38685280723454163, 1.0, 1.0, 0.0, 0.41183384043543503, 0.0, 0.0, 0.6309297535714574, 0.0, 1.0, 0.39106560501896376, 0.0, 0.0, 0.6309297535714574, 0.6309297535714574, 0.0, 1.0, 0.3154648767857287, 0.5, 1.0, 0.3562071871080222, 0.38685280723454163, 1.0, 1.0, 0.7653606369886218, 0.3333333333333333, 0.0, 0.6309297535714574, 1.0, 0.3154648767857287, 1.0, 1.0, 1.0, 1.0, 0.3562071871080222, 0.43067655807339306, 0.8315546295836226, 0.3333333333333333, 0.0, 1.0, 0.3154648767857287, 0.38685280723454163, 0.3562071871080222, 0.0, 1.0, 0.6309297535714574, 0.6131471927654585, 0.6309297535714574, 1.0, 0.3154648767857287, 0.2890648263178878, 0.6309297535714574, 0.0, 0.38685280723454163, 0.0, 1.0, 0.5, 0.0, 0.0, 0.3562071871080222, 0.2640681225725909, 0.0, 0.0, 0.6309297535714574, 0.0, 0.3333333333333333, 0.2890648263178878, 0.9197207891481877, 0.5, 0.5, 0.38685280723454163, 0.3562071871080222, 0.0, 0.0, 0.3562071871080222, 1.0, 0.0, 1.0, 0.0, 0.0, 0.0, 0.38685280723454163, 0.19342640361727081, 0.3562071871080222, 0.0, 0.6309297535714574, 0.0, 0.0, 0.5, 1.0, 0.0, 0.4367467095119259, 0.3562071871080222, 0.5, 0.5, 0.6309297535714574, 0.2640681225725909, 0.9197207891481877, 0.38685280723454163, 0.3562071871080222, 0.6105456988825856, 0.0, 0.0, 1.0, 0.6240505200038378, 0.0, 0.0, 0.6508205185601093, 0.0, 0.6309297535714574, 0.0, 0.43067655807339306, 0.3333333333333333, 0.6309297535714574, 0.30102999566398114, 1.0, 0.38685280723454163, 0.38685280723454163, 0.0, 1.0, 0.6131471927654585, 1.0, 0.0, 0.0, 0.0, 0.0, 0.3333333333333333, 1.0, 0.0, 0.0, 0.0, 1.0, 1.0, 1.0, 0.3333333333333333, 0.3562071871080222, 1.0, 1.0, 1.0, 0.5, 0.5, 1.0, 0.0, 0.8175295903539446, 0.0, 0.0, 1.0, 0.5, 1.0, 0.0, 0.0, 0.6309297535714574, 1.0, 1.0, 0.0, 1.0, 0.0, 0.6309297535714574, 0.0, 0.38685280723454163, 0.0, 0.0, 0.23719771276929624, 0.6309297535714574, 0.5, 0.0, 0.0, 0.3562071871080222, 0.0, 1.0, 0.2640681225725909, 0.41183384043543503, 1.0, 0.0, 0.6309297535714574, 0.0, 1.0, 0.38685280723454163, 1.0, 1.0, 0.43067655807339306, 1.0, 0.38685280723454163, 0.43067655807339306, 0.3154648767857287, 0.6309297535714574, 0.18457569677956817, 0.5, 0.5, 0.3562071871080222, 0.2890648263178878, 0.19342640361727081, 1.0, 1.0, 0.0, 0.0, 0.0, 0.0, 0.0, 0.2640681225725909, 1.0, 1.0, 0.43067655807339306, 0.6309297535714574, 0.5, 0.0, 0.0, 0.0, 0.8503449055347547, 1.0, 1.0, 0.0, 1.0, 1.0, 0.3154648767857287, 0.0, 0.0, 0.0, 0.6309297535714574, 0.0, 1.0, 1.0, 0.8065735963827292, 0.9197207891481877, 0.0, 1.0, 0.0, 0.43067655807339306, 0.0, 0.0, 0.38685280723454163, 0.0, 1.0, 0.0, 0.5, 0.38685280723454163, 0.0, 0.6309297535714574, 1.0, 0.0, 0.0, 1.0, 0.6309297535714574, 0.38685280723454163, 0.6309297535714574, 1.0, 0.6052602440527058, 0.43067655807339306, 0.3333333333333333, 0.43067655807339306, 1.0, 0.0, 1.0, 1.0, 0.0, 0.3154648767857287, 1.0, 0.4574945261898617, 0.3692678014667499, 0.0, 0.0, 0.2890648263178878, 0.6309297535714574, 0.0, 1.0, 0.0, 0.6309297535714574, 0.38685280723454163, 0.0, 1.0, 0.0, 0.0, 0.5, 0.0, 0.3333333333333333, 0.6309297535714574, 0.6309297535714574, 1.0, 0.38685280723454163, 0.0, 1.0, 1.0, 0.6309297535714574, 0.30657359638272924, 0.0, 1.0, 0.3562071871080222, 0.0, 1.0, 0.30102999566398114, 0.43067655807339306, 0.0, 0.5, 0.6309297535714574, 1.0, 0.30102999566398114, 0.38685280723454163, 0.0, 1.0, 0.0, 0.43067655807339306, 0.0, 0.0, 0.6309297535714574, 0.30657359638272924, 0.3585335885081331, 1.0, 1.0, 1.0, 1.0, 0.0, 0.0, 0.9197207891481877, 0.0, 1.0, 0.0, 0.0, 1.0, 0.6309297535714574, 0.6309297535714574, 0.0, 1.0, 1.0, 1.0, 0.0, 0.44158011035778233, 0.3562071871080222, 1.0, 1.0, 0.0, 0.43067655807339306, 0.0, 1.0, 0.6309297535714574, 0.0, 0.0, 1.0, 0.3333333333333333, 0.5, 0.3956467236022119, 1.0, 0.6309297535714574, 0.6309297535714574, 0.0, 0.3562071871080222, 0.43067655807339306, 0.6309297535714574, 0.5, 0.38685280723454163, 0.5706417189553201, 0.44130740935663865, 0.6309297535714574, 0.0, 0.6309297535714574, 1.0, 0.0, 0.43067655807339306, 1.0, 0.0, 0.0, 0.7977228895450267, 1.0, 0.0, 0.0, 1.0, 0.0, 1.0, 1.0, 0.9197207891481877, 0.0, 0.6934264036172708, 0.6309297535714574, 0.5, 0.43067655807339306, 1.0, 0.43067655807339306, 0.0, 0.0, 0.0, 0.6131471927654585, 0.38685280723454163, 0.0, 0.6309297535714574, 0.38685280723454163, 0.0, 0.0, 0.0, 0.9674679834891693, 0.9197207891481877, 0.0, 0.38685280723454163, 0.0, 0.6309297535714574, 0.6309297535714574, 1.0, 0.0, 1.0, 1.0, 1.0, 0.6131471927654585, 0.0, 1.0, 0.0, 0.43067655807339306, 0.0, 0.38685280723454163, 0.0, 0.9197207891481877, 1.0, 0.0, 0.5802792108518124, 1.0, 0.0, 0.0, 0.0, 0.43067655807339306, 0.0, 0.8712137160156972, 0.0, 0.0, 0.0, 0.6309297535714574, 0.0, 0.0, 0.0, 0.30102999566398114, 0.0, 0.0, 0.2890648263178878, 1.0, 0.0, 1.0, 1.0, 1.0, 0.6309297535714574, 0.0, 0.9197207891481877, 1.0, 0.0, 0.5, 0.0, 0.6309297535714574, 1.0, 0.0, 1.0, 0.6309297535714574, 0.6309297535714574, 0.5, 0.8175295903539446, 0.0, 0.0, 0.0, 0.38895809436805434, 0.0, 0.0, 0.6309297535714574, 0.30102999566398114, 0.6309297535714574, 0.0, 0.0, 0.0, 0.0, 0.0, 0.5, 0.18457569677956817, 0.4824755593907551, 0.0, 0.38685280723454163, 0.23719771276929624, 1.0, 1.0, 0.2184074368181642, 0.0, 0.5012658353418872, 0.0, 0.5, 0.43067655807339306, 0.6131471927654585, 0.5, 0.0, 0.5249810332008934, 0.0, 0.0, 0.9197207891481877, 0.3562071871080222, 0.0, 1.0, 0.0, 0.3562071871080222, 0.0, 0.8503449055347547, 0.0, 0.0, 0.5, 0.6309297535714574, 0.0, 0.30657359638272924, 0.43067655807339306, 1.0, 0.0, 1.0, 0.0, 1.0, 0.0, 1.0, 1.0, 0.38685280723454163, 0.0, 0.6309297535714574, 0.0, 0.0, 0.43067655807339306, 0.0, 1.0, 0.0, 0.30102999566398114, 1.0, 0.6309297535714574, 1.0, 0.3562071871080222, 0.3562071871080222, 1.0, 0.6309297535714574, 0.2184074368181642, 0.0, 0.5249810332008934, 0.6309297535714574, 0.5, 1.0, 0.38685280723454163, 1.0, 1.0, 1.0, 1.0, 1.0, 1.0, 0.0, 1.0, 0.0, 0.0, 0.6309297535714574, 0.0, 0.0, 0.0, 0.7903864795495062, 0.0, 0.0, 0.0, 0.0, 1.0, 0.0, 0.6309297535714574, 0.0, 0.0, 0.0, 0.30102999566398114, 1.0, 0.5, 1.0, 0.0, 0.3333333333333333, 0.0, 0.0, 0.0, 0.43067655807339306, 0.3154648767857287, 0.3562071871080222, 0.6309297535714574, 0.0, 0.6309297535714574, 0.0, 0.6309297535714574, 0.5, 0.6309297535714574, 0.19342640361727081, 1.0, 1.0, 0.0, 1.0, 0.6131471927654585, 0.2890648263178878, 0.6131471927654585, 0.6131471927654585, 0.6131471927654585, 0.43067655807339306, 0.5, 0.0, 0.0, 1.0, 1.0, 0.6309297535714574, 1.0, 0.6309297535714574, 0.6309297535714574, 1.0, 0.0, 1.0, 0.5, 0.3562071871080222, 0.43067655807339306, 0.38685280723454163, 0.0, 0.30102999566398114, 0.0, 0.3333333333333333, 1.0, 1.0, 0.3562071871080222, 1.0, 0.6309297535714574, 0.0, 0.6309297535714574, 1.0, 0.3562071871080222, 0.0, 0.0, 0.0, 0.6309297535714574, 1.0, 0.6309297535714574, 0.0, 0.0, 0.43067655807339306, 1.0, 1.0, 0.5912352048230278, 1.0, 0.0, 0.8772153153380494, 0.0, 1.0, 0.6309297535714574, 1.0, 0.0, 0.3154648767857287, 1.0, 0.6309297535714574, 0.5, 1.0, 0.0, 0.0, 0.43067655807339306, 0.0, 0.0, 0.0, 0.0, 0.0, 0.0, 0.0, 0.0, 0.6131471927654585, 0.6309297535714574, 0.3562071871080222, 0.0, 0.23719771276929624, 1.0, 0.0, 0.0, 0.0, 0.0, 0.0, 0.0, 0.5, 0.6309297535714574, 1.0, 1.0, 0.43067655807339306, 1.0, 0.0, 1.0, 1.0, 1.0, 1.0, 0.2890648263178878, 0.38685280723454163, 0.0, 0.0, 0.43067655807339306, 0.0, 0.0, 0.3562071871080222, 0.0, 1.0, 0.38685280723454163, 0.0, 0.0, 0.5, 0.0, 0.0, 1.0, 0.43067655807339306, 0.43067655807339306, 1.0, 0.6309297535714574, 0.0, 0.0, 0.0, 1.0, 0.38685280723454163, 0.23719771276929624, 0.0, 0.0, 0.2900757977385809, 0.0, 1.0, 0.8503449055347547, 0.0, 1.0, 0.448643819352159, 0.0, 0.17723928678404774, 0.53917469639354, 0.0, 0.6309297535714574, 0.3154648767857287, 0.3228087653971817, 0.0, 1.0, 0.0, 0.38685280723454163, 0.3562071871080222, 0.0, 0.0, 0.0, 0.0, 1.0, 0.0, 0.43067655807339306, 0.0, 0.6309297535714574, 0.0, 0.6309297535714574, 1.0, 1.0, 0.3154648767857287, 0.5, 0.6309297535714574, 0.30102999566398114, 0.38685280723454163, 1.0, 0.5, 0.43067655807339306, 0.0, 0.3562071871080222, 0.0, 0.6309297535714574, 0.43067655807339306, 1.0, 1.0, 0.5706417189553201, 1.0, 0.6309297535714574, 0.6309297535714574, 0.3333333333333333, 0.0, 0.38685280723454163, 0.38685280723454163, 0.5, 0.38685280723454163, 0.0, 0.6309297535714574, 0.3562071871080222, 0.3562071871080222, 0.43067655807339306, 0.43067655807339306, 0.5, 0.0, 0.0, 1.0, 0.6309297535714574, 0.0, 0.1564262420075855, 1.0, 0.3333333333333333, 1.0, 0.0, 0.0, 0.0, 0.0, 0.0, 0.6309297535714574, 0.0, 0.0, 0.0, 0.0, 0.0, 0.2890648263178878, 0.43067655807339306, 0.23719771276929624, 0.3562071871080222, 0.0, 0.2890648263178878, 0.0, 1.0, 0.6309297535714574, 0.43067655807339306, 0.8503449055347547, 0.6131471927654585, 1.0, 0.3562071871080222, 1.0, 0.6309297535714574, 0.3154648767857287, 0.0, 0.6309297535714574, 0.0, 0.3562071871080222, 0.0, 0.38685280723454163, 0.0, 0.0, 0.0, 0.3562071871080222, 0.43067655807339306, 1.0, 0.5706417189553201, 1.0, 0.6309297535714574, 0.0, 0.0, 0.30102999566398114, 1.0, 0.6309297535714574, 0.0, 0.3562071871080222, 0.43067655807339306, 0.6309297535714574, 0.3562071871080222, 1.0, 0.6309297535714574, 0.0, 0.3333333333333333, 0.0, 0.0, 0.0, 1.0, 0.0, 0.0, 0.2640681225725909, 1.0, 0.0, 0.0, 1.0, 0.0, 0.5, 0.6509209298071325, 1.0, 0.0, 0.0, 0.5, 0.43067655807339306, 1.0, 0.0, 0.3333333333333333, 0.43067655807339306, 0.0, 0.9197207891481877, 0.3333333333333333, 0.0, 1.0, 0.0, 0.43067655807339306, 0.9197207891481877, 1.0, 0.0, 0.38685280723454163, 1.0, 1.0, 0.6309297535714574, 0.0, 1.0, 0.0, 0.6131471927654585, 0.0, 0.3333333333333333, 0.0, 1.0, 0.3562071871080222, 1.0, 0.0, 0.0, 0.0, 0.0, 1.0, 0.9197207891481877, 0.3154648767857287, 0.2890648263178878, 1.0, 0.416181155548731, 0.3562071871080222, 0.3333333333333333, 0.0, 0.0, 1.0, 0.6309297535714574, 0.5, 0.0, 0.6309297535714574, 1.0, 0.0, 1.0, 0.30102999566398114, 0.43067655807339306, 0.0, 0.3154648767857287, 0.0, 0.0, 0.5, 0.0, 0.0, 0.43067655807339306, 1.0, 0.0, 0.0, 0.5, 0.0, 1.0, 0.0, 0.3333333333333333, 0.6131471927654585, 0.0, 0.6309297535714574, 0.0, 0.0, 1.0, 0.0, 1.0, 0.0, 0.6309297535714574, 0.5, 0.0, 0.0, 1.0, 0.0, 0.6309297535714574, 0.8503449055347547, 0.0, 1.0, 0.3562071871080222, 0.6131471927654585, 0.0, 0.5912352048230278, 1.0, 0.0, 0.5, 1.0, 0.0, 1.0, 0.3154648767857287, 1.0, 0.0, 0.6309297535714574, 0.6309297535714574, 0.0, 1.0, 0.0, 1.0, 0.6309297535714574, 0.6309297535714574, 0.0, 0.5, 1.0, 0.6309297535714574, 1.0, 0.0, 1.0, 0.2890648263178878, 1.0, 0.0, 0.0, 1.0, 0.6309297535714574, 1.0, 0.30102999566398114, 0.0, 0.0, 0.3154648767857287, 1.0, 0.0, 1.0, 1.0, 0.0, 0.0, 0.30102999566398114, 0.0, 1.0, 0.0, 0.0, 0.5, 0.0, 0.6309297535714574, 0.0, 0.5, 1.0, 0.30102999566398114, 0.0, 1.0, 0.0, 0.0, 0.0, 0.0, 1.0, 0.0, 0.43067655807339306, 1.0, 1.0, 1.0, 0.0, 1.0, 0.30102999566398114, 0.5706417189553201, 0.0, 0.0, 0.5109559939712154, 0.0, 1.0, 1.0, 1.0, 0.0, 0.6309297535714574, 0.43067655807339306, 1.0, 0.0, 0.0, 1.0, 0.0, 0.4367467095119259, 0.0, 0.43067655807339306, 0.5, 0.3562071871080222, 0.38685280723454163, 0.0, 0.5109559939712154, 0.0, 0.0, 0.38685280723454163, 0.5, 1.0, 0.0, 0.30102999566398114, 1.0, 0.0, 0.30102999566398114, 0.3562071871080222, 0.0, 0.38685280723454163, 1.0, 0.44158011035778233, 0.5, 1.0, 0.0, 1.0, 0.0, 0.38685280723454163, 0.0, 1.0, 0.0, 1.0, 0.5714285040141098, 0.8772153153380494, 0.3154648767857287, 1.0, 0.6309297535714574, 0.0, 1.0, 0.43067655807339306, 0.2890648263178878, 0.0, 0.43067655807339306, 0.0, 0.0, 0.0, 0.6309297535714574, 0.43067655807339306, 1.0, 0.0, 0.0, 0.19342640361727081, 1.0, 0.5012658353418872, 0.0, 0.3562071871080222, 0.0, 0.6309297535714574, 1.0, 0.3562071871080222, 0.46927872602275655, 1.0, 0.6509209298071325, 0.38685280723454163, 0.0, 0.6309297535714574, 1.0, 0.0, 0.0, 0.38685280723454163, 0.0, 0.5, 0.0, 1.0, 0.0, 1.0, 0.0, 1.0, 0.0, 0.0, 0.0, 0.3562071871080222, 0.0, 0.0, 1.0, 0.0, 0.3333333333333333, 0.0, 1.0, 0.5, 1.0, 1.0, 0.0, 0.3154648767857287, 0.6309297535714574, 1.0, 0.6131471927654585, 0.0, 0.0, 0.0, 0.3154648767857287, 0.0, 0.0, 0.0, 0.30657359638272924, 1.0, 0.3562071871080222, 1.0, 0.3154648767857287, 0.6309297535714574, 0.6309297535714574, 1.0, 0.0, 1.0, 1.0, 0.0, 0.2890648263178878, 0.6309297535714574, 0.468450520161077, 0.5, 0.0, 0.6131471927654585, 0.9197207891481877, 0.3154648767857287, 1.0, 1.0, 0.0, 0.0, 0.9197207891481877, 0.6309297535714574, 1.0, 0.0, 1.0, 0.38685280723454163, 0.0, 1.0, 0.5, 0.0, 0.0, 0.0, 0.23719771276929624, 0.0, 0.0, 0.0, 1.0, 0.0, 0.3154648767857287, 1.0, 1.0, 1.0, 0.0, 0.8756458727267336, 0.0, 0.0, 0.0, 0.0, 1.0, 0.6309297535714574, 1.0, 1.0, 0.38685280723454163, 1.0, 0.0, 0.0, 1.0, 0.3333333333333333, 0.43067655807339306, 0.6309297535714574, 1.0, 1.0, 0.0, 0.6713860725233042, 0.5, 1.0, 0.38685280723454163, 1.0, 1.0, 0.5437713091520254, 0.0, 0.38685280723454163, 0.0, 0.0, 0.38685280723454163, 0.36181498356361586, 0.6309297535714574, 1.0, 1.0, 0.0, 0.0, 1.0, 1.0, 0.3154648767857287, 0.4824755593907551, 1.0, 0.5, 1.0, 1.0, 0.0, 0.0, 1.0, 0.0, 0.0, 0.0, 0.38685280723454163, 0.0, 0.9197207891481877, 1.0, 0.38685280723454163, 1.0, 1.0, 1.0, 0.0, 0.0, 0.0, 1.0, 0.0, 0.0, 0.5706417189553201, 0.8503449055347547, 0.6309297535714574, 0.0, 0.0, 0.5, 0.1564262420075855, 0.0, 1.0, 1.0, 0.43067655807339306, 0.38685280723454163, 0.0, 0.0, 0.6309297535714574, 0.0, 0.0, 0.5, 0.6309297535714574, 1.0, 0.6309297535714574, 0.0, 0.0, 0.30102999566398114, 0.38685280723454163, 0.30102999566398114, 0.6309297535714574, 0.0, 0.6309297535714574, 1.0, 0.6309297535714574, 0.0, 0.0, 0.2890648263178878, 1.0, 1.0, 0.0, 0.430624116386567, 0.6309297535714574, 0.38685280723454163, 0.30102999566398114, 0.0, 0.3562071871080222, 0.0, 0.5, 0.0, 0.3562071871080222, 0.3333333333333333, 0.7977228895450267, 1.0, 1.0, 0.0, 0.6131471927654585, 1.0, 0.28930792834276164, 1.0, 0.5, 0.0, 1.0, 0.3154648767857287, 0.0, 1.0, 0.0, 1.0, 0.6309297535714574, 0.6309297535714574, 0.3154648767857287, 0.0, 0.6309297535714574, 1.0, 1.0, 0.2890648263178878, 0.0, 1.0, 0.0, 0.5, 0.0, 0.0, 0.23719771276929624, 0.6309297535714574, 0.0, 1.0, 1.0, 0.5, 0.5, 0.0, 0.6309297535714574, 0.3562071871080222, 0.0, 0.0, 0.5, 0.0, 0.6309297535714574, 0.6131471927654585, 0.0, 0.23719771276929624, 0.0, 0.5, 0.3562071871080222, 0.0, 0.0, 0.43067655807339306, 0.43067655807339306, 0.0, 0.0, 1.0, 1.0, 0.0, 0.0, 0.0, 0.3333333333333333, 0.38685280723454163, 0.6131471927654585, 0.6309297535714574, 0.0, 0.6309297535714574, 0.0, 1.0, 0.43067655807339306, 0.38685280723454163, 0.43067655807339306, 0.0, 0.0, 0.43067655807339306, 0.38685280723454163, 1.0, 1.0, 0.0, 0.0, 0.6309297535714574, 0.0, 0.3562071871080222, 0.6309297535714574, 1.0, 0.2640681225725909, 0.3333333333333333, 1.0, 0.8772153153380494, 0.0, 0.5706417189553201, 0.0, 0.5, 0.0, 0.43067655807339306, 0.3333333333333333, 0.0, 1.0, 0.0, 1.0, 1.0, 0.2640681225725909, 0.19342640361727081, 0.43067655807339306, 0.20438239758848614, 0.3154648767857287, 0.9010126104210695, 0.0, 0.6309297535714574, 0.3154648767857287, 0.5, 0.30102999566398114, 1.0, 0.0, 0.6309297535714574, 0.3333333333333333, 0.5640920940185893, 0.0, 0.0, 0.0, 1.0, 0.5, 0.0, 0.0, 0.0, 0.0, 0.5, 1.0, 0.0, 0.0, 0.0, 1.0, 0.0, 0.38685280723454163, 0.6309297535714574, 1.0, 1.0, 1.0, 0.3333333333333333, 0.0, 1.0, 0.6309297535714574, 0.6309297535714574, 0.30102999566398114, 1.0, 0.0, 0.0, 0.6309297535714574, 0.0, 0.0, 0.44158011035778233, 0.3562071871080222, 0.0, 0.3562071871080222, 1.0, 0.38895809436805434, 1.0, 0.0, 0.0, 0.0, 0.0, 1.0, 1.0, 0.0, 0.38685280723454163, 1.0, 0.43067655807339306, 1.0, 0.3154648767857287, 0.3154648767857287, 0.6309297535714574, 1.0, 0.0, 0.6309297535714574, 0.6131471927654585, 1.0, 1.0, 0.43067655807339306, 0.38685280723454163, 1.0, 0.0, 0.3562071871080222, 1.0, 0.43067655807339306, 0.0, 1.0, 0.3154648767857287, 0.0, 0.0, 0.0, 0.38685280723454163, 0.0, 0.6309297535714574, 0.3562071871080222, 0.0, 0.38685280723454163, 0.43067655807339306, 0.2890648263178878, 0.43067655807339306, 0.0, 0.3154648767857287, 0.43067655807339306, 0.0, 0.0, 0.0, 0.0, 1.0, 1.0, 0.0, 0.0, 0.0, 0.0, 0.0, 0.6309297535714574, 0.0, 0.3562071871080222, 1.0, 1.0, 0.0, 0.0, 0.0, 0.6309297535714574, 0.6131471927654585, 0.0, 0.0, 0.2640681225725909, 0.6309297535714574, 0.6309297535714574, 0.0, 0.43067655807339306, 0.38685280723454163, 0.3562071871080222, 1.0, 1.0, 0.6309297535714574, 0.0, 0.38685280723454163, 0.0, 0.0, 0.3562071871080222, 1.0, 0.0, 0.6309297535714574, 0.5, 0.3154648767857287, 0.0, 0.38685280723454163, 0.0, 0.6309297535714574, 0.38685280723454163, 0.6309297535714574, 0.38685280723454163, 0.30102999566398114, 1.0, 0.0, 0.8175295903539446, 0.30102999566398114, 0.0, 0.0, 0.0, 1.0, 0.0, 0.6309297535714574, 1.0, 0.0, 0.5, 0.0, 1.0, 0.0, 1.0, 0.6309297535714574, 0.5, 0.3562071871080222, 1.0, 1.0, 0.6309297535714574, 0.6309297535714574, 0.0, 0.7271360547643254, 0.6309297535714574, 0.43067655807339306, 0.3154648767857287, 0.0, 0.483812883166777, 0.7977228895450267, 0.0, 1.0, 0.0, 1.0, 0.5, 0.0, 0.0, 0.6309297535714574, 0.0, 0.0, 0.0, 0.0, 0.3154648767857287, 0.30102999566398114, 0.6309297535714574, 0.43067655807339306, 1.0, 0.30102999566398114, 0.38685280723454163, 0.141266972859829, 0.0, 0.0, 0.6309297535714574, 0.0, 1.0, 0.6309297535714574, 0.0, 0.30102999566398114, 0.0, 1.0, 0.3562071871080222, 0.0, 1.0, 0.8065735963827292, 1.0, 1.0, 1.0, 0.0, 0.0, 0.0, 1.0, 0.7977228895450267, 0.0, 1.0, 0.5, 1.0, 0.6309297535714574, 1.0, 0.0, 0.17723928678404774, 1.0, 1.0, 0.0, 1.0, 1.0, 0.6067903181767931, 1.0, 0.0, 0.5, 1.0, 0.0, 0.5706417189553201, 1.0, 0.3333333333333333, 0.0, 1.0, 0.0, 1.0, 0.6509209298071325, 0.3562071871080222, 0.2184074368181642, 0.6309297535714574, 0.6309297535714574, 0.5, 1.0, 0.42278983440665036, 0.0, 0.0, 0.5, 1.0, 0.6309297535714574, 1.0, 1.0, 0.0, 0.6309297535714574, 1.0, 0.0, 0.0, 0.38685280723454163, 0.38685280723454163, 1.0, 0.38685280723454163, 0.0, 0.0, 0.38685280723454163, 0.6309297535714574, 0.0, 0.0, 0.19342640361727081, 0.6309297535714574, 0.0, 1.0, 0.6240505200038378, 0.6131471927654585, 1.0, 1.0, 0.30102999566398114, 0.6309297535714574, 0.2890648263178878, 0.38685280723454163, 0.0, 0.6886342695939198, 1.0, 0.0, 0.0, 0.0, 0.6309297535714574, 0.6309297535714574, 1.0, 1.0, 0.0, 0.0, 0.3562071871080222, 0.6309297535714574, 0.30102999566398114, 1.0, 0.6309297535714574, 0.5, 1.0, 0.3333333333333333, 0.0, 0.19342640361727081, 1.0, 0.0, 0.6309297535714574, 0.30102999566398114, 0.3333333333333333, 1.0, 0.7977228895450267, 0.6309297535714574, 1.0, 0.0, 0.0, 0.0, 1.0, 0.30102999566398114, 0.0, 1.0, 1.0, 0.0, 1.0, 0.0, 0.0, 0.6309297535714574, 0.3333333333333333, 1.0, 1.0, 1.0, 0.3562071871080222, 0.0, 0.0, 0.0, 0.0, 0.0, 0.30102999566398114, 0.0, 0.6309297535714574, 0.0, 0.5, 0.43067655807339306, 0.6309297535714574, 0.0, 1.0, 0.43067655807339306, 0.0, 1.0, 1.0, 1.0, 1.0, 0.5, 0.6713860725233042, 0.3154648767857287, 0.6309297535714574, 0.6131471927654585, 0.0, 0.0, 0.0, 1.0, 1.0, 1.0, 1.0, 0.0, 0.6309297535714574, 0.38685280723454163, 0.0, 0.0, 0.6309297535714574, 0.6309297535714574, 0.0, 1.0, 0.0, 0.0, 0.0, 0.3562071871080222, 0.0, 1.0, 0.43067655807339306, 0.3333333333333333, 1.0, 0.0, 0.0, 0.0, 1.0, 0.43067655807339306, 0.0, 0.0, 0.0, 1.0, 0.0, 0.43067655807339306, 0.0, 1.0, 0.0, 0.0, 0.0, 0.0, 0.0, 0.0, 0.3562071871080222, 0.6975637657739949, 1.0, 0.0, 0.7653606369886218, 0.0, 0.0, 1.0, 0.0, 1.0, 0.0, 0.8772153153380494, 0.0, 0.3333333333333333, 0.0, 1.0, 0.19342640361727081, 0.6309297535714574, 1.0, 0.6309297535714574, 0.0, 0.6309297535714574, 0.43067655807339306, 0.30102999566398114, 0.3333333333333333, 0.0, 1.0, 0.0, 0.0, 0.6309297535714574, 0.38685280723454163, 0.6309297535714574, 1.0, 1.0, 0.6309297535714574, 0.0, 0.3333333333333333, 0.0, 0.0, 0.43067655807339306, 1.0, 0.30102999566398114, 0.0, 0.6934264036172708, 0.43067655807339306, 1.0, 0.3333333333333333, 0.0, 1.0, 0.2890648263178878, 0.0, 0.23719771276929624, 0.0, 0.0, 0.38685280723454163, 0.3836491390379003, 1.0, 1.0, 1.0, 0.38685280723454163, 1.0, 0.43067655807339306, 0.3333333333333333, 0.0, 0.6131471927654585, 0.38685280723454163, 1.0, 1.0, 0.23719771276929624, 0.0, 0.0, 1.0, 0.0, 1.0, 1.0, 1.0, 0.0, 1.0, 0.30657359638272924, 0.0, 1.0, 0.0, 0.0, 0.6309297535714574, 0.3333333333333333, 0.6131471927654585, 1.0, 0.0, 0.0, 0.0, 0.38685280723454163, 0.0, 1.0, 0.43067655807339306, 0.0, 0.6309297535714574, 0.6309297535714574, 0.0, 1.0, 0.0, 0.0, 1.0, 0.5, 0.5, 0.6131471927654585, 1.0, 0.6309297535714574, 0.38685280723454163, 0.3154648767857287, 0.0, 0.43067655807339306, 0.0, 1.0, 0.0, 0.6309297535714574, 0.3333333333333333, 0.5, 0.0, 1.0, 0.0, 0.0, 0.0, 0.0, 0.0, 0.6309297535714574, 0.3333333333333333, 0.0, 0.2890648263178878, 0.0, 0.0, 0.38685280723454163, 0.3562071871080222, 0.0, 0.2890648263178878, 0.0, 0.5, 0.38685280723454163, 0.0, 0.38685280723454163, 0.37029133644382606, 0.2890648263178878, 0.2890648263178878, 0.5, 0.30102999566398114, 0.0, 0.5, 0.0, 0.0, 0.43067655807339306, 0.0, 1.0, 0.6131471927654585, 0.5, 0.44130740935663865, 0.2890648263178878, 1.0, 0.0, 0.0, 1.0, 1.0, 0.0, 1.0, 1.0, 0.6052602440527058, 1.0, 0.43067655807339306, 0.0, 0.6309297535714574, 0.0, 0.30102999566398114, 0.20438239758848614, 0.0, 0.0, 1.0, 0.9197207891481877, 0.5, 0.9197207891481877, 0.0, 0.0, 0.0, 0.43067655807339306, 1.0, 0.0, 0.30102999566398114, 0.43067655807339306, 0.5, 0.0, 0.0, 0.0, 1.0, 0.0, 0.6309297535714574, 1.0, 0.3562071871080222, 1.0, 0.5, 0.30102999566398114, 0.9197207891481877, 0.0, 0.38685280723454163, 0.0, 0.0, 0.7977228895450267, 1.0, 0.0, 0.0, 0.3333333333333333, 1.0, 1.0, 0.0, 0.6309297535714574, 0.3562071871080222, 0.6309297535714574, 0.3562071871080222, 0.0, 0.0, 1.0, 0.2890648263178878, 0.0, 1.0, 0.6309297535714574, 0.0, 0.0, 0.6131471927654585, 0.20438239758848614, 0.5, 0.0, 0.0, 1.0, 1.0, 0.6131471927654585, 0.6309297535714574, 0.0, 0.6309297535714574, 0.3562071871080222, 1.0, 1.0, 0.2890648263178878, 0.0, 1.0, 0.3562071871080222, 1.0, 0.0, 1.0, 0.0, 0.6309297535714574, 0.6131471927654585, 0.0, 0.5, 0.6309297535714574, 0.0, 0.0, 0.23719771276929624, 0.6309297535714574, 0.6309297535714574, 0.43067655807339306, 0.0, 0.0, 0.0, 0.0, 0.5723986829443737, 0.43067655807339306, 0.0, 0.3333333333333333, 0.3562071871080222, 1.0, 0.6131471927654585, 0.0, 0.6309297535714574, 0.0, 0.0, 0.6131471927654585, 0.43067655807339306, 0.8175295903539446, 0.19519002499605087, 0.9469024295259745, 0.43067655807339306, 1.0, 0.0, 0.2890648263178878, 0.5, 0.0, 0.38685280723454163, 0.0, 0.0, 0.5, 0.6309297535714574, 1.0, 0.0, 0.5, 0.43067655807339306, 0.0, 0.0, 0.5, 0.0, 1.0, 0.0, 1.0, 0.6309297535714574, 1.0, 0.6509209298071325, 0.43067655807339306, 0.0, 0.0, 0.0, 0.6131471927654585, 0.0, 0.2890648263178878, 0.5, 0.0, 0.0, 0.6713860725233042, 0.0, 0.6309297535714574, 0.6309297535714574, 0.0, 0.38685280723454163, 0.0, 0.0, 0.43067655807339306, 0.38685280723454163, 0.6309297535714574, 0.2184074368181642, 1.0, 1.0, 1.0, 0.6309297535714574, 0.4556051495874604, 1.0, 0.0, 0.2890648263178878, 0.20438239758848614, 0.43067655807339306, 0.3154648767857287, 0.6973975865011866, 0.3333333333333333, 1.0, 0.3333333333333333, 0.2890648263178878, 0.0, 0.0, 0.3333333333333333, 0.38685280723454163, 1.0, 0.0, 0.0, 0.0, 0.0, 0.6934264036172708, 0.38685280723454163, 0.43067655807339306, 0.43067655807339306, 0.2890648263178878, 0.0, 0.0, 1.0, 0.3333333333333333, 1.0, 0.2890648263178878, 0.0, 0.43067655807339306, 1.0, 0.0, 0.6934264036172708, 0.0, 1.0, 0.0, 0.43067655807339306, 1.0, 1.0, 0.0, 0.3154648767857287, 1.0, 0.6364391809889588, 0.0, 0.0, 1.0, 0.6309297535714574, 0.0, 0.3562071871080222, 1.0, 0.38685280723454163, 0.0, 0.9197207891481877, 0.0, 0.8175295903539446, 1.0, 0.3333333333333333, 0.0, 0.0, 0.0, 0.43067655807339306, 0.0, 1.0, 0.0, 0.0, 0.0, 1.0, 0.0, 1.0, 0.0, 1.0, 0.0, 0.0, 0.43067655807339306, 0.38685280723454163, 0.6309297535714574, 1.0, 0.6309297535714574, 0.0, 0.0, 0.5, 1.0, 0.0, 0.0, 0.0, 0.5714285040141098, 0.30102999566398114, 0.3562071871080222, 0.0, 0.0, 0.0, 0.0, 0.0, 1.0, 1.0, 0.0, 0.6797310500037655, 1.0, 0.0, 0.43067655807339306, 1.0, 1.0, 0.6309297535714574, 0.43067655807339306, 0.0, 0.0, 0.3154648767857287, 1.0, 0.3154648767857287, 0.0, 0.6309297535714574, 0.2890648263178878, 1.0, 1.0, 0.6309297535714574, 0.5, 0.0, 0.6509209298071325, 1.0, 0.5, 0.0, 0.0, 0.0, 0.0, 1.0, 1.0, 0.6049306994552044, 0.6309297535714574, 0.0, 0.0, 1.0, 0.23463936301137828, 0.0, 0.42278983440665036, 0.8503449055347547, 1.0, 0.0, 0.0, 0.6309297535714574, 0.6309297535714574, 0.30102999566398114, 1.0, 0.0, 1.0, 0.0, 0.6131471927654585, 1.0, 1.0, 0.0, 0.6309297535714574, 0.0, 0.6309297535714574, 0.0, 1.0, 0.0, 0.0, 0.6309297535714574, 0.0, 1.0, 1.0, 0.3333333333333333, 0.6131471927654585, 1.0, 0.38685280723454163, 0.0, 1.0, 1.0, 0.6131471927654585, 0.0, 0.0, 0.6131471927654585, 1.0, 0.0, 0.0, 1.0, 1.0, 0.0, 0.43067655807339306, 0.0, 0.43067655807339306, 0.0, 1.0, 0.5249810332008934, 0.6309297535714574, 0.6131471927654585, 0.0, 1.0, 0.0, 1.0, 0.0, 1.0, 0.23719771276929624, 0.0, 1.0, 0.3154648767857287, 0.9674679834891693, 1.0, 0.5012658353418872, 0.0, 1.0, 0.5912352048230278, 0.30102999566398114, 0.0, 1.0, 1.0, 0.0, 0.38685280723454163, 0.0, 1.0, 0.43067655807339306, 0.0, 0.5, 1.0, 0.3154648767857287, 0.5802792108518124, 0.5, 0.0, 0.0, 0.4776237035032179, 0.38685280723454163, 0.0, 0.5, 0.6309297535714574, 1.0, 1.0, 0.0, 0.6309297535714574, 0.0, 1.0, 0.0, 0.0, 0.2890648263178878, 0.0, 0.0, 0.0, 0.5, 0.2640681225725909, 0.43067655807339306, 0.0, 0.2890648263178878, 0.0, 0.0, 0.0, 0.0, 0.0, 0.0, 0.3333333333333333, 1.0, 0.0, 0.0, 0.3154648767857287, 1.0, 0.0, 1.0, 0.6309297535714574, 0.5, 1.0, 0.6309297535714574, 0.0, 0.17723928678404774, 1.0, 0.3562071871080222, 0.0, 0.0, 0.3154648767857287, 1.0, 1.0, 0.43067655807339306, 0.6934264036172708, 0.6309297535714574, 0.5, 1.0, 0.8175295903539446, 0.3562071871080222, 0.0, 0.43067655807339306, 1.0, 0.43067655807339306, 0.0, 1.0, 0.6309297535714574, 1.0, 0.49980056136796214, 1.0, 0.43067655807339306, 0.0, 0.0, 1.0, 1.0, 1.0, 1.0, 0.8065735963827292, 0.0, 1.0, 0.0, 1.0, 1.0, 1.0, 1.0, 1.0, 0.0, 0.0, 0.0, 0.0, 0.0, 0.6309297535714574, 0.0, 0.0, 1.0, 0.23719771276929624, 0.0, 1.0, 0.2640681225725909, 0.0, 1.0, 0.0, 0.5, 0.0, 1.0, 0.6309297535714574, 0.0, 0.0, 1.0, 0.43067655807339306, 0.0, 0.3562071871080222, 0.0, 0.0, 0.0, 0.3562071871080222, 0.6934264036172708, 0.6309297535714574, 1.0, 0.0, 0.0, 0.0, 1.0, 1.0, 0.0, 1.0, 0.0, 0.5, 0.2640681225725909, 0.0, 1.0, 1.0, 0.38685280723454163, 0.0, 0.0, 1.0, 0.3154648767857287, 0.0, 1.0, 0.38685280723454163, 0.0, 0.3333333333333333, 0.0, 0.2890648263178878, 0.19342640361727081, 0.9197207891481877, 0.0, 0.0, 0.0, 0.0, 1.0, 0.0, 1.0, 0.0, 1.0, 0.2890648263178878, 0.2890648263178878, 0.0, 1.0, 0.2640681225725909, 1.0, 0.6309297535714574, 0.2890648263178878, 0.0, 0.6131471927654585, 1.0, 0.0, 0.3333333333333333, 1.0, 0.0, 0.0, 0.8175295903539446, 0.4824755593907551, 0.0, 0.0, 0.0, 0.19342640361727081, 0.0, 0.0, 1.0, 0.0, 0.6309297535714574, 0.0, 0.6309297535714574, 1.0, 0.0, 0.6309297535714574, 0.3562071871080222, 0.38685280723454163, 0.43067655807339306, 1.0, 0.5, 0.2890648263178878, 0.3154648767857287, 0.6309297535714574, 0.0, 0.0, 0.6309297535714574, 0.3562071871080222, 1.0, 0.0, 0.43067655807339306, 0.0, 0.6309297535714574, 1.0, 0.0, 0.6309297535714574, 0.5, 0.0, 0.0, 0.38685280723454163, 0.17723928678404774, 0.0, 0.5, 0.0, 0.0, 0.6309297535714574, 0.5, 0.0, 0.0, 1.0, 0.0, 0.0, 0.3333333333333333, 0.6309297535714574, 0.6309297535714574, 1.0, 1.0, 0.0, 0.6309297535714574, 0.0, 0.6309297535714574, 0.2890648263178878, 0.5249810332008934, 0.6131471927654585, 0.6309297535714574, 0.1815417925373527, 1.0, 0.0, 0.0, 1.0, 0.0, 0.0, 0.0, 0.38685280723454163, 0.3154648767857287, 0.0, 0.5, 0.3562071871080222, 0.0, 0.6309297535714574, 1.0, 1.0, 0.0, 0.3154648767857287, 0.6309297535714574, 0.3562071871080222, 0.0, 0.0, 0.0, 0.0, 0.6309297535714574, 0.0, 0.5, 0.3562071871080222, 0.0, 0.0, 0.5, 0.0, 0.0, 1.0, 0.5, 1.0, 1.0, 0.6309297535714574, 0.5, 0.0, 0.6309297535714574, 0.416181155548731, 0.0, 0.0, 0.6309297535714574, 0.3562071871080222, 0.0, 0.38685280723454163, 0.0, 0.0, 0.6309297535714574, 0.0, 0.6309297535714574, 0.0, 0.3562071871080222, 0.0, 0.0, 0.38685280723454163, 1.0, 0.5, 0.38685280723454163, 1.0, 0.0, 1.0, 0.0, 0.30657359638272924, 0.8503449055347547, 0.5, 1.0, 0.4556051495874604, 0.0, 0.2890648263178878, 0.38685280723454163, 0.2890648263178878, 1.0, 0.6309297535714574, 0.0, 0.0, 0.0, 1.0, 0.6131471927654585, 0.0, 0.0, 0.0, 0.0, 0.5012658353418872, 1.0, 1.0, 1.0, 0.8503449055347547, 0.0, 1.0, 1.0, 0.0, 0.0, 0.43067655807339306, 0.6240505200038378, 1.0, 0.6309297535714574, 1.0, 0.5, 0.6309297535714574, 0.0, 0.6309297535714574, 1.0, 0.0, 0.6309297535714574, 1.0, 0.30102999566398114, 0.0, 1.0, 0.6309297535714574, 0.6309297535714574, 0.43067655807339306, 0.0, 1.0, 1.0, 0.0, 0.0, 0.0, 0.3562071871080222, 0.0, 0.18457569677956817, 0.5, 0.6131471927654585, 0.0, 0.2890648263178878, 1.0, 0.0, 0.0, 0.0, 0.0, 1.0, 1.0, 1.0, 0.23719771276929624, 0.43067655807339306, 0.0, 0.0, 0.0, 0.0, 0.8315546295836226, 0.0, 0.0, 0.0, 1.0, 0.0, 0.0, 0.0, 0.6309297535714574, 0.0, 0.6309297535714574, 0.3562071871080222, 0.43067655807339306, 0.5, 0.5, 0.6309297535714574, 0.3333333333333333, 0.2640681225725909, 1.0, 0.5, 0.0, 1.0, 0.0, 0.6131471927654585, 0.3154648767857287, 1.0, 0.3154648767857287, 0.0, 0.0, 0.6309297535714574, 1.0, 0.38685280723454163, 0.0, 0.3154648767857287, 0.0, 0.3333333333333333, 0.6309297535714574, 0.0, 0.6309297535714574, 1.0, 0.8503449055347547, 0.0, 0.0, 1.0, 1.0, 0.6309297535714574, 0.30657359638272924, 0.6309297535714574, 0.0, 0.0, 1.0, 1.0, 0.0, 0.0, 0.0, 0.0, 0.6934264036172708, 0.3562071871080222, 1.0, 0.0, 0.30657359638272924, 0.0, 0.6131471927654585, 0.0, 0.3562071871080222, 0.6309297535714574, 0.0, 0.6309297535714574, 0.0, 0.30102999566398114, 0.3154648767857287, 0.6309297535714574, 0.3333333333333333, 1.0, 0.0, 0.43067655807339306, 0.5, 0.0, 1.0, 1.0, 1.0, 0.6309297535714574, 1.0, 0.6934264036172708, 0.8503449055347547, 0.5, 0.0, 0.3333333333333333, 0.38685280723454163, 0.6309297535714574, 0.0, 0.0, 0.3562071871080222, 0.0, 1.0, 1.0, 0.5, 0.141266972859829, 1.0, 0.5, 0.0, 1.0, 0.6309297535714574, 0.0, 0.0, 0.38685280723454163, 0.0, 1.0, 1.0, 1.0, 0.5437713091520254, 0.0, 0.3333333333333333, 1.0, 1.0, 1.0, 0.43067655807339306, 0.0, 0.23719771276929624, 0.38685280723454163, 0.3333333333333333, 0.6309297535714574, 0.2184074368181642, 1.0, 1.0, 1.0, 0.3154648767857287, 0.3333333333333333, 1.0, 0.0, 0.38685280723454163, 0.0, 1.0, 0.0, 0.3562071871080222, 0.38685280723454163, 0.0, 0.2890648263178878, 0.0, 0.38685280723454163, 0.6309297535714574, 0.0, 0.0, 0.38685280723454163, 0.8318724637288826, 0.6240505200038378, 0.43067655807339306, 1.0, 0.43067655807339306, 0.3562071871080222, 0.0, 0.0, 0.5, 0.0, 0.3154648767857287, 0.0, 0.6309297535714574, 1.0, 1.0, 0.6309297535714574, 1.0, 0.6309297535714574, 0.5, 1.0, 0.6309297535714574, 0.0, 0.0, 0.0, 0.0, 0.0, 0.3333333333333333, 0.0, 1.0, 0.0, 0.0, 0.0, 0.3154648767857287, 0.6309297535714574, 0.0, 0.43067655807339306, 1.0, 0.6309297535714574, 0.43067655807339306, 0.6309297535714574, 1.0, 0.23719771276929624, 0.6309297535714574, 0.0, 0.0, 0.0, 0.0, 0.30657359638272924, 0.0, 1.0, 0.8175295903539446, 0.0, 0.5, 0.0, 1.0, 1.0, 0.6309297535714574, 1.0, 1.0, 0.0, 1.0, 0.6309297535714574, 0.2890648263178878, 0.3333333333333333, 0.23463936301137828, 0.30102999566398114, 1.0, 0.6309297535714574, 1.0, 0.0, 0.43067655807339306, 0.38685280723454163, 1.0, 0.0, 0.3333333333333333, 0.5, 0.0, 0.0, 1.0, 0.0, 0.448643819352159, 0.5, 1.0, 0.0, 1.0, 1.0, 0.6309297535714574, 0.43067655807339306, 0.0, 1.0, 1.0, 1.0, 1.0, 1.0, 0.0, 0.0, 0.38685280723454163, 1.0, 0.0, 1.0, 0.6309297535714574, 0.0, 1.0, 1.0, 1.0, 0.43067655807339306, 0.0, 1.0, 0.0, 0.6309297535714574, 1.0, 0.3154648767857287, 0.6309297535714574, 0.3333333333333333, 0.43067655807339306, 0.8503449055347547, 0.0, 0.3154648767857287, 1.0, 0.6131471927654585, 0.0, 0.0, 1.0, 0.5, 0.0, 0.6309297535714574, 1.0, 0.3562071871080222, 0.6309297535714574, 0.38685280723454163, 0.5, 0.6309297535714574, 0.0, 0.0, 0.6309297535714574, 0.0, 0.0, 1.0, 0.0, 1.0, 0.0, 0.0, 0.43067655807339306, 0.6309297535714574, 0.0, 1.0, 0.30657359638272924, 0.3333333333333333, 0.3562071871080222, 1.0, 1.0, 1.0, 0.0, 0.6309297535714574, 0.43067655807339306, 1.0, 1.0, 0.2890648263178878, 1.0, 0.6309297535714574, 1.0, 1.0, 0.0, 1.0, 0.0, 0.0, 1.0, 0.0, 0.0, 1.0, 0.43067655807339306, 1.0, 1.0, 0.0, 0.0, 1.0, 0.0, 0.141266972859829, 1.0, 0.6309297535714574, 0.6309297535714574, 1.0, 1.0, 1.0, 0.2640681225725909, 0.5, 0.0, 1.0, 0.0, 0.0, 0.6309297535714574, 1.0, 0.2890648263178878, 1.0, 1.0, 0.5249810332008934, 1.0, 0.6309297535714574, 1.0, 0.5, 0.0, 0.3562071871080222, 1.0, 0.0, 0.6131471927654585, 0.5, 0.0, 1.0, 1.0, 0.0, 0.9197207891481877, 0.0, 1.0, 1.0, 0.43067655807339306, 0.6509209298071325, 1.0, 0.0, 0.6309297535714574, 0.3154648767857287, 0.3562071871080222, 0.3154648767857287, 0.6131471927654585, 0.6309297535714574, 0.38685280723454163, 0.5, 0.4556051495874604, 0.0, 0.6309297535714574, 1.0, 0.6309297535714574, 1.0, 0.0, 0.0, 0.0, 0.38685280723454163, 0.6309297535714574, 0.0, 0.0, 0.0, 0.0, 0.43067655807339306, 0.3562071871080222, 0.6309297535714574, 0.43067655807339306, 1.0, 0.0, 0.38685280723454163, 1.0, 1.0, 0.0, 1.0, 1.0, 0.3562071871080222, 0.30102999566398114, 0.38685280723454163, 0.43067655807339306, 1.0, 1.0, 0.0, 0.0, 0.30102999566398114, 0.30102999566398114, 1.0, 0.0, 0.0, 0.43067655807339306, 0.0, 1.0, 0.6309297535714574, 1.0, 1.0, 0.0, 0.0, 1.0, 1.0, 0.0, 0.5, 0.38685280723454163, 1.0, 0.6309297535714574, 1.0, 0.6309297535714574, 1.0, 1.0, 0.0, 0.0, 0.5, 0.0, 0.0, 1.0, 0.0, 1.0, 1.0, 1.0, 0.38685280723454163, 0.0, 0.0, 0.6309297535714574, 0.38685280723454163, 0.0, 1.0, 0.0, 0.2890648263178878, 0.5, 0.0, 0.38685280723454163, 1.0, 0.49818925746641285, 0.0, 0.0, 0.0, 0.0, 0.6309297535714574, 0.6131471927654585, 0.6309297535714574, 1.0, 1.0, 1.0, 0.30102999566398114, 0.3154648767857287, 1.0, 0.30102999566398114, 0.5, 0.38685280723454163, 1.0, 0.43067655807339306, 1.0, 0.3333333333333333, 0.3333333333333333, 0.2890648263178878, 1.0, 0.0, 1.0, 0.0, 0.43067655807339306, 1.0, 0.0, 0.30102999566398114, 0.6309297535714574, 0.38685280723454163, 0.6309297535714574, 0.6309297535714574, 0.6364391809889588, 0.43067655807339306, 0.30102999566398114, 1.0, 0.43067655807339306, 0.2890648263178878, 0.0, 0.0, 1.0, 0.0, 0.2890648263178878, 0.0, 0.3562071871080222, 0.0, 0.38685280723454163, 0.5, 0.38685280723454163, 0.0, 1.0, 0.0, 0.7653606369886218, 0.0, 0.0, 1.0, 0.5, 0.3333333333333333, 0.8772153153380494, 0.6309297535714574, 1.0, 0.0, 0.0, 0.6309297535714574, 0.0, 0.43067655807339306, 0.5, 0.43067655807339306, 0.0, 0.0, 0.6309297535714574, 0.6309297535714574, 0.3154648767857287, 1.0, 0.6309297535714574, 0.5, 1.0, 0.5, 1.0, 0.6309297535714574, 1.0, 0.6309297535714574, 1.0, 0.3333333333333333, 0.38685280723454163, 0.0, 0.3562071871080222, 1.0, 1.0, 0.3562071871080222, 0.6309297535714574, 0.0, 1.0, 0.2890648263178878, 1.0, 0.43067655807339306, 0.38685280723454163, 0.0, 0.0, 0.3333333333333333, 0.0, 0.0, 0.0, 0.0, 0.5437713091520254, 0.5, 0.0, 0.3562071871080222, 0.6309297535714574, 0.3154648767857287, 0.3154648767857287, 0.6309297535714574, 0.3333333333333333, 0.0, 0.0, 0.0, 0.3562071871080222, 1.0, 0.0, 0.0, 0.6131471927654585, 0.6309297535714574, 1.0, 1.0, 0.0, 1.0, 0.0, 1.0, 0.0, 0.38685280723454163, 0.0, 0.30102999566398114, 0.0, 0.6309297535714574, 1.0, 0.0, 0.43067655807339306, 0.0, 1.0, 0.0, 0.0, 0.0, 0.43067655807339306, 0.0, 0.0, 0.5, 1.0, 0.7903864795495062, 1.0, 1.0, 0.0, 0.0, 0.43067655807339306, 1.0, 0.6309297535714574, 0.6309297535714574, 1.0, 0.38685280723454163, 0.0, 0.0, 0.0, 0.0, 0.30102999566398114, 0.0, 0.30657359638272924, 0.3154648767857287, 0.0, 1.0, 0.43067655807339306, 1.0, 0.38685280723454163, 1.0, 0.0, 0.0, 1.0, 0.0, 1.0, 1.0, 0.38685280723454163, 0.0, 0.0, 0.0, 0.2184074368181642, 0.3154648767857287, 0.0, 0.7977228895450267, 1.0, 0.6309297535714574, 1.0, 0.0, 0.5, 0.0, 0.6309297535714574, 0.3562071871080222, 0.0, 0.5, 0.0, 0.0, 0.6309297535714574, 0.43067655807339306, 0.0, 0.0, 0.43067655807339306, 1.0, 0.0, 1.0, 0.0, 1.0, 0.30657359638272924, 0.0, 0.0, 0.6131471927654585, 0.0, 0.43067655807339306, 0.0, 0.23719771276929624, 0.3562071871080222, 0.0, 1.0, 0.0, 0.0, 0.30102999566398114, 1.0, 0.0, 0.0, 0.0, 0.0, 0.0, 0.0, 0.0, 1.0, 1.0, 0.5, 0.6309297535714574, 0.5, 1.0, 1.0, 1.0, 0.3562071871080222, 1.0, 1.0, 0.0, 0.0, 0.0, 0.6309297535714574, 0.0, 0.3154648767857287, 0.0, 0.0, 0.30102999566398114, 1.0, 0.0, 1.0, 0.0, 0.0, 1.0, 0.0, 0.18457569677956817, 0.6131471927654585, 0.2890648263178878, 1.0, 0.30102999566398114, 1.0, 0.3562071871080222, 0.43067655807339306, 0.0, 1.0, 0.0, 0.5, 0.4574945261898617, 0.5, 0.5, 0.0, 0.1815417925373527, 0.3333333333333333, 0.0, 0.38685280723454163, 1.0, 0.43067655807339306, 0.6309297535714574, 0.0, 0.5, 0.0, 0.3333333333333333, 0.0, 0.0, 0.0, 1.0, 0.0, 0.5, 0.9197207891481877, 0.6309297535714574, 1.0, 0.2890648263178878, 1.0, 0.0, 0.6309297535714574, 1.0, 0.6934264036172708, 0.0, 0.3562071871080222, 0.5, 0.0, 0.6309297535714574, 0.5, 0.0, 0.0, 0.3333333333333333, 1.0, 0.0, 0.0, 1.0, 0.0, 0.30102999566398114, 1.0, 0.0, 1.0, 0.0, 1.0, 0.3333333333333333, 0.38685280723454163, 0.3562071871080222, 0.3562071871080222, 0.38685280723454163, 0.38685280723454163, 0.30102999566398114, 1.0, 0.5, 1.0, 0.2640681225725909, 0.2184074368181642, 0.0, 0.4367467095119259, 0.6309297535714574, 1.0, 0.6309297535714574, 1.0, 0.8315546295836226, 0.0, 0.0, 0.0, 0.0, 0.5, 0.6309297535714574, 0.0, 0.5, 0.3562071871080222, 0.23719771276929624, 0.0, 0.0, 1.0, 0.3154648767857287, 0.9197207891481877, 0.38685280723454163, 1.0, 0.0, 0.6309297535714574, 0.0, 0.0, 0.8278123145308897, 0.0, 1.0, 1.0, 0.5, 0.6131471927654585, 1.0, 0.6309297535714574, 1.0, 1.0, 0.0, 0.0, 0.0, 1.0, 0.0, 0.0, 0.43067655807339306, 0.43067655807339306, 1.0, 0.0, 0.30102999566398114, 0.3154648767857287, 1.0, 0.38685280723454163, 0.0, 0.43067655807339306, 0.3333333333333333, 1.0, 0.6309297535714574, 0.38685280723454163, 0.0, 1.0, 0.5, 0.6309297535714574, 0.5, 0.0, 0.0, 1.0, 0.3333333333333333, 1.0, 0.2890648263178878, 0.6309297535714574, 0.6309297535714574, 0.0, 0.0, 0.6309297535714574, 1.0, 0.0, 0.20438239758848614, 0.0, 0.30102999566398114, 1.0, 0.0, 0.6131471927654585, 0.0, 1.0, 0.6131471927654585, 0.5640920940185893, 1.0, 0.5, 0.0, 0.6309297535714574, 1.0, 0.0, 0.0, 0.6309297535714574, 0.0, 0.6309297535714574, 0.0, 1.0, 0.17723928678404774, 0.0, 0.43067655807339306, 0.0, 0.30657359638272924, 0.2960819109658653, 0.0, 0.3562071871080222, 0.7903864795495062, 1.0, 1.0, 0.0, 0.0, 0.0, 1.0, 1.0, 0.0, 1.0, 1.0, 1.0, 0.19342640361727081, 1.0, 0.5, 0.0, 0.0, 0.3333333333333333, 0.0, 1.0, 0.3562071871080222, 0.0, 0.6309297535714574, 0.0, 1.0, 0.0, 0.3562071871080222, 0.0, 0.3562071871080222, 0.0, 0.0, 0.0, 1.0, 0.6934264036172708, 0.0, 1.0, 0.6309297535714574, 0.0, 0.0, 0.39780880120575696, 0.5109559939712154, 0.0, 1.0, 1.0, 0.2890648263178878, 0.6131471927654585, 0.0, 1.0, 0.6309297535714574, 0.0, 0.0, 1.0, 1.0, 0.3154648767857287, 1.0, 0.38685280723454163, 0.0, 0.6309297535714574, 1.0, 0.0, 0.43067655807339306, 0.2640681225725909, 0.5, 0.43067655807339306, 1.0, 0.38685280723454163, 1.0, 0.0, 0.43067655807339306, 0.0, 0.0, 0.0, 1.0, 0.3333333333333333, 0.0, 0.0, 1.0, 0.0, 0.6309297535714574, 0.6309297535714574, 1.0, 0.5, 0.6394562303262418, 0.0, 0.0, 0.4441228664487979, 0.0, 1.0, 1.0, 0.38685280723454163, 0.5109559939712154, 0.2890648263178878, 0.5, 0.43067655807339306, 1.0, 0.0, 0.0, 0.0, 0.38685280723454163, 1.0, 1.0, 0.3154648767857287, 1.0, 1.0, 1.0, 0.6309297535714574, 1.0, 0.0, 1.0, 0.6309297535714574, 0.43067655807339306, 0.5, 0.3333333333333333, 0.38685280723454163, 0.5, 0.0, 0.5, 0.3562071871080222, 0.0, 0.0, 0.3562071871080222, 0.38685280723454163, 0.0, 0.0, 0.0, 0.0, 0.0, 0.43067655807339306, 1.0, 1.0, 1.0, 0.30102999566398114, 0.0, 0.2890648263178878, 0.0, 1.0, 0.0, 0.5, 0.2184074368181642, 0.0, 1.0, 0.5, 0.6309297535714574, 1.0, 0.0, 0.0, 1.0, 0.43067655807339306, 0.38685280723454163, 0.5, 1.0, 1.0, 0.6309297535714574, 0.378002100396839, 0.3562071871080222, 0.0, 0.0, 0.3333333333333333, 0.30102999566398114, 0.19342640361727081, 0.3154648767857287, 0.2890648263178878, 0.5012658353418872, 0.6309297535714574, 0.0, 0.43067655807339306, 0.3154648767857287, 0.0, 0.0, 0.0, 0.38685280723454163, 0.6713860725233042, 0.43067655807339306, 0.0, 0.0, 0.3333333333333333, 0.6309297535714574, 1.0, 1.0, 0.0, 0.43067655807339306, 1.0, 1.0, 0.0, 0.2890648263178878, 0.38685280723454163, 1.0, 0.20438239758848614, 0.0, 0.0, 0.0, 0.5, 1.0, 0.5, 0.0, 0.6309297535714574, 0.0, 0.6309297535714574, 0.2890648263178878, 0.38685280723454163, 0.6309297535714574, 0.6309297535714574, 1.0, 0.0, 0.6309297535714574, 1.0, 0.2890648263178878, 0.2890648263178878, 0.0, 0.0, 1.0, 0.30102999566398114, 0.0, 1.0, 0.0, 0.5, 0.8503449055347547, 1.0, 0.6309297535714574, 1.0, 0.30657359638272924, 1.0, 0.0, 1.0, 0.0, 0.6309297535714574, 0.0, 0.2184074368181642, 0.6309297535714574, 0.2890648263178878, 0.0, 0.0, 0.0, 0.6309297535714574, 0.30102999566398114, 0.30102999566398114, 0.43067655807339306, 0.23463936301137828, 0.6309297535714574, 0.0, 0.0, 0.0, 0.3154648767857287, 0.38685280723454163, 0.30102999566398114, 1.0, 0.2184074368181642, 0.0, 0.0, 0.3333333333333333, 0.3333333333333333, 0.0, 0.43067655807339306, 0.3562071871080222, 0.0, 0.6934264036172708, 0.0, 0.5, 0.20438239758848614, 0.0, 1.0, 0.23719771276929624, 0.38685280723454163, 1.0, 0.43067655807339306, 0.8065735963827292, 0.0, 0.0, 0.4632423659320676, 1.0, 0.0, 0.0, 0.0, 0.0, 0.0, 0.6309297535714574, 1.0, 0.5, 0.0, 0.0, 0.38685280723454163, 0.0, 1.0, 0.0, 0.6309297535714574, 0.0, 1.0, 1.0, 1.0, 0.3154648767857287, 1.0, 0.0, 0.0, 0.0, 1.0, 0.0, 1.0, 0.0, 1.0, 0.0, 0.9197207891481877, 0.0, 0.0, 0.5, 0.38685280723454163, 0.2890648263178878, 1.0, 0.0, 0.0, 0.6934264036172708, 0.38685280723454163, 1.0, 0.6309297535714574, 0.2890648263178878, 0.38685280723454163, 1.0, 1.0, 0.43067655807339306, 1.0, 0.43067655807339306, 0.0, 0.2640681225725909, 0.43067655807339306, 0.0, 1.0, 0.0, 0.23719771276929624, 0.5, 0.0, 0.43067655807339306, 1.0, 1.0, 1.0, 0.0, 0.43067655807339306, 1.0, 0.0, 0.0, 0.5, 1.0, 0.0, 0.0, 0.6309297535714574, 0.5, 0.2890648263178878, 0.5, 0.6309297535714574, 0.8315546295836226, 1.0, 0.0, 0.2890648263178878, 0.0, 0.0, 0.38685280723454163, 0.0, 0.0, 0.0, 0.5706417189553201, 1.0, 0.43067655807339306, 0.0, 0.23719771276929624, 0.0, 0.5, 0.0, 0.43067655807339306, 0.43067655807339306, 1.0, 0.0, 1.0, 1.0, 1.0, 0.0, 0.0, 0.0, 1.0, 0.5, 0.3154648767857287, 0.0, 1.0, 1.0, 0.43067655807339306, 0.6309297535714574, 0.0, 0.2890648263178878, 0.0, 0.0, 0.0, 0.0, 0.0, 1.0, 0.30102999566398114, 1.0, 1.0, 1.0, 0.38685280723454163, 1.0, 0.2890648263178878, 0.0, 1.0, 1.0, 0.0, 0.6309297535714574, 0.30102999566398114, 0.38685280723454163, 1.0, 0.0, 0.6309297535714574, 1.0, 0.8772153153380494, 0.0, 0.2640681225725909, 0.2640681225725909, 0.30102999566398114, 0.6131471927654585, 0.6309297535714574, 0.0, 0.0, 0.0, 0.38685280723454163, 0.3562071871080222, 0.6131471927654585, 0.0, 0.30102999566398114, 0.6309297535714574, 1.0, 0.0, 0.0, 0.38685280723454163, 0.0, 0.0, 1.0, 0.0, 0.0, 0.0, 0.0, 0.38685280723454163, 0.6131471927654585, 0.0, 0.2890648263178878, 0.6309297535714574, 1.0, 0.0, 0.3562071871080222, 1.0, 0.43067655807339306, 0.6309297535714574, 0.3333333333333333, 0.5, 0.38685280723454163, 1.0, 0.5, 0.0, 0.0, 0.38685280723454163, 0.0, 0.30657359638272924, 0.5, 0.38685280723454163, 1.0, 0.0, 0.0, 0.43067655807339306, 0.0, 0.5, 0.6131471927654585, 0.43067655807339306, 0.0, 0.0, 0.6309297535714574, 1.0, 0.43067655807339306, 0.0, 0.0, 0.0, 0.20438239758848614, 0.0, 0.43067655807339306, 0.6309297535714574, 1.0, 0.30102999566398114, 0.6934264036172708, 0.30102999566398114, 1.0, 0.0, 0.6309297535714574, 1.0, 0.0, 0.2890648263178878, 1.0, 0.0, 1.0, 0.0, 0.5, 0.43067655807339306, 1.0, 0.0, 0.6309297535714574, 0.0, 0.0, 1.0, 0.0, 1.0, 0.0, 0.30102999566398114, 0.3562071871080222, 1.0, 0.0, 0.6309297535714574, 0.0, 0.6131471927654585, 0.0, 1.0, 0.0, 1.0, 0.3333333333333333, 0.30657359638272924, 1.0, 1.0, 0.8772153153380494, 0.0, 0.0, 0.38685280723454163, 1.0, 0.2890648263178878, 0.0, 1.0, 1.0, 0.0, 0.30102999566398114, 0.30102999566398114, 0.6309297535714574, 1.0, 0.0, 0.3562071871080222, 0.0, 0.0, 0.0, 0.0, 1.0, 1.0, 1.0, 0.6309297535714574, 0.6309297535714574, 0.0, 1.0, 0.43067655807339306, 0.0, 0.5, 0.0, 1.0, 0.2640681225725909, 0.6131471927654585, 0.0, 0.0, 0.38685280723454163, 0.30657359638272924, 0.30102999566398114, 1.0, 0.38685280723454163, 1.0, 0.0, 0.0, 0.3154648767857287, 1.0, 0.0, 0.5, 1.0, 0.0, 0.5, 0.1815417925373527, 0.0, 1.0, 1.0, 0.43067655807339306, 0.0, 0.0, 0.0, 0.30102999566398114, 0.0, 0.3154648767857287, 0.43067655807339306, 0.9197207891481877, 1.0, 0.0, 0.0, 0.3154648767857287, 1.0, 1.0, 0.19342640361727081, 0.3154648767857287, 0.0, 0.0, 1.0, 1.0, 1.0, 0.0, 0.2640681225725909, 0.0, 0.0, 1.0, 0.5, 0.43067655807339306, 1.0, 0.5, 0.6131471927654585, 0.2640681225725909, 0.0, 0.30102999566398114, 1.0, 0.38685280723454163, 0.6309297535714574, 0.38685280723454163, 0.0, 0.0, 0.3562071871080222, 1.0, 1.0, 1.0, 0.0, 0.43067655807339306, 0.0, 0.6131471927654585, 0.38685280723454163, 0.0, 0.5912352048230278, 0.0, 1.0, 0.6131471927654585, 0.3562071871080222, 0.0, 1.0, 0.0, 0.0, 0.3562071871080222, 1.0, 1.0, 0.3333333333333333, 0.0, 1.0, 1.0, 0.5, 0.5, 0.0, 0.0, 1.0, 0.0, 0.3562071871080222, 0.3562071871080222, 0.0, 1.0, 1.0, 0.0, 0.0, 0.30102999566398114, 0.5, 1.0, 0.43067655807339306, 1.0, 1.0, 0.43067655807339306, 1.0, 1.0, 1.0, 0.6309297535714574, 0.30102999566398114, 0.0, 0.0, 0.0, 0.0, 0.5437713091520254, 1.0, 0.0, 1.0, 0.0, 0.38685280723454163, 0.0, 0.0, 0.30102999566398114, 1.0, 0.0, 0.0, 0.5, 0.5, 0.3562071871080222, 0.38685280723454163, 0.5, 0.3562071871080222, 0.2890648263178878, 0.2890648263178878, 1.0, 0.0, 0.8175295903539446, 0.8315546295836226, 0.3562071871080222, 0.6309297535714574, 0.0, 0.0, 0.0, 0.6309297535714574, 0.9197207891481877, 0.0, 0.2184074368181642, 0.2890648263178878, 0.43067655807339306, 0.2890648263178878, 1.0, 1.0, 0.0, 0.0, 0.3333333333333333, 0.0, 0.0, 0.0, 0.30657359638272924, 1.0, 0.4556051495874604, 0.5, 0.0, 0.0, 0.6934264036172708, 0.0, 0.0, 0.30102999566398114, 0.0, 1.0, 0.30657359638272924, 0.0, 1.0, 1.0, 1.0, 0.0, 0.5, 0.30657359638272924, 0.0, 0.0, 1.0, 1.0, 0.5, 0.0, 1.0, 0.0, 0.6309297535714574, 0.0, 1.0, 0.6131471927654585, 1.0, 1.0, 0.6871475159848289, 1.0, 0.0, 0.0, 0.0, 1.0, 0.3154648767857287, 0.3154648767857287, 0.0, 0.5, 0.43067655807339306, 0.0, 1.0, 0.3333333333333333, 0.0, 0.0, 0.43067655807339306, 0.0, 1.0, 1.0, 1.0, 1.0, 0.0, 0.0, 0.0, 0.0, 0.0, 0.0, 0.6309297535714574, 0.38685280723454163, 0.3562071871080222, 0.43067655807339306, 0.0, 0.0, 0.0, 0.0, 0.0, 0.3562071871080222, 0.0, 0.0, 1.0, 0.5, 0.4029831335977324, 1.0, 0.0, 0.0, 0.6309297535714574, 0.0, 0.38685280723454163, 1.0, 1.0, 0.6309297535714574, 0.6309297535714574, 0.0, 0.0, 0.43067655807339306, 1.0, 1.0, 0.0, 0.0, 0.38685280723454163, 0.43067655807339306, 0.3154648767857287, 1.0, 0.6309297535714574, 0.6309297535714574, 0.0, 0.0, 0.0, 0.8772153153380494, 1.0, 0.0, 0.0, 1.0, 0.0, 0.0, 0.0, 0.5, 0.3562071871080222, 0.3154648767857287, 0.3562071871080222, 0.0, 0.5, 0.0, 1.0, 0.43067655807339306, 0.0, 0.3333333333333333, 0.3154648767857287, 0.0, 0.0, 1.0, 0.38685280723454163, 0.18457569677956817, 0.5498407734605132, 0.0, 1.0, 0.0, 0.43067655807339306, 0.6309297535714574, 0.8315546295836226, 0.6309297535714574, 0.3333333333333333, 0.3562071871080222, 0.38685280723454163, 0.0, 1.0, 0.6131471927654585, 1.0, 1.0, 0.3562071871080222, 0.6309297535714574, 0.0, 1.0, 0.0, 0.2640681225725909, 0.0, 0.2640681225725909, 0.5, 0.0, 0.0, 0.6309297535714574, 0.43067655807339306, 0.3154648767857287, 0.0, 0.8772153153380494, 0.23719771276929624, 0.2640681225725909, 1.0, 0.6309297535714574, 0.0, 0.5, 0.0, 0.6309297535714574, 0.6309297535714574, 0.6309297535714574, 1.0, 0.3333333333333333, 0.2640681225725909, 1.0, 0.5, 1.0, 0.0, 0.23719771276929624, 0.3333333333333333, 0.0, 1.0, 0.3154648767857287, 0.0, 0.0, 0.0, 0.0, 0.0, 1.0, 0.0, 1.0, 0.0, 0.5, 0.0, 1.0, 0.0, 0.0, 1.0, 0.0, 0.38685280723454163, 0.0, 0.0, 0.3333333333333333, 0.6309297535714574, 0.0, 0.0, 1.0, 0.6131471927654585, 0.20210734650054762, 0.0, 0.7903864795495062, 0.3562071871080222, 0.0, 0.0, 0.6309297535714574, 1.0, 0.6309297535714574, 0.0, 0.6309297535714574, 0.0, 0.0, 0.3333333333333333, 0.6309297535714574, 0.0, 0.6309297535714574, 0.0, 0.6309297535714574, 0.6309297535714574, 0.0, 1.0, 0.0, 1.0, 0.6309297535714574, 0.448643819352159, 0.30102999566398114, 0.0, 0.0, 1.0, 0.0, 0.3154648767857287, 0.0, 1.0, 1.0, 0.0, 1.0, 1.0, 0.0, 0.5, 0.0, 0.3154648767857287, 0.6309297535714574, 0.6309297535714574, 0.0, 0.0, 1.0, 1.0, 0.30102999566398114, 0.0, 0.0, 0.43067655807339306, 0.0, 0.38685280723454163, 1.0, 0.0, 0.38685280723454163, 0.2890648263178878, 0.0, 0.0, 0.0, 0.6131471927654585, 0.0, 0.2640681225725909, 0.0, 1.0, 0.0, 0.0, 0.0, 0.0, 0.6309297535714574, 0.43067655807339306, 0.0, 1.0, 0.0, 0.0, 0.43067655807339306, 0.0, 0.0, 0.0, 0.38685280723454163, 0.6309297535714574, 1.0, 0.2184074368181642, 0.0, 1.0, 0.0, 0.0, 0.0, 0.0, 0.0, 0.0, 0.43067655807339306, 0.0, 0.0, 0.3154648767857287, 0.0, 0.30657359638272924, 1.0, 1.0, 0.43067655807339306, 0.0, 0.6309297535714574, 0.0, 0.0, 0.3562071871080222, 0.0, 0.0, 0.0, 0.0, 0.6309297535714574, 0.0, 1.0, 0.0, 0.0, 0.0, 0.5, 1.0, 1.0, 1.0, 0.6309297535714574, 1.0, 0.0, 0.0, 1.0, 1.0, 0.3562071871080222, 0.3333333333333333, 0.30102999566398114, 0.6309297535714574, 0.6309297535714574, 0.38685280723454163, 1.0, 0.0, 1.0, 0.3562071871080222, 0.38685280723454163, 1.0, 0.0, 1.0, 0.5, 1.0, 0.0, 1.0, 1.0, 0.6309297535714574, 0.0, 1.0, 1.0, 0.0, 0.17723928678404774, 0.2890648263178878, 0.3333333333333333, 1.0, 1.0, 0.0, 0.5, 0.0, 0.0, 1.0, 1.0, 1.0, 1.0, 0.0, 1.0, 1.0, 0.0, 0.0, 0.0, 0.6309297535714574, 0.5, 1.0, 0.2640681225725909, 0.0, 0.0, 0.0, 0.5, 1.0, 0.5, 1.0, 1.0, 0.6309297535714574, 0.7977228895450267, 1.0, 0.30102999566398114, 1.0, 1.0, 1.0, 1.0, 0.0, 0.3562071871080222, 0.23719771276929624, 0.0, 1.0, 1.0, 0.6309297535714574, 1.0, 1.0, 1.0, 0.3154648767857287, 0.0, 0.0, 0.0, 0.8503449055347547, 0.0, 1.0, 0.5, 1.0, 0.0, 0.0, 0.0, 0.3154648767857287, 0.3562071871080222, 1.0, 0.20438239758848614, 0.23719771276929624, 0.0, 0.0, 1.0, 0.3333333333333333, 1.0, 0.38685280723454163, 1.0, 1.0, 0.8065735963827292, 0.2640681225725909, 0.6309297535714574, 0.0, 0.6309297535714574, 0.0, 0.5, 0.2184074368181642, 0.0, 0.6934264036172708, 1.0, 1.0, 1.0, 0.5, 0.0, 1.0, 1.0, 0.0, 0.38685280723454163, 0.0, 0.0, 0.39780880120575696, 1.0, 0.0, 0.6309297535714574, 0.0, 1.0, 0.6509209298071325, 1.0, 0.0, 0.0, 0.5, 0.0, 1.0, 0.6131471927654585, 0.3562071871080222, 0.0, 0.0, 1.0, 0.0, 0.0, 1.0, 0.8503449055347547, 0.0, 0.0, 0.0, 0.38685280723454163, 0.30102999566398114, 0.6309297535714574, 1.0, 0.0, 0.8065735963827292, 1.0, 0.0, 0.5, 0.43067655807339306, 0.5, 0.0, 1.0, 0.2890648263178878, 0.38685280723454163, 0.0, 1.0, 1.0, 0.0, 0.0, 0.0, 0.0, 0.30102999566398114, 0.3333333333333333, 1.0, 0.0, 1.0, 0.0, 1.0, 0.0, 1.0, 0.5, 0.0, 0.0, 1.0, 0.0, 0.0, 1.0, 0.14804095548293264, 0.0, 0.0, 0.3333333333333333, 0.0, 0.0, 1.0, 0.3333333333333333, 0.3562071871080222, 0.6309297535714574, 1.0, 0.0, 0.6309297535714574, 0.5, 1.0, 1.0, 0.0, 0.6309297535714574, 0.6309297535714574, 0.0, 0.3333333333333333, 0.3154648767857287, 0.0, 0.0, 0.0, 0.0, 0.0, 1.0, 1.0, 0.0, 0.0, 0.6309297535714574, 0.2890648263178878, 0.6309297535714574, 1.0, 0.0, 1.0, 0.0, 0.0, 1.0, 1.0, 0.6131471927654585, 0.0, 1.0, 0.43067655807339306, 0.6309297535714574, 0.0, 0.0, 0.5, 1.0, 0.0, 1.0, 0.0, 0.3562071871080222, 1.0, 0.19342640361727081, 0.2184074368181642, 0.0, 0.0, 1.0, 1.0, 0.8503449055347547, 0.0, 0.6509209298071325, 0.6309297535714574, 1.0, 1.0, 0.38685280723454163, 1.0, 1.0, 0.30102999566398114, 0.0, 1.0, 0.0, 0.7039180890341348, 0.0, 1.0, 0.5, 0.0, 0.0, 0.0, 0.2890648263178878, 0.38685280723454163, 0.38685280723454163, 0.9197207891481877, 0.2640681225725909, 0.0, 0.0, 1.0, 0.43067655807339306, 0.0, 0.38685280723454163, 1.0, 1.0, 0.0, 0.0, 0.43067655807339306, 1.0, 0.5723986829443737, 0.8315546295836226, 1.0, 0.5, 0.0, 0.0, 1.0, 0.17723928678404774, 0.3154648767857287, 0.17723928678404774, 0.0, 0.5, 0.0, 0.6309297535714574, 0.3154648767857287, 0.9674679834891693, 0.3154648767857287, 0.0, 0.5, 1.0, 0.0, 0.0, 0.0, 1.0, 0.0, 0.9197207891481877, 1.0, 0.5, 0.5, 0.0, 0.0, 1.0, 0.0, 0.3562071871080222, 0.0, 0.6309297535714574, 0.0, 0.43067655807339306, 0.43067655807339306, 0.0, 1.0, 0.0, 0.3333333333333333, 0.6309297535714574, 0.6309297535714574, 0.0, 0.0, 0.5, 0.0, 0.43067655807339306, 0.0, 1.0, 1.0, 1.0, 0.0, 0.0, 1.0, 0.0, 0.0, 0.0, 0.0, 0.5, 0.38685280723454163, 1.0, 0.0, 0.30102999566398114, 0.30102999566398114, 0.3154648767857287, 0.5, 0.0, 0.0, 0.43067655807339306, 0.0, 0.0, 0.43067655807339306, 0.0, 0.0, 1.0, 1.0, 0.0, 0.0, 0.43067655807339306, 0.0, 1.0, 1.0, 0.3333333333333333, 0.43067655807339306, 1.0, 0.0, 0.0, 0.6309297535714574, 0.0, 0.5, 0.0, 0.0, 0.43067655807339306, 0.0, 0.3333333333333333, 0.8503449055347547, 0.6309297535714574, 0.6173196815056892, 0.6509209298071325, 0.0, 0.0, 0.30657359638272924, 0.5, 0.5, 0.0, 0.6309297535714574, 0.30102999566398114, 0.6309297535714574, 0.6240505200038378, 0.0, 0.0, 0.6309297535714574, 0.18457569677956817, 0.0, 1.0, 0.0, 1.0, 1.0, 0.0, 0.8772153153380494, 0.6309297535714574, 0.5, 1.0, 0.0, 0.38685280723454163, 1.0, 0.0, 0.0, 0.0, 1.0, 0.38685280723454163, 0.0, 0.0, 0.6309297535714574, 0.0, 0.2890648263178878, 1.0, 0.0, 0.6309297535714574, 1.0, 0.0, 0.0, 1.0, 0.3333333333333333, 0.0, 0.30657359638272924, 0.0, 0.9197207891481877, 0.0, 0.6309297535714574, 1.0, 1.0, 0.0, 0.0, 0.38685280723454163, 0.0, 0.0, 1.0, 1.0, 0.2890648263178878, 0.23719771276929624, 0.0, 0.0, 0.9197207891481877, 1.0, 1.0, 0.43067655807339306, 0.8772153153380494, 0.5, 0.0, 0.3562071871080222, 1.0, 1.0, 0.0, 0.6240505200038378, 1.0, 0.43067655807339306, 0.3562071871080222, 0.30657359638272924, 0.5, 0.0, 1.0, 0.3154648767857287, 0.6309297535714574, 0.6309297535714574, 0.38685280723454163, 0.6309297535714574, 0.625704968030342, 0.0, 1.0, 0.0, 0.0, 0.5, 0.23719771276929624, 0.43067655807339306, 1.0, 1.0, 0.3562071871080222, 0.0, 1.0, 0.0, 0.43067655807339306, 0.30102999566398114, 1.0, 1.0, 0.0, 1.0, 0.5, 0.6309297535714574, 0.0, 0.0, 0.5, 0.5, 0.5, 0.9197207891481877, 0.43067655807339306, 1.0, 0.3154648767857287, 0.3333333333333333, 0.0, 0.0, 0.0, 0.0, 0.448643819352159, 0.0, 0.6309297535714574, 0.0, 1.0, 0.6309297535714574, 0.0, 0.43067655807339306, 1.0, 1.0, 0.5, 1.0, 0.0, 0.0, 0.0, 0.0, 0.0, 0.43067655807339306, 0.5, 1.0, 0.0, 0.43067655807339306, 0.43067655807339306, 1.0, 0.6309297535714574, 0.0, 1.0, 1.0, 1.0, 0.5, 0.8175295903539446, 0.2890648263178878, 0.3562071871080222, 0.0, 0.0, 1.0, 0.5, 1.0, 1.0, 1.0, 1.0, 0.5, 1.0, 1.0, 0.0, 1.0, 0.0, 1.0, 0.0, 1.0, 0.0, 0.0, 0.0, 1.0, 0.43067655807339306, 0.0, 0.0, 0.39106560501896376, 0.0, 0.5, 1.0, 0.0, 0.6309297535714574, 0.0, 0.5, 0.5, 0.3154648767857287, 0.0, 0.6131471927654585, 0.30102999566398114, 1.0, 0.0, 0.5, 1.0, 0.43067655807339306, 1.0, 0.5, 0.0, 0.0, 1.0, 0.3333333333333333, 0.0, 0.43067655807339306, 1.0, 1.0, 0.0, 1.0, 0.3333333333333333, 0.38685280723454163]\n"
     ]
    }
   ],
   "source": [
    "#java bm25\n",
    "#get result and ndcg\n",
    "import json\n",
    "from elasticsearch import Elasticsearch\n",
    "es = Elasticsearch()\n",
    "ndcg_list=[];result_list=[]\n",
    "for i in each_qid1_cosidf:\n",
    "    qid1_title=es.get(\"javabm\", doc_type='_doc', id=i)['_source']['title']\n",
    "    \n",
    "    f = open(f'{i}.json')\n",
    "    data = json.load(f)\n",
    "    _search = ranking(i, qid1_title, data) # Figure 2\n",
    "    result = es.rank_eval(index=\"javabm\",body=_search)\n",
    "    result_list.append(result)\n",
    "        \n",
    "    ndcg = result['metric_score']\n",
    "    ndcg_list.append(ndcg)\n",
    " #   except OSError:\n",
    "  #      pass\n",
    "\n",
    "print(ndcg_list)   "
   ]
  },
  {
   "cell_type": "code",
   "execution_count": 24,
   "id": "6839ae3b-dbd6-43f3-b27c-c1ce8e620d41",
   "metadata": {},
   "outputs": [],
   "source": [
    "#java bm25\n",
    "#push result values to result json file\n",
    "import json\n",
    "with open('result_list_java_bm25.json', 'w') as fp:\n",
    "            fp.write(\n",
    "            '[\\n' +\n",
    "            ',\\n'.join(json.dumps(l) for l in result_list) +\n",
    "            '\\n]\\n')\n",
    "   "
   ]
  },
  {
   "cell_type": "code",
   "execution_count": 25,
   "id": "6399dfb1-0e37-459c-9fb7-f8d44ff0b8c6",
   "metadata": {},
   "outputs": [],
   "source": [
    "#java bm25\n",
    "#push ndcg scores to ndcg json file\n",
    "import json\n",
    "with open(\"ndcg_score_java_bm25.json\", 'w') as fp:\n",
    "            fp.write(\n",
    "            '[\\n' +\n",
    "            ','.join(json.dumps(l) for l in ndcg_list) +\n",
    "            '\\n]')\n"
   ]
  },
  {
   "cell_type": "code",
   "execution_count": 26,
   "id": "f662aa2f-e7f9-4b2b-8502-bb784869071d",
   "metadata": {},
   "outputs": [
    {
     "name": "stdout",
     "output_type": "stream",
     "text": [
      "0.4261403376059393\n"
     ]
    }
   ],
   "source": [
    "#java bm25\n",
    "#calculate avg score for java bm25\n",
    "sum=0\n",
    "for i in ndcg_list:\n",
    "    sum=sum+i\n",
    "average_ndcg=sum/len(ndcg_list)\n",
    "print(average_ndcg)"
   ]
  },
  {
   "cell_type": "code",
   "execution_count": 27,
   "id": "f5068419-93e1-428d-8d00-a7fc3425031b",
   "metadata": {},
   "outputs": [],
   "source": [
    "#java tf-idf\n",
    "#create ratings json for each qid1\n",
    "\n",
    "for k in each_qid1_cosidf:\n",
    "    ratings=[]\n",
    "    for j in range(len(javacosidf_corpus_dataframe)):\n",
    "            if(javacosidf_corpus_dataframe.qid1[j]==k):\n",
    "                        ratings.append({\"_index\":\"javatf\",\"_id\":javacosidf_corpus_dataframe.qid2[j],\"rating\":int(javacosidf_corpus_dataframe.label[j])})\n",
    "                        ratings=ratings[0:30]\n",
    "    import json\n",
    "    with open(f'{k}tf.json', 'w') as fp:\n",
    "            fp.write(\n",
    "            '[\\n' +\n",
    "            ',\\n'.join(json.dumps(l) for l in ratings) +\n",
    "            '\\n]\\n')"
   ]
  },
  {
   "cell_type": "code",
   "execution_count": 28,
   "id": "ef76d688-d2fb-4762-ac1c-4dc191fbd86a",
   "metadata": {},
   "outputs": [
    {
     "name": "stdout",
     "output_type": "stream",
     "text": [
      "[0.0, 0.0, 0.0, 0.0, 0.0, 0.0, 0.0, 0.0, 0.0, 0.0, 0.0, 0.0, 0.0, 0.0, 0.2640681225725909, 0.0, 0.0, 0.0, 0.0, 0.0, 0.0, 0.0, 0.0, 0.0, 0.0, 0.0, 0.0, 0.0, 0.0, 0.0, 0.0, 0.0, 0.0, 0.0, 0.0, 0.0, 0.0, 0.0, 0.0, 0.0, 0.0, 0.0, 0.0, 0.0, 0.0, 0.0, 0.0, 0.0, 0.0, 0.0, 0.0, 0.0, 0.0, 0.0, 0.0, 0.0, 0.0, 0.3333333333333333, 0.0, 0.0, 0.0, 0.0, 0.0, 0.0, 0.0, 0.0, 0.0, 0.0, 0.0, 0.0, 0.0, 0.0, 0.0, 1.0, 0.0, 0.0, 0.0, 0.0, 0.0, 0.0, 0.0, 0.0, 0.43067655807339306, 0.0, 0.0, 0.0, 0.0, 0.0, 0.0, 0.0, 0.0, 0.0, 0.0, 0.0, 0.0, 0.0, 0.0, 0.0, 0.0, 0.0, 0.0, 0.0, 0.0, 0.0, 0.0, 0.0, 0.0, 0.0, 0.0, 0.0, 0.0, 0.0, 0.0, 0.0, 0.0, 0.0, 0.0, 0.0, 0.0, 0.0, 0.0, 0.0, 0.0, 0.0, 0.0, 0.0, 0.0, 0.0, 0.0, 0.0, 0.0, 0.3333333333333333, 0.0, 0.0, 0.0, 0.0, 0.0, 0.0, 0.0, 0.0, 0.0, 0.0, 0.0, 0.0, 0.0, 0.0, 0.0, 0.0, 0.0, 0.0, 0.0, 0.0, 0.0, 0.0, 0.0, 0.0, 0.0, 0.0, 0.0, 0.0, 0.0, 0.0, 0.0, 0.0, 0.0, 0.0, 0.0, 0.0, 1.0, 0.0, 0.0, 0.0, 0.0, 0.0, 0.0, 0.0, 0.0, 0.0, 0.0, 0.0, 0.0, 0.0, 0.0, 0.0, 0.0, 0.0, 0.0, 0.0, 0.0, 0.0, 0.0, 0.0, 0.0, 0.0, 0.0, 0.0, 0.0, 0.0, 0.0, 0.0, 0.0, 0.0, 0.0, 0.0, 0.0, 0.0, 0.0, 0.0, 0.0, 0.0, 0.0, 0.0, 0.0, 0.0, 0.0, 0.0, 0.0, 0.0, 0.0, 0.0, 0.0, 0.0, 0.0, 0.0, 0.0, 0.0, 0.0, 0.0, 0.0, 0.0, 0.0, 0.0, 0.0, 0.0, 0.0, 0.0, 0.0, 0.0, 0.0, 0.0, 0.0, 0.0, 0.0, 0.0, 0.0, 0.0, 0.0, 0.3333333333333333, 0.0, 0.30102999566398114, 0.0, 0.0, 0.0, 0.0, 0.0, 0.0, 0.0, 0.0, 0.0, 0.0, 0.0, 0.0, 0.0, 0.0, 0.0, 0.0, 0.0, 0.0, 0.0, 0.0, 0.0, 0.0, 0.0, 0.0, 0.0, 0.0, 0.0, 0.0, 0.0, 0.0, 0.0, 0.0, 0.0, 0.0, 0.0, 0.0, 0.20438239758848614, 0.0, 0.0, 0.0, 0.0, 0.0, 0.0, 0.0, 0.0, 0.0, 0.0, 0.0, 0.0, 0.0, 0.0, 0.0, 0.0, 0.0, 0.3562071871080222, 0.0, 0.0, 0.0, 0.0, 0.0, 0.0, 0.0, 0.0, 0.0, 0.0, 0.0, 0.0, 0.0, 0.0, 0.0, 0.0, 0.0, 0.0, 0.0, 0.0, 0.0, 0.0, 0.0, 0.0, 0.0, 0.0, 0.0, 0.0, 0.0, 0.0, 0.0, 0.0, 0.0, 0.0, 0.0, 0.0, 0.0, 0.0, 0.0, 0.0, 0.0, 0.0, 0.0, 0.0, 0.0, 0.0, 0.0, 0.0, 0.0, 0.0, 0.0, 0.0, 0.0, 0.0, 0.0, 0.0, 0.0, 0.0, 0.0, 0.0, 0.6309297535714574, 0.0, 0.38685280723454163, 0.0, 0.0, 0.0, 0.0, 0.0, 0.0, 0.0, 0.0, 0.0, 0.0, 0.0, 0.0, 0.0, 0.0, 0.0, 0.0, 0.0, 0.0, 0.0, 0.0, 0.0, 0.0, 0.0, 0.0, 0.2890648263178878, 0.0, 0.0, 0.0, 0.0, 0.0, 0.0, 0.0, 0.0, 0.0, 0.0, 0.0, 0.0, 0.0, 0.0, 0.0, 0.0, 0.0, 0.0, 0.17723928678404774, 0.0, 0.0, 0.0, 0.0, 0.0, 0.0, 0.0, 0.0, 0.0, 0.0, 0.0, 0.0, 0.0, 0.0, 0.0, 0.0, 0.0, 0.0, 0.0, 0.0, 0.0, 0.0, 0.0, 0.0, 0.0, 0.0, 0.0, 0.0, 0.0, 0.0, 0.0, 0.0, 0.0, 0.0, 0.0, 0.0, 0.0, 0.0, 0.0, 0.0, 1.0, 0.0, 0.0, 0.0, 0.0, 0.0, 0.0, 0.0, 0.0, 0.0, 0.0, 0.0, 0.0, 0.0, 0.0, 0.0, 0.0, 0.0, 0.0, 0.30102999566398114, 0.3333333333333333, 0.0, 0.0, 0.0, 0.0, 0.0, 0.0, 0.0, 0.0, 0.0, 0.0, 0.0, 0.0, 0.0, 0.0, 0.0, 0.0, 0.0, 0.0, 0.0, 0.0, 0.0, 0.0, 0.0, 0.0, 0.0, 0.0, 0.0, 0.0, 0.0, 0.0, 0.0, 0.0, 0.0, 0.0, 0.0, 0.0, 0.0, 0.0, 0.0, 0.0, 0.0, 0.30102999566398114, 0.0, 0.0, 0.0, 0.0, 0.0, 0.0, 0.0, 0.0, 0.0, 0.0, 0.0, 0.0, 0.0, 0.0, 0.0, 0.0, 0.0, 0.0, 0.0, 0.0, 0.0, 0.0, 0.0, 0.0, 0.0, 0.0, 0.0, 0.0, 0.38685280723454163, 0.0, 0.0, 0.0, 0.0, 0.0, 0.0, 0.0, 0.0, 0.0, 0.0, 0.0, 0.0, 0.0, 0.0, 0.0, 0.0, 0.0, 0.0, 0.0, 0.0, 0.0, 0.0, 0.0, 0.17723928678404774, 0.0, 0.0, 0.0, 0.0, 0.0, 0.0, 0.0, 0.0, 0.0, 0.0, 0.0, 0.0, 0.0, 0.0, 0.0, 0.0, 0.0, 0.0, 0.0, 0.0, 0.0, 0.0, 0.0, 0.0, 0.0, 0.0, 0.0, 0.0, 0.0, 0.0, 0.0, 0.0, 0.0, 0.0, 0.0, 0.0, 0.0, 0.0, 0.0, 0.0, 0.0, 0.0, 0.0, 0.0, 0.0, 0.0, 0.0, 0.0, 0.0, 0.0, 0.2640681225725909, 0.0, 0.0, 0.0, 0.0, 0.0, 0.0, 0.0, 0.0, 0.0, 0.0, 0.0, 0.0, 0.3333333333333333, 0.0, 0.0, 0.0, 0.0, 0.0, 0.0, 0.0, 0.0, 0.0, 0.0, 0.0, 0.0, 0.0, 0.0, 0.0, 0.0, 0.0, 0.0, 0.0, 0.0, 0.0, 0.0, 0.0, 0.0, 0.0, 0.0, 0.0, 0.0, 0.0, 0.0, 0.0, 0.0, 0.0, 0.0, 0.0, 0.0, 0.0, 0.0, 0.0, 0.0, 0.0, 0.0, 0.0, 0.0, 0.0, 0.0, 0.0, 0.0, 0.0, 0.0, 0.0, 0.0, 0.0, 0.0, 0.0, 0.0, 0.0, 0.0, 0.0, 0.0, 0.0, 0.0, 0.0, 0.0, 0.0, 0.0, 0.0, 0.0, 0.0, 0.0, 0.0, 0.0, 0.0, 1.0, 0.0, 0.0, 0.0, 0.0, 0.0, 0.3333333333333333, 0.0, 0.0, 0.0, 0.0, 0.0, 0.0, 0.6309297535714574, 0.0, 0.0, 0.0, 0.0, 0.0, 0.0, 0.0, 0.0, 0.0, 0.0, 0.0, 0.0, 0.0, 0.0, 0.0, 0.0, 0.0, 0.0, 0.0, 0.0, 0.0, 0.0, 0.0, 0.0, 0.0, 0.0, 0.0, 0.0, 0.0, 0.0, 0.0, 0.0, 0.0, 0.0, 0.0, 0.0, 0.0, 0.5, 0.0, 0.0, 0.0, 0.0, 0.0, 0.0, 0.0, 0.0, 0.0, 0.0, 0.0, 0.0, 0.0, 0.0, 0.0, 0.0, 0.0, 0.0, 0.0, 0.2890648263178878, 0.0, 0.0, 0.0, 0.0, 0.0, 0.0, 0.0, 0.0, 0.0, 0.0, 0.0, 0.0, 0.0, 0.0, 0.0, 0.0, 0.0, 0.0, 0.3154648767857287, 0.0, 0.0, 0.0, 0.0, 0.0, 0.3154648767857287, 0.0, 0.0, 0.0, 0.0, 0.0, 0.0, 0.0, 0.0, 0.0, 0.0, 0.0, 0.0, 0.0, 0.0, 0.0, 0.0, 0.0, 0.0, 0.0, 0.0, 0.0, 0.0, 0.0, 0.0, 0.0, 0.0, 0.0, 0.0, 0.0, 0.0, 0.0, 0.0, 0.0, 0.0, 0.0, 0.0, 0.0, 0.3562071871080222, 0.0, 0.0, 0.0, 0.0, 0.0, 0.0, 0.0, 0.0, 0.0, 0.0, 0.0, 0.0, 0.0, 0.0, 0.0, 0.0, 0.0, 0.0, 0.0, 0.0, 0.0, 0.0, 0.0, 0.0, 0.0, 0.0, 0.5, 0.0, 0.0, 0.0, 0.0, 0.0, 0.0, 0.0, 0.0, 0.0, 0.0, 0.0, 0.0, 0.0, 0.3154648767857287, 0.0, 0.0, 0.0, 0.0, 0.0, 0.0, 0.0, 0.0, 0.0, 0.0, 0.0, 0.0, 0.0, 0.0, 0.0, 0.0, 0.0, 0.0, 0.0, 0.0, 0.0, 0.0, 0.0, 0.0, 0.0, 0.0, 0.0, 0.0, 0.0, 0.0, 0.0, 0.0, 0.0, 0.0, 0.0, 0.0, 0.0, 0.0, 0.0, 0.0, 0.0, 0.0, 0.0, 0.0, 0.0, 0.0, 0.0, 0.0, 0.0, 0.0, 0.0, 0.0, 0.0, 0.0, 0.0, 0.0, 0.0, 0.0, 0.0, 0.0, 0.0, 0.0, 0.0, 0.0, 0.0, 0.0, 0.0, 0.0, 0.0, 0.0, 0.0, 0.0, 0.0, 0.0, 0.0, 0.0, 0.0, 0.0, 0.0, 0.0, 0.0, 0.0, 0.0, 0.0, 0.0, 0.0, 0.0, 0.0, 0.0, 0.0, 0.0, 0.0, 0.0, 0.0, 0.0, 0.0, 0.0, 0.0, 0.0, 0.0, 0.0, 0.0, 0.0, 0.0, 0.2890648263178878, 0.0, 0.0, 0.0, 0.0, 0.0, 0.0, 0.0, 0.0, 0.0, 0.0, 0.0, 0.0, 0.0, 0.0, 0.0, 0.0, 0.0, 0.0, 0.0, 0.0, 0.0, 0.0, 0.0, 0.0, 0.0, 0.0, 0.0, 0.0, 0.0, 0.0, 0.0, 0.0, 0.0, 0.0, 0.0, 0.0, 0.0, 0.0, 0.0, 0.0, 0.0, 0.0, 0.0, 0.0, 0.0, 0.0, 0.0, 0.0, 0.0, 0.0, 0.0, 0.0, 0.3154648767857287, 0.0, 0.0, 0.0, 0.0, 0.0, 0.0, 0.0, 0.0, 0.0, 0.0, 0.0, 0.0, 0.0, 0.0, 0.0, 0.0, 0.0, 0.0, 0.0, 0.0, 0.0, 0.0, 0.0, 0.0, 0.0, 0.0, 0.0, 0.0, 0.0, 0.0, 0.0, 0.0, 0.0, 0.0, 0.0, 0.0, 0.0, 0.0, 0.0, 0.0, 0.0, 0.0, 0.0, 0.0, 0.0, 0.0, 0.0, 0.0, 0.0, 0.0, 0.0, 0.0, 0.0, 0.0, 0.0, 0.0, 0.0, 0.0, 0.0, 0.0, 0.0, 0.0, 0.0, 0.0, 0.0, 0.0, 0.0, 0.0, 0.23463936301137828, 0.0, 0.0, 0.0, 0.0, 0.0, 0.0, 0.0, 0.0, 0.0, 0.0, 0.0, 0.0, 0.0, 0.0, 0.0, 0.0, 0.0, 0.0, 0.0, 0.0, 0.0, 0.0, 0.0, 0.0, 0.0, 0.0, 0.0, 0.0, 0.0, 0.0, 0.0, 0.0, 0.0, 0.0, 0.0, 0.0, 0.0, 0.0, 0.0, 0.0, 0.0, 0.0, 0.0, 0.0, 0.19342640361727081, 0.0, 0.0, 0.0, 0.0, 0.0, 0.0, 0.0, 0.0, 0.0, 0.0, 0.0, 0.0, 0.0, 0.0, 0.0, 0.0, 0.0, 0.0, 0.0, 0.0, 0.3333333333333333, 0.0, 0.0, 0.0, 0.0, 0.0, 0.0, 0.0, 0.0, 0.0, 0.0, 0.0, 0.0, 0.0, 0.0, 0.0, 0.0, 0.0, 0.0, 0.0, 0.0, 0.0, 0.0, 0.0, 0.0, 0.0, 0.0, 0.0, 0.0, 0.0, 0.0, 0.0, 0.0, 0.0, 0.0, 0.0, 0.0, 0.0, 0.0, 0.0, 0.0, 0.0, 0.0, 0.0, 0.0, 0.0, 0.0, 0.0, 0.0, 0.0, 0.0, 0.0, 0.0, 0.0, 0.0, 0.0, 0.0, 0.0, 0.0, 0.30102999566398114, 0.0, 0.0, 0.0, 0.0, 0.6131471927654585, 0.0, 0.0, 0.0, 0.0, 0.0, 0.0, 0.0, 0.0, 0.0, 0.0, 0.0, 0.0, 0.0, 0.0, 0.0, 0.0, 0.0, 0.0, 0.0, 0.0, 0.0, 0.0, 0.0, 0.0, 0.0, 0.0, 0.0, 0.0, 0.0, 0.0, 0.0, 0.0, 0.0, 0.0, 0.0, 0.0, 0.0, 0.0, 0.0, 0.0, 0.0, 0.0, 0.0, 0.0, 0.0, 0.0, 0.0, 0.0, 0.0, 0.0, 0.0, 0.0, 0.0, 0.0, 0.0, 0.0, 0.0, 0.0, 0.0, 0.0, 0.0, 0.0, 0.0, 0.0, 0.0, 0.0, 0.0, 0.0, 0.0, 0.0, 0.0, 0.0, 0.0, 0.0, 0.0, 0.0, 0.0, 0.0, 0.0, 0.0, 0.0, 0.0, 0.0, 0.0, 0.0, 0.0, 0.0, 0.0, 0.0, 0.0, 0.0, 0.0, 0.0, 0.0, 0.0, 0.0, 0.0, 0.0, 0.0, 0.0, 0.0, 0.0, 0.0, 0.0, 0.0, 0.0, 0.0, 0.0, 0.0, 0.0, 0.0, 0.0, 0.0, 0.0, 0.0, 0.0, 0.0, 0.0, 0.0, 0.0, 0.0, 0.0, 0.0, 0.0, 0.0, 0.0, 0.0, 0.0, 0.0, 0.0, 0.0, 0.0, 0.0, 0.0, 0.0, 0.0, 0.0, 0.0, 0.0, 0.0, 0.0, 0.0, 0.0, 0.0, 0.0, 0.0, 0.0, 0.0, 0.0, 0.0, 0.0, 0.0, 0.0, 0.0, 0.0, 0.0, 0.0, 0.0, 0.0, 0.0, 0.0, 0.0, 0.0, 0.0, 0.0, 0.0, 0.0, 0.0, 0.0, 0.0, 0.0, 0.0, 0.0, 0.0, 0.0, 0.0, 0.0, 0.0, 0.0, 0.0, 0.0, 0.0, 0.0, 0.0, 0.0, 0.0, 0.0, 0.0, 0.0, 0.0, 0.0, 0.0, 0.0, 0.0, 0.0, 0.0, 0.0, 0.0, 0.0, 0.0, 0.0, 0.0, 0.0, 0.30102999566398114, 0.0, 0.0, 0.0, 0.0, 0.0, 0.0, 0.0, 0.0, 0.0, 0.0, 0.0, 0.0, 0.0, 0.0, 0.0, 0.0, 0.0, 0.0, 0.0, 0.0, 0.0, 0.0, 0.0, 0.0, 0.0, 0.0, 0.0, 0.0, 0.0, 0.0, 0.0, 0.0, 0.0, 0.0, 0.0, 0.0, 0.0, 0.0, 0.0, 0.0, 0.0, 0.0, 0.0, 0.0, 0.0, 0.0, 0.0, 0.0, 0.0, 0.0, 0.0, 0.0, 0.0, 0.0, 0.0, 0.0, 0.0, 0.24630238874073, 0.0, 0.0, 0.0, 0.0, 0.0, 0.0, 0.0, 0.0, 0.0, 0.0, 0.0, 0.0, 0.0, 0.0, 0.0, 0.0, 0.0, 0.0, 0.0, 0.0, 0.0, 0.0, 0.0, 0.0, 0.0, 0.0, 0.0, 0.0, 0.0, 0.0, 0.0, 0.0, 0.0, 0.0, 0.0, 0.0, 0.0, 0.0, 0.0, 0.30102999566398114, 0.0, 0.0, 0.0, 0.0, 0.0, 0.0, 0.0, 0.0, 0.0, 0.0, 0.0, 0.0, 0.0, 0.0, 0.0, 0.0, 0.0, 0.0, 0.0, 0.0, 0.0, 0.0, 0.0, 0.0, 0.0, 0.0, 0.0, 0.0, 0.0, 0.0, 0.0, 0.0, 0.0, 0.0, 0.0, 0.0, 0.0, 0.0, 0.0, 0.0, 0.0, 0.0, 0.30657359638272924, 0.0, 0.0, 0.0, 0.0, 0.0, 0.0, 0.0, 0.0, 0.0, 0.0, 0.0, 0.0, 0.0, 0.0, 0.0, 0.0, 0.0, 0.0, 0.0, 0.0, 0.0, 0.0, 0.0, 0.0, 0.0, 0.0, 0.0, 0.0, 0.0, 0.0, 0.0, 0.0, 0.0, 0.0, 0.0, 0.0, 0.0, 0.0, 0.0, 0.0, 0.0, 0.0, 0.0, 0.0, 0.6309297535714574, 0.0, 0.0, 0.0, 0.0, 0.0, 0.0, 0.0, 0.0, 0.0, 0.0, 0.0, 0.0, 0.0, 0.0, 0.0, 0.0, 0.0, 0.0, 0.0, 0.0, 0.0, 0.0, 0.0, 0.0, 0.0, 0.0, 0.0, 0.0, 0.0, 0.0, 0.0, 0.0, 0.0, 0.0, 0.0, 0.0, 0.0, 0.0, 0.0, 0.0, 0.0, 0.0, 0.0, 0.0, 0.0, 0.0, 0.0, 0.0, 0.0, 0.0, 0.0, 0.0, 0.0, 0.0, 0.0, 0.0, 0.0, 0.0, 0.0, 0.0, 0.0, 0.0, 0.0, 0.0, 0.0, 0.0, 0.0, 0.0, 0.0, 0.0, 0.0, 0.0, 0.0, 0.0, 0.0, 0.0, 0.0, 0.0, 0.0, 0.0, 0.0, 0.0, 0.0, 0.0, 0.0, 0.0, 0.0, 0.0, 0.0, 0.0, 0.0, 0.0, 0.0, 0.0, 0.0, 0.0, 0.0, 0.0, 0.0, 0.0, 0.0, 0.0, 0.0, 0.0, 0.0, 0.0, 0.0, 0.0, 0.0, 0.0, 0.0, 0.0, 0.0, 0.6309297535714574, 0.0, 0.0, 0.0, 0.0, 0.0, 0.0, 0.0, 0.0, 0.0, 0.0, 0.0, 0.0, 0.0, 1.0, 0.0, 0.0, 0.0, 0.0, 0.0, 0.0, 0.0, 0.0, 0.0, 0.0, 0.0, 0.0, 0.0, 0.0, 0.0, 0.0, 0.0, 0.0, 0.0, 0.0, 0.0, 0.0, 0.0, 0.0, 0.0, 0.0, 0.0, 0.0, 0.0, 0.0, 0.0, 0.0, 0.0, 0.0, 0.0, 0.0, 0.0, 0.0, 0.0, 0.0, 0.0, 0.0, 0.0, 0.0, 0.0, 0.0, 0.0, 0.0, 0.0, 0.0, 0.0, 0.0, 0.0, 0.0, 0.0, 0.0, 0.0, 0.0, 0.0, 0.0, 0.0, 0.0, 0.0, 0.0, 0.0, 0.0, 0.0, 0.0, 0.0, 0.0, 0.0, 0.0, 0.0, 0.0, 0.0, 0.0, 0.0, 0.0, 0.0, 0.0, 0.0, 0.0, 0.0, 0.0, 0.0, 0.0, 0.0, 0.0, 0.0, 0.0, 0.0, 0.0, 0.0, 0.0, 0.0, 0.0, 0.0, 0.0, 0.0, 0.0, 0.0, 0.0, 0.0, 0.0, 0.0, 0.0, 0.0, 0.0, 0.0, 0.0, 0.0, 0.0, 0.0, 0.0, 0.0, 0.0, 0.0, 0.0, 0.0, 0.0, 0.0, 0.0, 0.0, 0.0, 0.0, 0.0, 0.0, 0.0, 0.0, 0.0, 0.0, 0.0, 0.0, 0.0, 0.0, 0.0, 0.0, 0.0, 0.0, 0.0, 0.0, 0.0, 0.0, 0.0, 0.0, 0.0, 0.0, 0.0, 0.0, 0.0, 0.0, 0.0, 0.0, 0.38685280723454163, 0.0, 0.0, 0.0, 0.0, 0.0, 1.0, 0.0, 0.0, 0.0, 0.0, 0.0, 0.0, 0.0, 0.0, 0.0, 0.0, 0.0, 0.0, 0.0, 0.0, 0.0, 0.0, 0.0, 0.0, 0.0, 0.0, 0.0, 0.0, 0.0, 0.0, 0.0, 0.0, 0.0, 0.0, 0.0, 0.0, 0.3562071871080222, 0.0, 0.0, 0.0, 0.0, 0.0, 0.0, 0.0, 0.0, 0.0, 0.0, 0.0, 0.0, 0.0, 0.0, 0.0, 0.0, 0.0, 0.0, 0.0, 0.0, 0.0, 0.0, 0.0, 0.0, 0.0, 0.0, 0.0, 0.0, 0.0, 0.0, 0.0, 0.0, 0.0, 0.0, 0.0, 0.0, 0.0, 0.0, 0.0, 0.0, 0.0, 0.0, 0.0, 0.0, 0.0, 0.0, 0.0, 0.0, 0.0, 0.0, 0.0, 0.0, 0.0, 0.0, 0.0, 0.0, 0.0, 0.0, 0.0, 0.0, 0.0, 0.0, 0.0, 0.0, 0.0, 0.0, 0.0, 0.0, 0.0, 0.0, 0.0, 0.0, 0.0, 0.0, 0.0, 0.0, 0.0, 0.0, 0.0, 0.0, 0.0, 0.0, 0.0, 0.0, 0.0, 0.0, 0.0, 0.0, 0.0, 0.0, 0.0, 0.0, 0.0, 0.0, 0.0, 0.0, 0.0, 0.0, 0.0, 0.0, 0.0, 0.0, 0.0, 0.0, 0.0, 0.0, 0.0, 0.0, 0.0, 0.0, 0.0, 0.0, 0.0, 0.0, 0.0, 0.0, 0.0, 0.30102999566398114, 0.0, 0.0, 0.0, 0.0, 0.0, 0.0, 0.0, 0.0, 0.0, 0.0, 0.0, 0.0, 0.0, 0.0, 0.0, 0.0, 0.0, 0.0, 0.0, 0.0, 0.0, 0.0, 0.0, 0.0, 0.0, 0.0, 0.0, 0.0, 0.0, 0.0, 0.0, 0.0, 0.30102999566398114, 0.0, 0.0, 0.0, 0.0, 0.0, 0.0, 0.0, 0.0, 0.0, 0.0, 0.0, 0.0, 0.0, 0.0, 0.0, 0.0, 0.0, 0.0, 0.0, 0.0, 0.0, 0.0, 0.0, 0.0, 0.0, 0.0, 0.0, 0.0, 0.0, 0.0, 0.0, 0.0, 0.0, 0.0, 0.0, 0.0, 0.0, 0.0, 0.0, 0.0, 0.0, 0.8772153153380494, 0.0, 0.0, 0.6309297535714574, 0.0, 0.0, 0.0, 0.0, 0.0, 0.0, 0.0, 0.0, 0.0, 0.0, 0.0, 0.0, 0.0, 0.0, 0.0, 0.0, 0.0, 0.0, 0.0, 0.0, 0.0, 0.0, 0.0, 0.0, 0.0, 0.0, 0.0, 0.0, 0.0, 0.0, 0.0, 0.0, 0.0, 0.0, 0.0, 0.0, 0.0, 0.0, 0.0, 0.0, 0.0, 0.0, 0.0, 0.0, 0.0, 0.0, 0.0, 0.0, 0.0, 0.0, 0.0, 0.0, 0.0, 0.0, 0.0, 0.0, 0.0, 0.0, 0.0, 0.0, 0.43067655807339306, 0.0, 0.0, 0.0, 0.0, 0.0, 0.0, 0.0, 0.30102999566398114, 0.0, 0.0, 0.0, 0.0, 0.0, 0.0, 0.0, 0.0, 0.0, 0.0, 0.0, 0.0, 0.0, 0.0, 0.0, 0.0, 0.0, 0.0, 0.0, 0.0, 0.0, 0.0, 0.0, 0.0, 0.0, 0.0, 0.0, 0.0, 0.0, 0.0, 0.0, 0.0, 0.0, 0.0, 0.0, 0.0, 0.0, 0.0, 0.0, 0.0, 0.0, 0.0, 0.0, 0.0, 0.38685280723454163, 0.38685280723454163, 0.0, 0.0, 0.0, 0.0, 0.0, 0.0, 0.0, 0.0, 0.0, 0.0, 0.0, 0.0, 0.0, 0.0, 0.0, 0.0, 0.0, 0.0, 0.2184074368181642, 0.0, 0.0, 0.0, 0.0, 0.0, 0.0, 0.0, 0.0, 0.0, 0.0, 0.0, 0.0, 0.0, 0.0, 0.0, 0.0, 0.0, 0.0, 0.0, 0.0, 0.0, 0.0, 0.0, 0.0, 0.0, 0.0, 0.0, 0.0, 0.0, 0.0, 0.0, 0.0, 0.0, 0.0, 0.0, 0.0, 0.0, 0.0, 0.0, 0.0, 0.0, 0.0, 0.0, 0.0, 0.0, 0.0, 0.0, 0.0, 0.0, 0.0, 0.0, 0.0, 0.0, 0.0, 0.0, 0.0, 0.0, 0.0, 0.0, 0.0, 0.0, 0.0, 0.0, 0.0, 0.0, 0.0, 0.0, 0.0, 0.0, 0.0, 0.0, 0.0, 0.0, 0.0, 0.0, 0.0, 0.0, 0.0, 0.0, 0.0, 0.0, 0.0, 0.0, 0.0, 0.0, 0.0, 0.0, 0.0, 0.0, 0.0, 0.0, 0.0, 0.0, 0.0, 0.0, 0.0, 0.0, 0.0, 0.0, 0.0, 0.0, 0.0, 0.0, 0.0, 0.0, 0.0, 0.0, 0.0, 0.0, 0.0, 0.0, 0.0, 0.0, 0.0, 0.0, 0.0, 0.0, 0.0, 0.0, 0.0, 0.0, 0.0, 0.0, 0.0, 0.0, 0.0, 0.0, 0.0, 0.0, 0.0, 0.0, 0.0, 0.0, 0.0, 0.0, 0.0, 0.5, 0.0, 0.0, 0.0, 0.0, 0.0, 0.0, 0.0, 0.0, 0.0, 0.0, 0.0, 0.0, 0.0, 0.0, 0.0, 0.0, 0.0, 0.0, 0.0, 0.0, 0.0, 0.0, 0.0, 0.0, 0.0, 0.0, 0.0, 0.0, 0.0, 0.0, 0.0, 0.19342640361727081, 0.0, 0.0, 0.0, 0.0, 0.0, 0.0, 0.0, 0.0, 0.0, 0.0, 0.0, 0.0, 0.0, 0.0, 0.0, 0.0, 0.0, 0.0, 0.0, 0.0, 0.0, 0.0, 0.0, 0.0, 0.0, 0.0, 0.0, 0.0, 0.0, 0.0, 0.0, 0.0, 0.0, 0.0, 0.0, 0.0, 0.0, 0.0, 0.0, 0.0, 0.0, 0.0, 0.0, 0.0, 0.0, 0.0, 0.0, 0.0, 0.0, 0.0, 0.0, 0.0, 0.0, 0.0, 0.0, 0.0, 0.0, 0.0, 0.3154648767857287, 0.0, 0.0, 0.0, 0.0, 0.0, 0.0, 0.0, 0.0, 0.0, 0.0, 0.0, 0.0, 0.0, 0.0, 0.0, 0.0, 0.0, 0.0, 0.0, 0.0, 0.0, 0.0, 0.0, 0.0, 0.0, 0.0, 0.0, 0.0, 0.0, 0.0, 0.0, 0.0, 0.0, 0.0, 0.0, 0.43067655807339306, 0.0, 0.0, 0.0, 0.0, 0.0, 0.0, 0.0, 0.0, 0.0, 0.0, 0.0, 0.0, 0.0, 0.0, 0.0, 0.0, 0.0, 0.0, 0.0, 0.0, 0.0, 0.0, 0.0, 0.0, 0.0, 0.0, 0.0, 0.0, 0.0, 0.0, 0.0, 0.0, 0.0, 0.0, 0.0, 0.0, 0.0, 0.30102999566398114, 0.0, 0.0, 0.0, 0.5437713091520254, 0.0, 0.0, 0.0, 0.38685280723454163, 0.0, 0.0, 0.0, 0.0, 0.0, 0.0, 0.0, 0.0, 0.0, 0.0, 0.2890648263178878, 0.0, 0.0, 0.0, 0.0, 0.0, 0.0, 0.0, 0.0, 0.0, 0.0, 0.0, 0.6309297535714574, 0.0, 0.0, 0.0, 0.0, 1.0, 0.0, 0.0, 0.0, 0.0, 0.0, 0.0, 0.0, 0.0, 0.0, 0.0, 0.0, 0.0, 0.0, 0.0, 0.0, 0.0, 0.0, 0.0, 0.0, 0.0, 0.0, 0.0, 0.0, 0.0, 0.0, 0.0, 0.0, 0.14804095548293264, 0.0, 0.0, 0.0, 0.0, 0.0, 0.0, 0.0, 0.0, 0.0, 0.6309297535714574, 0.0, 0.0, 0.0, 0.0, 0.0, 0.0, 0.0, 0.0, 0.0, 0.0, 0.0, 0.0, 0.0, 0.0, 0.0, 0.0, 0.0, 0.0, 0.0, 0.0, 0.6131471927654585, 0.0, 0.0, 0.0, 0.0, 0.0, 0.0, 0.0, 0.0, 0.0, 1.0, 0.3562071871080222, 0.0, 0.0, 0.0, 0.0, 0.0, 0.0, 0.0, 0.0, 0.0, 0.0, 0.0, 0.0, 0.0, 0.0, 0.0, 0.0, 0.0, 0.0, 0.0, 0.0, 0.0, 0.0, 0.0, 0.0, 0.0, 0.0, 0.38685280723454163, 0.0, 0.0, 0.0, 0.0, 0.0, 0.0, 0.0, 0.0, 0.0, 0.0, 0.0, 0.0, 0.0, 0.0, 0.0, 0.0, 0.0, 0.0, 0.0, 0.0, 0.0, 0.0, 0.0, 0.0, 0.0, 0.0, 0.0, 0.0, 0.0, 0.0, 0.0, 0.0, 0.0, 0.0, 0.0, 0.0, 0.0, 0.0, 0.0, 0.0, 0.0, 0.0, 0.0, 0.0, 0.0, 0.0, 0.0, 0.0, 0.0, 0.0, 0.0, 0.0, 0.0, 0.0, 0.0, 0.0, 0.0, 0.0, 0.0, 0.0, 0.0, 0.0, 0.0, 0.0, 0.0, 0.0, 0.0, 0.0, 0.0, 0.0, 0.0, 0.0, 0.0, 0.0, 0.0, 0.0, 0.0, 0.0, 0.43067655807339306, 0.0, 0.0, 0.0, 0.0, 0.0, 0.0, 0.0, 0.0, 0.0, 0.0, 0.0, 0.0, 0.0, 0.1815417925373527, 0.0, 0.0, 0.0, 0.0, 0.0, 0.0, 0.0, 0.0, 0.0, 0.0, 0.0, 0.0, 0.0, 0.0, 0.0, 0.0, 0.0, 0.0, 0.0, 0.0, 0.0, 0.38685280723454163, 0.0, 0.0, 0.0, 0.0, 0.0, 0.0, 0.0, 0.0, 0.0, 1.0, 0.0, 0.3154648767857287, 0.0, 0.0, 0.0, 0.0, 0.0, 0.0, 0.0, 0.0, 0.0, 0.0, 0.0, 0.0, 0.0, 0.0, 0.0, 0.0, 0.0, 0.0, 0.0, 0.0, 0.0, 0.0, 0.0, 0.0, 0.0, 0.0, 0.0, 0.0, 0.0, 0.0, 0.0, 0.0, 0.0, 0.0, 0.0, 0.0, 0.0, 0.0, 0.0, 0.0, 0.0, 0.0, 0.0, 0.16716045496620233, 0.0, 0.0, 0.0, 0.0, 0.0, 0.0, 0.0, 0.0, 0.0, 0.0, 0.0, 0.0, 0.0, 0.0, 0.0, 0.0, 0.0, 0.0, 0.0, 0.0, 0.0, 0.0, 0.0, 0.0, 0.0, 0.0, 0.0, 0.0, 0.0, 0.30657359638272924, 0.0, 0.0, 0.0, 0.0, 0.0, 0.0, 0.0, 0.0, 0.0, 0.0, 0.0, 0.0, 0.0, 0.0, 0.0, 0.0, 0.0, 0.0, 0.0, 0.0, 0.0, 0.0, 0.0, 0.0, 0.0, 0.0, 0.0, 0.0, 0.0, 0.0, 0.0, 0.0, 0.0, 0.0, 0.0, 0.0, 0.0, 0.0, 0.0, 0.0, 0.0, 0.0, 0.0, 0.0, 0.0, 0.0, 0.0, 0.0, 0.0, 0.0, 0.0, 0.0, 0.0, 0.0, 0.0, 0.0, 0.0, 0.0, 0.0, 0.0, 0.0, 0.0, 0.0, 0.0, 0.0, 0.0, 0.0, 0.0, 0.0, 0.0, 0.0, 0.0, 0.0, 0.0, 0.0, 0.0, 0.0, 0.0, 0.0, 0.0, 0.0, 0.0, 0.0, 0.0, 0.0, 0.0, 0.0, 0.0, 0.0, 0.0, 0.0, 0.0, 0.20438239758848614, 0.0, 0.0, 0.0, 0.0, 0.0, 0.0, 0.0, 0.0, 0.0, 0.0, 0.0, 0.0, 0.3562071871080222, 0.0, 0.0, 0.2640681225725909, 0.0, 0.0, 0.0, 0.0, 0.0, 0.0, 0.0, 0.0, 0.0, 0.0, 0.0, 0.0, 0.0, 0.0, 0.0, 0.0, 0.0, 0.0, 0.0, 0.0, 0.0, 0.0, 0.0, 0.0, 0.0, 0.0, 0.0, 0.0, 0.0, 0.0, 0.0, 0.1815417925373527, 0.0, 0.0, 0.0, 0.0, 0.0, 0.0, 0.0, 0.0, 0.0, 0.0, 0.0, 0.0, 0.0, 0.0, 0.0, 0.0, 0.0, 0.0, 0.0, 0.0, 0.0, 0.0, 0.0, 0.0, 0.0, 0.0, 0.0, 0.0, 0.0, 0.0, 0.0, 0.0, 0.0, 0.0, 0.0, 0.0, 0.0, 0.0, 0.0, 0.0, 0.0, 0.0, 0.0, 0.0, 0.0, 0.0, 0.0, 0.0, 0.0, 0.0, 0.0, 0.0, 0.0, 0.0, 0.0, 0.0, 0.0, 0.0, 0.0, 0.0, 0.0, 0.0, 0.0, 0.0, 0.0, 0.0, 0.0, 0.0, 0.0, 0.0, 0.0, 0.0, 0.0, 0.0, 0.0, 0.0, 0.0, 0.0, 0.0, 0.0, 0.0, 0.0, 0.0, 0.0, 0.0, 0.0, 0.0, 0.0, 0.0, 0.0, 0.0, 0.0, 0.0, 0.0, 0.0, 0.0, 0.0, 0.0, 0.0, 0.0, 0.0, 0.0, 0.0, 0.0, 0.0, 0.0, 0.0, 0.0, 0.0, 0.0, 0.0, 0.0, 0.0, 0.0, 0.0, 0.0, 0.0, 0.0, 0.0, 0.0, 0.0, 0.0, 0.0, 0.0, 0.0, 0.0, 0.0, 0.0, 0.0, 0.0, 0.0, 0.0, 0.0, 0.0, 0.0, 0.0, 0.0, 0.0, 0.0, 0.0, 0.0, 0.0, 0.0, 0.0, 0.0, 0.0, 0.0, 0.0, 0.0, 0.0, 0.0, 0.0, 0.0, 0.0, 0.0, 0.0, 0.0, 0.0, 0.0, 0.0, 0.0, 0.0, 0.0, 0.0, 0.0, 0.0, 0.0, 0.0, 0.0, 0.0, 0.0, 0.0, 0.38685280723454163, 0.0, 0.0, 0.0, 0.0, 0.0, 0.0, 0.0, 0.0, 0.0, 0.0, 0.0, 0.0, 0.0, 0.0, 0.0, 0.0, 0.0, 0.0, 0.0, 0.0, 0.0, 0.0, 0.0, 0.0, 0.0, 0.0, 0.30102999566398114, 0.0, 0.0, 0.0, 0.0, 0.0, 0.0, 0.0, 0.0, 0.0, 0.0, 0.0, 0.0, 0.0, 0.0, 0.0, 0.0, 0.0, 0.0, 0.0, 0.0, 0.0, 0.0, 0.0, 0.0, 0.0, 0.0, 0.0, 0.0, 0.0, 0.0, 0.0, 0.0, 0.0, 0.0, 0.0, 0.20438239758848614, 0.0, 0.0, 0.0, 0.0, 0.0, 0.0, 0.0, 0.0, 0.0, 0.0, 0.0, 0.0, 0.0, 0.0, 0.0, 0.0, 0.0, 0.0, 0.0, 0.0, 0.0, 0.0, 0.0, 0.0, 0.0, 0.0, 0.38685280723454163, 0.0, 0.0, 0.0, 0.0, 0.0, 0.0, 0.0, 0.0, 0.0, 0.0, 0.0, 0.0, 0.0, 0.0, 0.0, 0.0, 0.0, 0.0, 0.0, 0.0, 0.0, 0.0, 0.0, 0.30102999566398114, 0.3562071871080222, 0.0, 0.0, 0.0, 0.0, 0.0, 0.0, 0.0, 0.0, 0.0, 0.0, 0.0, 0.0, 0.0, 0.0, 0.0, 0.0, 0.0, 0.0, 0.0, 0.0, 0.0, 0.0, 0.0, 0.0, 0.0, 0.0, 0.0, 0.0, 0.0, 0.0, 0.0, 0.0, 0.0, 0.0, 0.0, 0.0, 0.0, 0.0, 0.0, 0.0, 0.0, 0.0, 0.0, 0.0, 0.0, 0.0, 0.0, 0.0, 0.0, 0.0, 0.0, 0.0, 0.0, 0.0, 0.0, 0.0, 0.0, 0.0, 0.0, 0.0, 0.0, 0.0, 0.0, 0.0, 0.0, 0.0, 0.18457569677956817, 0.0, 0.0, 0.0, 0.0, 0.0, 0.0, 0.0, 0.0, 0.0, 0.0, 0.0, 0.0, 0.0, 0.6309297535714574, 0.0, 0.0, 0.0, 0.0, 0.0, 0.0, 0.0, 0.0, 0.0, 0.0, 0.0, 0.0, 0.0, 0.0, 0.0, 0.0, 0.0, 0.0, 0.0, 0.0, 0.0, 0.0, 0.0, 0.0, 0.0, 0.0, 0.0, 0.0, 0.0, 0.0, 0.0, 0.0, 0.0, 0.0, 0.0, 0.0, 0.0, 0.0, 0.0, 0.0, 0.0, 0.0, 0.0, 0.0, 0.0, 0.0, 0.0, 0.0, 0.0, 0.0, 0.0, 0.0, 0.0, 0.0, 0.0, 0.0, 0.0, 0.5, 0.0, 0.0, 0.0, 0.0, 0.0, 0.0, 0.0, 0.0, 0.0, 0.0, 0.0, 0.0, 0.0, 0.0, 0.0, 0.0, 0.30657359638272924, 0.0, 0.0, 0.0, 0.0, 0.0, 0.0, 0.0, 0.0, 0.0, 0.0, 0.0, 0.0, 0.0, 0.0, 0.0, 0.0, 0.0, 0.0, 0.0, 0.0, 0.0, 0.0, 0.0, 0.0, 0.0, 0.0, 0.0, 0.0, 0.0, 0.0, 0.0, 0.0, 0.0, 0.0, 0.5, 0.0, 0.0, 0.0, 0.0, 0.0, 0.0, 0.0, 0.0, 0.0, 0.0, 0.0, 0.0, 0.0, 0.0, 0.0, 0.0, 0.0, 0.0, 0.0, 0.0, 0.0, 0.0, 0.0, 0.0, 0.0, 0.0, 0.0, 0.0, 0.0, 0.0, 0.0, 0.0, 0.3154648767857287, 0.0, 0.0, 0.0, 0.0, 0.0, 0.0, 0.141266972859829, 0.0, 0.0, 0.0, 0.0, 0.0, 0.0, 0.0, 0.0, 0.0, 0.0, 0.0, 0.0, 0.0, 0.30102999566398114, 0.0, 0.0, 0.0, 0.0, 0.0, 0.20438239758848614, 0.0, 0.0, 0.0, 0.0, 0.0, 0.0, 0.0, 0.0, 0.0, 0.0, 0.0, 0.0, 0.0, 0.0, 0.0, 0.0, 0.0, 0.0, 0.0, 0.0, 0.0, 0.0, 0.0, 0.0, 0.0, 0.0, 0.0, 0.0, 0.0, 0.0, 0.0, 0.0, 0.0, 0.0, 0.0, 0.0, 0.0, 0.0, 0.0, 0.0, 0.0, 0.0, 0.0, 0.0, 0.0, 0.0, 0.0, 0.0, 0.0, 0.0, 0.0, 0.0, 0.0, 0.0, 0.0, 0.0, 0.0, 0.0, 0.0, 0.0, 0.0, 0.0, 0.0, 0.0, 0.0, 0.0, 0.0, 0.0, 0.0, 0.0, 0.0, 0.0, 0.0, 0.0, 0.0, 0.0, 0.0, 0.3562071871080222, 0.0, 0.0, 0.0, 0.0, 0.23719771276929624, 0.0, 0.0, 0.0, 0.30102999566398114, 0.0, 0.0, 0.0, 0.0, 0.0, 0.0, 0.0, 0.0, 0.0, 0.0, 0.2890648263178878, 0.0, 0.0, 0.0, 0.0, 0.0, 0.0, 0.0, 0.0, 0.0, 0.0, 0.0, 0.0, 0.0, 0.0, 0.0, 0.0, 0.0, 0.0, 0.0, 0.0, 0.3562071871080222, 0.0, 0.0, 0.0, 0.0, 0.0, 0.0, 0.0, 0.0, 0.0, 0.38685280723454163, 0.0, 0.0, 0.0, 0.0, 0.0, 0.43067655807339306, 0.0, 0.0, 0.0, 0.0, 0.0, 0.0, 0.0, 0.0, 0.0, 0.0, 0.0, 0.0, 0.0, 0.0, 0.0, 0.0, 0.0, 0.0, 0.0, 0.0, 0.0, 0.0, 0.0, 0.0, 0.0, 0.0, 0.0, 0.0, 0.0, 0.0, 0.0, 0.0, 0.0, 0.0, 0.0, 0.0, 0.0, 0.0, 0.0, 0.0, 0.0, 0.0, 0.0, 0.43067655807339306, 0.0, 0.0, 0.0, 0.0, 0.0, 0.0, 0.0, 0.0, 0.0, 0.0, 0.0, 0.0, 0.0, 0.0, 0.0, 0.0, 0.0, 0.0, 0.0, 0.0, 0.0, 0.0, 0.0, 0.0, 0.3333333333333333, 0.0, 1.0, 0.0, 0.0, 0.0, 0.0, 0.0, 0.0, 0.0, 0.0, 0.0, 0.0, 0.0, 0.0, 0.0, 0.0, 0.0, 0.0, 0.0, 0.0, 0.0, 0.0, 0.0, 0.0, 0.0, 0.0, 0.0, 0.0, 0.0, 0.0, 0.0, 0.0, 0.0, 0.0, 0.0, 0.0, 0.0, 0.0, 0.0, 0.0, 0.0, 0.0, 0.0, 0.0, 0.0, 0.0, 0.0, 0.0, 0.0, 0.0, 0.0, 0.0, 0.0, 0.0, 0.0, 0.0, 0.0, 0.0, 0.0, 0.0, 0.0, 0.0, 0.0, 0.0, 0.0, 0.0, 0.0, 0.0, 0.0, 0.0, 0.0, 0.0, 0.0, 0.0, 0.0, 0.0, 0.0, 0.0, 0.0, 0.0, 0.0, 0.0, 0.18457569677956817, 0.0, 0.0, 0.0, 0.0, 0.0, 0.0, 0.0, 0.0, 0.0, 0.0, 0.0, 0.0, 0.0, 0.0, 0.0, 0.0, 0.0, 0.0, 0.0, 0.0, 0.0, 0.0, 0.0, 0.0, 0.0, 0.0, 0.0, 0.0, 0.0, 0.0, 0.0, 0.0, 0.0, 0.0, 0.0, 0.0, 0.0, 0.0, 0.0, 0.0, 0.0, 0.0, 0.0, 0.0, 0.0, 0.0, 0.0, 0.0, 0.0, 0.0, 0.0, 0.0, 0.0, 0.0, 0.0, 0.0, 0.0, 0.0, 0.0, 0.0, 0.0, 0.0, 0.0, 0.0, 0.0, 0.0, 0.0, 0.0, 0.0, 0.0, 0.0, 0.0, 0.0, 0.0, 0.0, 0.0, 0.0, 0.0, 0.0, 0.0, 0.0, 0.0, 0.0, 0.0, 0.0, 0.0, 0.0, 0.0, 0.0, 0.0, 0.0, 0.0, 0.0, 0.0, 0.0, 0.0, 0.0, 0.0, 0.0, 0.0, 0.0, 0.0, 0.0, 0.0, 0.0, 0.0, 0.0, 0.0, 0.0, 0.0, 0.0, 0.0, 0.0, 0.0, 0.0, 0.0, 0.0, 0.0, 0.0, 0.0, 0.2640681225725909, 0.0, 0.0, 0.0, 0.0, 0.0, 0.0, 0.0, 0.0, 0.0, 0.0, 0.0, 0.0, 0.0, 0.0, 0.0, 0.0, 0.0, 0.0, 0.0, 0.0, 0.0, 0.0, 0.0, 0.0, 0.0, 0.0, 0.0, 0.0, 0.0, 0.0, 0.0, 0.0, 0.0, 0.0, 0.0, 0.0, 0.0, 0.0, 0.0, 0.0, 0.0, 0.0, 0.0, 0.0, 0.0, 0.0, 0.2640681225725909, 0.0, 0.0, 0.0, 0.0, 0.0, 0.0, 0.0, 0.0, 0.0, 0.0, 0.0, 0.0, 0.0, 0.0, 0.0, 0.0, 0.0, 0.0, 0.0, 0.0, 0.0, 0.0, 0.0, 0.0, 0.6309297535714574, 0.0, 0.0, 0.0, 0.0, 0.0, 0.0, 0.0, 0.38685280723454163, 0.0, 0.0, 0.3562071871080222, 0.0, 0.0, 0.0, 0.0, 0.0, 0.0, 0.0, 0.0, 0.43067655807339306, 0.0, 0.0, 0.38685280723454163, 0.0, 0.0, 0.0, 0.0, 0.0, 0.0, 0.0, 0.0, 0.0, 0.0, 0.0, 0.0, 0.0, 0.0, 0.0, 0.0, 0.0, 0.0, 0.0, 0.0, 0.0, 0.0, 0.0, 0.0, 0.0, 0.0, 0.0, 0.0, 0.0, 0.0, 0.0, 0.0, 0.2890648263178878, 0.0, 0.0, 0.0, 0.0, 0.0, 0.0, 0.0, 0.38685280723454163, 0.0, 0.0, 0.0, 0.0, 0.0, 0.0, 0.0, 0.0, 0.0, 0.0, 0.0, 0.0, 0.0, 0.0, 0.0, 0.0, 0.0, 0.0, 0.0, 0.0, 0.0, 0.0, 0.0, 0.0, 0.0, 0.0, 0.0, 0.0, 0.0, 0.0, 0.0, 0.0, 0.0, 0.0, 0.0, 0.0, 0.0, 0.0, 0.0, 0.0, 0.0, 0.0, 0.0, 0.0, 0.0, 0.0, 0.0, 0.0, 0.0, 0.0, 0.0, 0.0, 0.0, 0.0, 0.0, 0.0, 0.0, 0.0, 0.0, 0.0, 0.0, 0.0, 0.0, 0.0, 0.0, 0.0, 0.0, 0.0, 0.0, 0.0, 0.0, 0.0, 0.0, 0.0, 0.0, 0.0, 0.0, 0.0, 0.0, 0.0, 0.0, 0.0, 0.0, 0.0, 0.0, 0.0, 0.0, 0.0, 0.0, 0.0, 0.0, 0.0, 0.0, 0.0, 0.0, 0.0, 0.0, 0.0, 0.0, 0.0, 0.0, 0.0, 0.0, 0.0, 0.0, 0.0, 0.0, 0.17723928678404774, 0.0, 0.0, 0.0, 0.0, 0.0, 0.0, 0.0, 0.0, 0.0, 0.0, 0.0, 0.0, 0.0, 0.0, 0.0, 0.0, 0.0, 0.0, 0.0, 0.0, 0.0, 0.0, 0.0, 0.0, 0.0, 0.0, 0.0, 0.0, 0.0, 0.0, 0.0, 0.0, 0.0, 0.0, 0.0, 0.0, 0.0, 0.0, 0.30102999566398114, 0.0, 0.0, 0.0, 0.0, 0.0, 0.0, 0.0, 0.0, 0.0, 0.0, 0.0, 0.0, 0.0, 0.0, 0.0, 0.0, 0.0, 0.0, 0.0, 0.0, 0.0, 0.0, 0.0, 0.0, 0.0, 0.0, 0.0, 0.0, 0.0, 0.0, 0.0, 0.0, 0.0, 0.0, 0.0, 0.3333333333333333, 0.0, 0.0, 0.0, 0.0, 0.0, 0.0, 0.0, 0.0, 0.0, 0.0, 0.0, 0.0, 0.0, 0.0, 0.0, 0.0, 0.0, 0.0, 0.0, 0.0, 0.0, 0.0, 0.0, 0.0, 0.2890648263178878, 0.0, 0.0, 0.0, 0.0, 0.0, 0.0, 0.0, 0.0, 0.0, 0.0, 0.0, 0.0, 0.0, 0.0, 0.6309297535714574, 0.0, 0.0, 0.0, 0.0, 0.0, 0.0, 0.0, 0.0, 0.0, 0.0, 0.0, 0.0, 0.0, 0.0, 0.0, 0.0, 0.0, 0.0, 0.0, 0.0, 0.0, 0.6309297535714574, 0.0, 0.0, 0.0, 0.0, 0.0, 0.0, 0.0, 0.0, 0.0, 0.0, 0.0, 0.0, 0.0, 0.0, 0.0, 0.0, 0.0, 0.0, 0.0, 0.0, 1.0, 0.0, 0.19342640361727081, 0.0, 0.0, 0.0, 0.0, 0.0, 0.0, 0.0, 0.0, 0.0, 0.0, 0.0, 0.0, 0.0, 0.0, 0.0, 0.0, 0.0, 0.0, 0.0, 0.0, 0.0, 0.0, 0.0, 0.0, 0.0, 0.0, 0.0, 0.0, 0.0, 0.0, 0.0, 0.0, 1.0, 0.0, 0.0, 0.0, 0.0, 0.0, 0.0, 0.0, 0.0, 0.0, 0.0, 0.0, 0.0, 0.0, 0.0, 0.0, 0.0, 0.0, 0.0, 0.0, 0.0, 0.0, 0.0, 0.0, 0.0, 0.0, 0.0, 0.0, 0.0, 0.0, 0.0, 0.0, 0.0, 0.0, 0.0, 0.0, 0.0, 0.0, 0.0, 0.0, 0.38685280723454163, 0.0, 0.0, 0.0, 0.0, 0.0, 0.141266972859829, 0.0, 0.0, 0.0, 0.0, 0.0, 0.0, 0.0, 0.0, 0.0, 0.0, 0.0, 0.0, 0.0, 0.0, 0.0, 0.0, 0.0, 0.0, 0.0, 0.0, 0.0, 0.0, 0.0, 0.0, 0.0, 0.0, 0.0, 0.0, 0.0, 0.0, 0.0, 0.0, 0.0, 0.0, 0.0, 0.0, 0.0, 0.0, 0.0, 0.0, 0.0, 0.0, 0.0, 0.0, 0.0, 0.0, 0.0, 0.0, 0.0, 0.0, 0.0, 0.0, 0.0, 0.0, 0.0, 0.0, 0.0, 0.0, 0.0, 0.0, 0.0, 0.0, 0.0, 0.0, 0.0, 0.0, 0.0, 0.0, 0.0, 0.0, 0.0, 0.0, 0.0, 0.0, 0.0, 0.0, 0.0, 0.0, 0.3154648767857287, 0.0, 0.0, 0.0, 0.0, 0.0, 0.0, 0.0, 0.0, 0.0, 0.0, 0.0, 0.0, 0.0, 0.0, 0.0, 0.0, 0.0, 0.0, 0.0, 0.0, 0.0, 0.0, 0.0, 0.0, 0.0, 0.0, 0.0, 0.0, 0.0, 0.0, 0.0, 0.0, 0.0, 0.0, 0.0, 0.0, 0.0, 0.0, 0.0, 0.0, 0.0, 0.0, 0.0, 0.0, 0.0, 0.0, 0.0, 0.0, 0.0, 0.0, 0.0, 0.0, 0.0, 0.0, 0.0, 0.0, 0.0, 0.0, 0.0, 0.0, 0.0, 0.0, 0.0, 0.0, 0.0, 0.0, 0.0, 0.0, 0.0, 0.0, 0.0, 0.0, 0.0, 0.6309297535714574, 0.0, 0.0, 0.6309297535714574, 0.0, 0.0, 0.0, 0.0, 0.0, 0.0, 0.0, 0.0, 0.0, 0.0, 0.0, 0.0, 0.0, 0.0, 0.0, 0.0, 0.0, 0.0, 0.0, 0.0, 0.5, 0.0, 0.0, 0.0, 0.0, 0.0, 0.0, 0.0, 0.0, 0.0, 0.0, 0.0, 0.0, 0.0, 0.0, 0.0, 0.0, 0.0, 0.0, 0.0, 0.0, 0.0, 0.0, 0.0, 0.0, 0.0, 0.0, 0.0, 0.0, 0.0, 0.0, 0.0, 0.0, 0.0, 0.0, 0.0, 0.0, 0.0, 0.0, 0.0, 0.0, 0.0, 0.0, 0.0, 0.0, 0.0, 0.0, 0.0, 0.6131471927654585, 0.0, 0.17723928678404774, 0.0, 0.0, 0.0, 0.0, 0.0, 0.0, 0.0, 0.0, 0.0, 0.0, 0.0, 0.0, 0.0, 0.0, 0.0, 0.0, 0.0, 0.0, 0.0, 0.0, 0.0, 0.0, 0.0, 0.0, 0.0, 0.0, 0.0, 0.0, 0.0, 0.0, 0.0, 0.0, 0.0, 0.0, 0.0, 0.0, 1.0, 0.0, 0.0, 0.0, 0.0, 0.0, 0.0, 0.0, 0.0, 0.0, 0.0, 0.0, 0.0, 0.0, 0.0, 0.0, 0.0, 0.0, 0.0, 0.0, 0.0, 0.0, 0.0, 0.0, 0.0, 0.0, 0.0, 0.0, 0.0, 0.0, 0.0, 0.0, 0.0, 0.0, 0.0, 0.0, 0.0, 0.0, 0.0, 0.0, 0.0, 0.0, 0.0, 0.0, 0.0, 0.0, 0.0, 0.0, 0.0, 0.0, 0.0, 0.0, 0.0, 0.0, 0.0, 0.0, 0.0, 0.0, 0.0, 0.0, 0.0, 0.0, 0.0, 0.0, 0.0, 0.0, 0.0, 0.0, 0.0, 0.0, 0.0, 0.0, 0.0, 0.0, 0.0, 0.0, 0.0, 0.0, 0.0, 0.0, 0.0, 0.0, 0.0, 0.0, 0.23719771276929624, 0.0, 0.0, 0.0, 0.0, 0.0, 0.0, 0.0, 0.0, 0.0, 0.0, 0.0, 0.0, 0.0, 0.0, 0.0, 0.0, 0.43067655807339306, 0.0, 0.0, 0.0, 0.0, 0.0, 0.0, 0.0, 0.0, 0.0, 0.0, 0.0, 0.0, 0.0, 0.0, 0.0, 0.0, 0.0, 0.0, 0.0, 0.0, 0.0, 0.0, 0.0, 0.0, 0.0, 0.0, 0.0, 0.0, 0.0, 0.0, 0.0, 0.0, 0.0, 0.0, 0.0, 0.0, 0.0, 0.0, 0.0, 0.0, 0.0, 0.0, 0.0, 0.0, 0.0, 0.0, 0.0, 0.0, 0.0, 0.0, 0.0, 0.0, 0.0, 0.0, 0.0, 0.0, 0.0, 0.0, 0.0, 0.5, 0.0, 0.0, 0.0, 0.0, 0.0, 0.0, 0.0, 0.0, 0.0, 0.0, 0.0, 0.0, 0.0, 0.0, 0.0, 0.0, 0.0, 0.0, 0.0, 0.0, 0.0, 0.0, 0.0, 0.0, 0.0, 0.5, 0.0, 0.0, 0.0, 0.0, 0.0, 0.0, 0.0, 0.0, 0.0, 0.0, 0.0, 0.0, 0.0, 0.0, 0.0, 0.0, 0.0, 0.0, 0.0, 0.0, 0.0, 0.0, 0.0, 0.0, 0.0, 0.0, 0.0, 0.0, 0.0, 0.0, 0.0, 0.0, 0.0, 0.0, 0.0, 0.0, 0.0, 0.0, 0.0, 0.0, 0.0, 0.0, 0.0, 0.0, 0.0, 0.0, 0.0, 0.0, 0.0, 0.0, 0.0, 0.0, 0.0, 0.0, 0.0, 0.0, 0.0, 0.5272750663607827, 0.0, 0.0, 0.0, 0.0, 0.0, 0.0, 0.0, 0.0, 0.0, 0.0, 0.0, 0.0, 0.0, 0.0, 0.0, 0.0, 0.0, 0.0, 0.3333333333333333, 0.0, 0.0, 0.0, 0.0, 0.0, 0.0, 0.0, 0.0, 0.0, 0.38685280723454163, 0.0, 0.0, 0.0, 0.0, 0.0, 0.0, 0.0, 0.0, 0.0, 0.0, 0.0, 0.0, 0.0, 0.0, 0.0, 0.0, 0.0, 0.0, 0.0, 0.0, 0.0, 0.0, 0.0, 0.0, 0.141266972859829, 0.0, 0.0, 0.0, 0.0, 0.0, 0.0, 0.0, 0.0, 0.0, 0.0, 0.0, 0.0, 0.0, 0.0, 0.0, 0.0, 0.0, 0.0, 0.0, 0.0, 0.2184074368181642, 0.0, 0.0, 0.0, 0.0, 0.0, 0.0, 0.0, 0.0, 0.0, 0.0, 0.0, 0.0, 0.0, 0.0, 0.0, 0.0, 0.0, 0.0, 0.0, 0.0, 0.0, 0.0, 0.0, 0.0, 0.0, 0.0, 0.0, 0.0, 0.0, 0.0, 0.0, 0.0, 0.0, 0.0, 0.0, 0.0, 0.0, 0.0, 0.0, 0.0, 0.0, 0.0, 0.0, 0.0, 0.3333333333333333, 0.0, 0.0, 0.0, 0.0, 0.0, 0.0, 0.0, 0.0, 0.0, 0.0, 0.0, 0.0, 0.0, 0.0, 0.0, 0.0, 0.0, 0.0, 0.0, 0.0, 0.0, 0.0, 0.0, 0.0, 0.0, 0.0, 0.0, 0.0, 0.0, 0.0, 0.0, 0.0, 0.0, 0.0, 0.0, 0.38685280723454163, 0.0, 0.0, 0.0, 0.0, 0.0, 0.0, 0.0, 0.0, 0.0, 0.0, 0.0, 0.0, 0.0, 0.0, 0.0, 0.0, 0.0, 0.0, 0.0, 0.0, 0.0, 0.0, 0.0, 0.0, 0.0, 0.0, 0.0, 0.0, 0.0, 0.0, 0.0, 0.0, 0.0, 0.0, 0.0, 0.0, 0.0, 0.0, 0.0, 0.0, 0.0, 0.3562071871080222, 0.0, 0.0, 0.2184074368181642, 0.6309297535714574, 0.0, 0.0, 0.0, 0.0, 0.0, 0.0, 0.0, 0.0, 0.0, 0.0, 0.0, 0.0, 0.3333333333333333, 0.0, 0.0, 0.0, 0.0, 0.0, 0.0, 0.0, 0.0, 0.0, 0.0, 0.0, 0.0, 0.0, 0.0, 0.0, 0.0, 0.0, 0.0, 0.0, 0.0, 0.0, 0.0, 0.0, 0.0, 0.0, 0.0, 0.0, 0.0, 0.0, 0.0, 0.0, 0.0, 0.0, 0.0, 0.0, 0.0, 0.2890648263178878, 0.0, 0.0, 0.0, 0.0, 0.0, 0.0, 0.0, 0.0, 0.0, 0.0, 0.0, 0.0, 0.0, 0.0, 0.0, 0.0, 0.0, 0.0, 0.0, 0.0, 0.0, 0.0, 0.0, 0.0, 0.0, 0.0, 0.0, 0.0, 0.0, 0.0, 0.0, 0.0, 0.0, 0.0, 0.0, 0.0, 0.0, 0.0, 0.0, 0.0, 0.0, 0.0, 0.0, 0.0, 0.0, 0.0, 0.0, 0.0, 0.0, 0.0, 0.0, 0.0, 0.0, 0.0, 0.0, 0.0, 0.0, 0.0, 0.0, 0.0, 0.0, 0.0, 0.0, 0.0, 0.0, 0.0, 0.0, 0.0, 0.0, 0.0, 0.0, 0.0, 0.0, 0.0, 0.0, 0.0, 0.0, 0.23719771276929624, 0.0, 0.0, 0.0, 0.0, 0.0, 0.0, 0.0, 0.0, 0.0, 0.0, 0.0, 0.0, 0.0, 0.0, 0.0, 0.0, 0.0, 0.0, 0.0, 0.0, 0.0, 0.0, 0.0, 0.0, 0.6309297535714574, 0.0, 0.0, 0.0, 0.0, 0.0, 0.0, 0.0, 0.0, 0.5, 0.0, 0.0, 0.0, 0.0, 0.0, 0.0, 0.0, 0.0, 0.0, 0.0, 0.0, 0.0, 0.0, 0.0, 0.0, 0.0, 0.0, 0.0, 0.0, 0.0, 0.0, 0.0, 0.0, 0.0, 0.0, 0.0, 0.0, 0.0, 0.0, 0.0, 0.0, 0.0, 0.0, 0.0, 0.0, 0.0, 0.0, 0.0, 0.0, 0.0, 0.0, 0.0, 0.0, 0.0, 0.0, 0.0, 0.0, 0.0, 0.0, 0.0, 0.0, 0.0, 0.0, 0.0, 0.0, 0.0, 0.0, 0.0, 0.0, 0.0, 0.0, 0.0, 0.0, 0.0, 0.3154648767857287, 0.2890648263178878, 0.0, 0.0, 0.0, 0.0, 0.0, 0.0, 0.0, 0.0, 0.0, 0.0, 0.0, 0.0, 0.2890648263178878, 0.0, 0.0, 0.0, 0.0, 0.0, 0.0, 0.0, 0.0, 0.0, 0.0, 0.0, 0.0, 0.0, 0.0, 0.0, 0.0, 0.0, 0.0, 0.0, 0.30657359638272924, 0.0, 0.0, 0.0, 0.0, 0.0, 0.0, 0.0, 0.0, 0.0, 0.0, 0.0, 0.0, 0.0, 0.0, 0.0, 0.0, 0.0, 0.0, 0.0, 0.0, 0.0, 0.0, 0.0, 0.0, 0.0, 0.0, 0.0, 0.0, 0.0, 0.0, 0.0, 0.0, 0.0, 0.0, 0.0, 0.0, 0.0, 0.0, 0.0, 0.0, 0.0, 0.0, 0.0, 0.0, 0.0, 0.0, 0.0, 0.0, 0.0, 0.0, 0.0, 0.0, 0.0, 0.0, 0.0, 0.0, 0.0, 0.0, 0.0, 0.0, 0.0, 0.0, 0.0, 0.0, 0.0, 0.0, 0.0, 0.0, 0.0, 0.0, 0.0, 0.0, 0.0, 0.0, 0.0, 0.0, 0.0, 0.0, 0.0, 0.0, 0.0, 0.0, 0.0, 0.0, 0.20210734650054762, 0.0, 0.0, 0.0, 0.0, 0.0, 0.0, 0.0, 0.0, 0.0, 0.0, 0.0, 0.0, 0.0, 0.0, 0.0, 0.0, 0.0, 0.0, 0.0, 0.0, 0.0, 0.0, 0.0, 0.0, 0.0, 0.0, 0.0, 0.0, 0.0, 0.0, 0.0, 0.0, 0.0, 0.0, 0.0, 0.0, 0.0, 0.0, 0.0, 0.0, 0.0, 0.0, 0.0, 0.0, 0.0, 0.0, 0.0, 0.0, 0.0, 0.0, 0.0, 0.0, 0.0, 0.0, 0.0, 0.0, 0.0, 0.3154648767857287, 0.0, 0.0, 0.0, 0.0, 0.0, 0.23463936301137828, 0.0, 0.0, 0.0, 0.0, 0.0, 0.0, 0.0, 0.0, 0.0, 0.0, 0.0, 0.0, 0.0, 0.0, 0.0, 0.0, 0.0, 0.0, 0.0, 0.0, 0.0, 0.0, 0.0, 0.0, 0.0, 0.0, 0.0, 0.0, 0.0, 0.0, 0.0, 0.0, 0.0, 0.0, 0.0, 0.43067655807339306, 0.0, 0.0, 0.0, 0.0, 0.0, 0.0, 0.0, 0.0, 0.0, 0.0, 0.0, 0.0, 0.0, 0.0, 0.0, 0.0, 0.0, 0.0, 0.0, 0.0, 0.0, 0.0, 0.0, 0.0, 0.0, 0.0, 0.0, 0.0, 0.0, 0.0, 0.3333333333333333, 0.0, 0.0, 0.0, 0.0, 0.0, 0.0, 0.0, 0.0, 0.0, 0.0, 0.0, 0.0, 0.0, 0.0, 0.0, 0.30102999566398114, 0.0, 0.0, 0.0, 0.0, 0.0, 0.0, 0.0, 0.0, 0.0, 0.0, 0.0, 0.0, 0.0, 0.0, 0.0, 0.0, 0.0, 0.0, 0.0, 0.0, 0.0, 0.0, 0.0, 0.0, 0.0, 0.0, 0.0, 0.0, 0.0, 0.0, 0.0, 0.0, 0.0, 0.0, 0.0, 0.0, 0.0, 0.0, 0.0, 0.0, 0.0, 0.0, 0.0, 0.0, 0.0, 0.0, 0.0, 0.0, 0.0, 0.0, 0.0, 0.0, 0.0, 0.0, 0.0, 0.0, 0.0, 0.0, 0.0, 0.0, 0.43067655807339306, 0.0, 0.0, 0.0, 0.0, 0.0, 0.0, 0.0, 0.0, 0.0, 0.38685280723454163, 0.0, 0.0, 0.0, 0.0, 0.0, 0.0, 0.0, 0.0, 0.0, 0.0, 0.0, 0.0, 0.0, 0.0, 0.0, 0.0, 0.0, 0.0, 0.0, 0.0, 0.0, 0.0, 0.0, 0.0, 0.0, 0.0, 0.0, 0.0, 0.0, 0.0, 0.0, 0.0, 0.0, 0.0, 0.0, 0.0, 0.0, 0.0, 0.0, 0.0, 0.0, 0.0, 0.0, 0.0, 0.0, 0.0, 0.0, 0.0, 0.0, 0.0, 0.0, 0.0, 0.0, 0.0, 0.0, 0.0, 0.0, 0.0, 0.0, 0.0, 0.0, 0.0, 0.0, 0.0, 0.0, 0.0, 0.0, 0.0, 0.0, 0.0, 0.0, 0.0, 0.0, 0.0, 0.0, 0.0, 0.0, 0.0, 0.0, 0.0, 0.0, 0.0, 0.0, 0.0, 0.0, 0.0, 0.0, 0.0, 0.0, 0.0, 0.0, 0.0, 0.0, 0.0, 0.0, 0.0, 0.0, 0.0, 0.0, 0.41183384043543503, 0.0, 0.0, 0.0, 0.0, 0.0, 0.0, 0.0, 0.0, 0.0, 0.0, 0.0, 0.0, 0.0, 0.0, 0.0, 0.0, 0.0, 0.0, 0.0, 0.0, 0.0, 0.0, 0.0, 0.0, 0.0, 0.0, 0.0, 0.0, 0.0, 0.0, 0.0, 0.0, 0.0, 0.0, 0.0, 0.0, 0.0, 0.0, 0.0, 0.0, 0.0, 0.0, 0.0, 0.0, 0.0, 0.0, 0.0, 0.0, 0.0, 0.0, 0.0, 0.0, 0.0, 0.0, 0.0, 0.0, 0.0, 0.0, 0.0, 0.0, 0.0, 0.0, 0.0, 0.0, 0.0, 0.0, 0.0, 0.0, 0.0, 0.0, 0.0, 0.0, 0.0, 0.0, 0.0, 0.0, 0.0, 0.0, 0.0, 0.0, 0.0, 0.0, 0.0, 0.0, 0.0, 0.0, 0.0, 0.0, 0.0, 0.0, 0.0, 0.0, 0.0, 0.0, 0.0, 0.0, 0.0, 0.0, 0.3154648767857287, 0.0, 0.0, 0.0, 0.0, 0.0, 0.0, 0.0, 0.0, 0.0, 0.0, 0.0, 0.0, 0.0, 0.0, 0.0, 0.0, 0.0, 0.0, 0.0, 0.0, 0.0, 0.0, 0.0, 0.0, 0.0, 0.0, 0.0, 0.0, 0.0, 0.0, 0.0, 0.0, 0.0, 0.0, 0.0, 0.0, 0.0, 0.0, 0.0, 0.30657359638272924, 0.0, 0.0, 0.0, 0.0, 0.0, 0.0, 0.0, 0.0, 0.0, 0.0, 0.0, 0.0, 0.0, 0.0, 0.0, 0.0, 0.0, 0.0, 0.0, 0.0, 0.0, 0.0, 0.0, 0.0, 0.0, 0.0, 0.0, 0.0, 0.0, 0.0, 0.0, 0.0, 0.0, 0.0, 0.0, 0.0, 0.0, 0.0, 0.0, 0.0, 0.0, 0.0, 0.0, 1.0, 0.0, 0.0, 0.0, 0.0, 0.0, 0.0, 0.0, 0.0, 0.0, 0.0, 0.0, 0.0, 0.0, 0.0, 0.0, 0.6309297535714574, 0.0, 0.0, 0.0, 0.0, 0.0, 0.0, 0.0, 0.0, 0.0, 0.0, 0.0, 0.0, 0.0, 0.0, 0.0, 0.2890648263178878, 0.0, 0.0, 0.0, 0.0, 0.0, 0.0, 0.0, 0.0, 0.0, 0.0, 0.0, 0.0, 0.0, 0.0, 0.0, 0.0, 0.0, 0.0, 0.0, 0.0, 0.0, 0.0, 0.0, 0.0, 0.0, 0.0, 0.0, 0.0, 0.0, 0.0, 0.0, 0.0, 0.0, 0.0, 0.0, 0.0, 0.0, 0.0, 0.0, 0.0, 0.0, 0.0, 0.0, 0.0, 0.0, 0.0, 0.0, 0.0, 0.0, 0.0, 0.0, 0.0, 0.0, 0.0, 0.0, 0.0, 0.0, 0.0, 0.0, 0.0, 0.0, 0.0, 0.0, 0.0, 0.0, 0.0, 0.0, 0.0, 0.0, 0.0, 0.3562071871080222, 0.0, 0.0, 0.0, 0.0, 0.0, 0.0, 0.0, 0.0, 0.0, 0.0, 0.3333333333333333, 0.0, 0.0, 0.0, 0.0, 0.0, 0.0, 1.0, 0.0, 0.0, 0.0, 0.0, 0.0, 0.0, 0.0, 0.0, 0.0, 0.0, 0.0, 0.0, 0.0, 0.0, 0.0, 0.0, 0.38685280723454163, 0.0, 0.0, 0.0, 0.0, 0.0, 0.0, 0.0, 0.0, 0.2890648263178878, 0.0, 0.0, 0.0, 0.0, 0.0, 0.0, 0.0, 0.0, 0.0, 0.0, 0.0, 0.0, 0.0, 0.0, 0.0, 0.0, 0.0, 0.0, 0.0, 0.0, 0.0, 0.0, 0.0, 0.5, 0.0, 0.0, 0.0, 0.0, 0.0, 0.0, 0.0, 0.0, 0.0, 0.0, 0.0, 0.0, 0.0, 0.0, 0.0, 0.0, 0.0, 0.0, 0.0, 0.0, 0.0, 0.0, 0.0, 0.0, 0.0, 0.0, 0.0, 0.0, 0.0, 0.0, 0.0, 0.0, 0.0, 0.0, 0.0, 0.0, 0.0, 0.0, 0.0, 0.0, 0.0, 0.0, 0.0, 0.3562071871080222, 0.2890648263178878, 0.0, 0.0, 0.0, 0.0, 0.0, 0.0, 0.0, 0.0, 0.0, 0.0, 0.0, 0.0, 0.0, 0.30102999566398114, 0.0, 0.0, 0.0, 0.0, 0.0, 0.0, 0.0, 0.0, 0.0, 0.0, 0.0, 0.0, 0.0, 0.0, 0.0, 0.0, 0.0, 0.0, 0.0, 0.0, 0.0, 0.0, 0.0, 0.0, 0.0, 0.0, 0.0, 0.0, 0.0, 0.0, 0.0, 0.0, 0.0, 0.0, 0.0, 0.0, 0.0, 0.0, 0.0, 0.0, 0.0, 0.0, 0.0, 0.0, 0.0, 0.0, 0.0, 0.0, 0.0, 0.0, 0.0, 0.0, 0.0, 0.0, 0.0, 0.0, 0.0, 0.0, 0.0, 0.5, 0.0, 0.23719771276929624, 0.0, 0.0, 0.0, 0.0, 0.0, 0.0, 0.0, 0.0, 1.0, 0.0, 0.0, 0.0, 0.0, 0.0, 0.0, 0.0, 0.0, 0.0, 0.0, 0.0, 0.0, 0.0, 0.0, 0.0, 0.0, 0.0, 0.0, 0.0, 0.0, 0.0, 0.0, 0.0, 0.0, 0.0, 0.0, 0.0, 0.0, 0.0, 0.0, 0.0, 0.0, 0.0, 0.0, 0.0, 0.0, 0.0, 0.0, 0.0, 0.0, 0.0, 0.0, 0.0, 0.0, 1.0, 0.0, 0.0, 0.0, 0.0, 0.0, 0.0, 0.0, 0.0, 0.0, 0.0, 0.2890648263178878, 0.0, 0.0, 0.0, 0.0, 0.0, 0.0, 0.0, 0.0, 0.0, 0.0, 0.0, 0.0, 0.0, 0.0, 0.0, 0.0, 0.0, 0.0, 0.0, 0.0, 0.0, 0.0, 0.0, 0.0, 0.0, 0.0, 0.0, 0.0, 0.0, 0.0, 0.0, 0.0, 0.0, 0.3562071871080222, 0.0, 0.0, 0.0, 0.0, 0.0, 0.0, 0.0, 0.0, 0.0, 0.0, 0.0, 0.0, 0.0, 0.0, 0.0, 0.0, 0.0, 0.0, 0.0, 0.0, 0.0, 0.0, 0.0, 0.0, 0.0, 0.0, 0.5, 0.0, 0.0, 0.0, 0.0, 0.0, 0.0, 0.0, 0.0, 0.0, 0.0, 0.0, 0.0, 0.0, 0.0, 0.0, 0.0, 0.0, 0.0, 0.0, 0.0, 0.0, 0.0, 0.0, 0.0, 0.0, 0.0, 0.0, 0.0, 0.0, 0.0, 0.6309297535714574, 0.0, 0.0, 0.0, 0.0, 0.0, 0.0, 0.0, 0.0, 0.0, 0.0, 0.0, 0.0, 0.0, 0.0, 0.0, 0.0, 0.0, 0.0, 0.0, 0.0, 0.0, 0.0, 0.0, 0.0, 0.0, 0.0, 0.0, 0.0, 0.0, 0.0, 0.0, 0.0, 0.0, 0.0, 0.0, 0.0, 0.0, 0.0, 0.0, 0.0, 0.0, 0.0, 0.0, 0.0, 0.0, 0.43067655807339306, 0.0, 0.30102999566398114, 0.0, 0.0, 0.0, 0.0, 0.0, 0.0, 0.0, 0.0, 0.0, 0.0, 0.0, 0.0, 0.0, 0.0, 0.0, 0.0, 0.0, 0.0, 0.0, 0.0, 0.0, 0.0, 0.0, 0.0, 0.0, 0.43067655807339306, 0.0, 0.0, 0.0, 0.0, 0.0, 0.0, 0.0, 0.0, 0.0, 0.0, 0.0, 0.0, 0.0, 0.0, 0.0, 0.0, 0.0, 0.0, 0.0, 0.0, 0.0, 0.0, 0.0, 0.0, 0.0, 0.0, 0.3562071871080222, 0.0, 0.0, 0.0, 0.0, 0.0, 0.0, 0.0, 0.0, 0.0, 0.0, 0.0, 0.0, 0.0, 0.30102999566398114, 0.0, 0.0, 0.0, 0.0, 0.0, 0.0, 0.0, 0.0, 0.0, 0.0, 0.0, 0.0, 0.0, 0.0, 0.0, 0.0, 0.43067655807339306, 0.0, 0.0, 0.0, 0.0, 0.9197207891481877, 0.0, 0.0, 0.0, 0.0, 0.0, 0.0, 0.0, 0.0, 0.0, 0.0, 0.0, 0.0, 0.0, 0.0, 0.0, 0.0, 0.0, 0.0, 0.0, 0.0, 0.3154648767857287, 0.0, 0.0, 0.0, 0.0, 0.0, 0.0, 0.0, 0.0, 0.0, 0.0, 0.0, 0.0, 0.0, 0.0, 0.43067655807339306, 0.0, 0.0, 0.0, 0.0, 0.0, 0.0, 0.0, 0.0, 0.0, 0.0, 0.0, 0.0, 0.0, 0.0, 0.0, 0.0, 0.0, 0.0, 0.0, 0.0, 0.0, 0.0, 0.0, 0.0, 0.0, 0.0, 0.0, 0.0, 0.0, 0.0, 0.0, 0.0, 0.0, 0.0, 0.0, 0.0, 0.0, 0.0, 0.0, 0.0, 0.0, 0.0, 0.0, 0.0, 0.0, 0.0, 0.0, 0.0, 0.0, 0.0, 0.0, 0.0, 0.0, 0.0, 0.0, 0.0, 0.0, 0.0, 0.0, 0.0, 0.0, 0.0, 0.0, 0.0, 0.1815417925373527, 0.0, 0.0, 0.0, 0.0, 0.23719771276929624, 0.0, 0.0, 0.0, 0.0, 0.0, 0.0, 0.0, 0.0, 0.0, 0.0, 0.0, 0.0, 0.0, 0.0, 0.0, 0.0, 0.3154648767857287, 0.0, 0.0, 0.0, 0.0, 0.0, 0.0, 0.0, 0.0, 0.0, 0.0, 0.0, 0.0, 0.0, 0.0, 0.0, 0.0, 0.0, 0.0, 0.0, 0.0, 0.0, 0.0, 0.0, 0.0, 0.0, 0.0, 0.0, 0.0, 0.0, 0.0, 0.0, 0.0, 0.0, 0.0, 0.0, 0.0, 0.0, 0.0, 0.3154648767857287, 0.0, 0.0, 0.0, 0.0, 0.0, 0.0, 0.0, 0.0, 0.6131471927654585, 0.0, 0.0, 0.0, 0.0, 0.0, 0.0, 0.0, 0.0, 0.0, 1.0, 0.0, 0.0, 0.0, 0.0, 0.0, 0.0, 0.0, 0.0, 0.3562071871080222, 0.0, 0.2960819109658653, 0.0, 0.0, 0.0, 0.0, 0.0, 0.0, 0.0, 0.0, 0.0, 0.0, 0.0, 0.0, 0.0, 0.0, 0.0, 0.0, 0.0, 0.0, 0.0, 0.0, 0.0, 0.0, 0.0, 0.0, 0.0, 0.0, 0.0, 0.0, 0.0, 0.0, 0.0, 0.0, 0.0, 0.0, 0.0, 0.0, 0.0, 0.0, 0.0, 0.0, 0.0, 0.0, 0.0, 0.0, 0.5, 0.0, 0.0, 0.0, 0.0, 0.0, 0.0, 0.0, 0.0, 0.0, 0.0, 0.0, 0.0, 0.0, 0.0, 0.0, 0.0, 0.0, 0.0, 0.0, 0.38685280723454163, 0.0, 0.0, 0.0, 0.0, 0.0, 0.0, 0.0, 0.0, 0.0, 0.0, 0.0, 0.0, 0.0, 0.0, 0.0, 0.0, 0.0, 0.0, 0.0, 0.0, 0.0, 0.0, 0.0, 0.43067655807339306, 0.0, 0.0, 0.0, 0.0, 0.0, 0.0, 0.0, 0.0, 0.0, 0.0, 0.0, 0.0, 0.0, 0.0, 0.0, 0.0, 0.0, 0.0, 0.0, 0.0, 0.0, 0.0, 0.0, 0.0, 0.0, 0.0, 0.0, 0.0, 0.0, 0.0, 0.0, 0.0, 0.0, 0.0, 0.0, 0.0, 0.0, 0.0, 0.0, 0.0, 0.0, 0.0, 0.0, 0.0, 0.0, 0.0, 0.0, 0.0, 0.0, 0.0, 0.0, 0.0, 0.0, 0.0, 0.0, 0.0, 0.0, 0.0, 0.0, 0.0, 0.0, 0.0, 0.0, 0.0, 0.0, 0.0, 0.0, 0.0, 0.0, 0.0, 0.0, 0.0, 0.0, 0.0, 0.0, 0.0, 0.0, 0.0, 0.0, 0.0, 0.0, 0.0, 0.0, 0.0, 0.20438239758848614, 0.0, 0.0, 0.0, 0.0, 0.0, 0.0, 0.0, 0.0, 0.0, 0.0, 0.0, 0.0, 0.0, 0.0, 0.0, 0.0, 0.0, 0.0, 0.0, 0.2890648263178878, 0.0, 0.0, 0.17723928678404774, 0.0, 0.0, 0.0, 0.0, 0.0, 0.0, 0.0, 0.0, 0.0, 0.0, 0.0, 0.0, 0.0, 0.0, 0.0, 0.0, 0.0, 0.0, 0.0, 0.0, 0.0, 0.0, 0.0, 0.0, 0.0, 0.0, 0.0, 0.0, 0.0, 0.0, 0.0, 0.0, 0.0, 0.0, 0.0, 0.0, 0.0, 0.0, 0.0, 0.0, 0.0, 0.0, 0.0, 0.0, 0.0, 0.0, 0.0, 0.0, 0.0, 0.0, 0.0, 0.0, 0.0, 0.0, 0.0, 0.0, 0.0, 0.0, 0.0, 0.0, 0.0, 0.0, 0.0, 0.0, 0.0, 0.0, 0.0, 0.0, 0.0, 0.0, 0.0, 0.0, 0.0, 0.0, 0.0, 0.0, 0.0, 0.0, 0.0, 0.0, 0.0, 0.0, 0.0, 0.0, 0.0, 0.0, 0.0, 0.0, 0.0, 0.0, 0.0, 0.0, 0.0, 0.0, 0.0, 0.0, 0.0, 0.0, 0.0, 0.0, 0.0, 0.0, 0.0, 0.0, 0.0, 0.0, 0.0, 0.0, 0.0, 0.0, 0.0, 0.0, 0.0, 0.0, 0.0, 0.0, 0.0, 0.0, 0.0, 0.0, 0.0, 0.0, 0.0, 0.0, 0.0, 0.0, 0.0, 0.0, 0.0, 0.0, 0.0, 0.0, 0.0, 0.0, 0.3562071871080222, 0.0, 0.0, 0.0, 0.0, 0.0, 0.0, 0.0, 0.0, 0.0, 0.0, 0.0, 0.18457569677956817, 0.0, 0.0, 0.0, 0.0, 0.0, 0.0, 0.0, 0.0, 0.0, 0.0, 0.0, 0.0, 0.5, 0.0, 0.0, 0.0, 0.0, 0.3333333333333333, 0.0, 0.0, 0.0, 0.3333333333333333, 0.0, 0.0, 0.0, 0.0, 0.0, 0.0, 0.0, 0.0, 0.0, 0.0, 0.0, 0.0, 0.0, 0.0, 0.0, 0.0, 0.0, 0.0, 0.0, 0.0, 0.0, 0.0, 0.0, 0.0, 0.0, 0.0, 0.0, 0.0, 0.0, 0.2640681225725909, 0.0, 0.0, 0.0, 0.0, 0.0, 0.0, 0.0, 0.0, 0.0, 0.0, 0.0, 0.0, 0.0, 0.0, 0.0, 0.3333333333333333, 0.0, 0.0, 0.0, 0.38685280723454163, 0.0, 0.0, 0.0, 0.0, 0.0, 0.0, 0.0, 0.0, 0.0, 0.0, 0.0, 0.0, 0.0, 0.0, 0.0, 0.0, 0.0, 0.0, 0.0, 0.0, 0.0, 0.0, 0.0, 0.0, 0.0, 0.0, 0.0, 0.0, 0.0, 0.6309297535714574, 0.0, 0.0, 0.0, 0.0, 0.0, 0.0, 0.0, 0.0, 0.0, 0.0, 0.0, 0.0, 0.0, 0.0, 0.0, 0.0, 0.0, 0.0, 0.0, 0.0, 0.0, 0.0, 0.0, 0.0, 0.0, 0.0, 0.0, 0.0, 0.0, 0.0, 0.0, 0.0, 0.0, 0.0, 0.0, 0.0, 0.0, 0.0, 0.0, 0.0, 0.0, 0.0, 0.0, 0.0, 0.0, 0.0, 0.0, 0.0, 0.30102999566398114, 0.0, 0.0, 0.0, 0.0, 0.0, 0.0, 0.0, 0.0, 0.0, 0.0, 0.0, 0.0, 0.0, 0.0, 0.0, 0.0, 0.0, 0.0, 0.0, 0.0, 0.0, 0.0, 0.0, 0.5, 0.0, 0.0, 0.0, 0.0, 0.0, 0.0, 0.0, 0.0, 0.0, 0.0, 0.0, 0.0, 0.0, 0.0, 0.0, 0.0, 0.0, 0.0, 0.0, 0.18457569677956817, 0.0, 0.0, 0.0, 0.0, 0.0, 0.0, 0.0, 0.0, 0.0, 0.0, 0.0, 0.0, 0.0, 0.0, 0.0, 0.0, 0.0, 0.0, 0.0, 0.0, 0.6309297535714574, 0.0, 0.0, 0.0, 0.0, 0.0, 0.0, 0.0, 0.0, 0.0, 0.0, 0.0, 0.0, 0.0, 0.0, 0.0, 0.0, 0.0, 0.0, 0.0, 0.0, 0.0, 0.0, 0.0, 0.0, 0.0, 0.0, 0.3562071871080222, 0.0, 0.0, 0.0, 0.0, 0.0, 0.0, 0.0, 0.0, 0.0, 0.0, 0.0, 0.0, 0.0, 0.0, 0.0, 0.0, 0.0, 0.0, 0.0, 0.0, 0.0, 0.0, 0.0, 0.0, 0.0, 0.0, 0.0, 0.0, 0.0, 0.0, 0.0, 0.0, 0.0, 0.0, 0.0, 0.0, 0.0, 0.0, 0.0, 0.0, 0.0, 0.0, 0.0, 0.0, 0.0, 0.0, 0.0, 0.0, 0.0, 0.0, 0.0, 0.0, 0.0, 0.0, 0.0, 0.0, 0.0, 0.0, 0.0, 0.0, 0.0, 0.0, 0.0, 0.0, 0.0, 0.0, 0.0, 0.0, 0.0, 0.0, 0.0, 0.0, 0.0, 0.0, 0.0, 0.0, 0.0, 0.0, 0.0, 0.0, 0.0, 0.0, 0.0, 0.0, 0.0, 0.0, 0.0, 0.0, 0.0, 0.0, 0.0, 0.0, 0.0, 0.0, 0.0, 0.0, 0.0, 0.0, 0.0, 0.18457569677956817, 0.0, 0.0, 0.0, 0.0, 0.0, 0.0, 0.0, 0.0, 0.0, 0.0, 0.0, 0.0, 0.0, 0.0, 0.0, 0.0, 0.0, 0.0, 0.0, 0.20438239758848614, 0.0, 0.43067655807339306, 0.0, 0.0, 0.0, 0.0, 0.0, 0.0, 0.0, 0.0, 0.0, 0.0, 0.0, 0.0, 0.0, 0.0, 0.0, 0.0, 0.0, 0.0, 0.0, 0.0, 0.0, 0.0, 0.0, 0.0, 0.0, 0.0, 0.0, 0.0, 0.0, 0.0, 0.0, 0.0, 0.0, 0.0, 0.0, 0.0, 0.0, 0.0, 0.0, 0.0, 0.0, 0.0, 0.0, 0.0, 0.0, 0.0, 0.0, 0.0, 0.0, 0.0, 0.0, 0.0, 0.0, 0.0, 0.0, 0.0, 0.0, 0.0, 0.0, 0.0, 0.0, 0.0, 0.0, 0.0, 0.0, 0.0, 0.0, 0.0, 0.0, 0.0, 0.0, 0.0, 0.0, 0.0, 0.6309297535714574, 0.0, 0.30102999566398114, 0.0, 0.0, 0.0, 0.0, 0.0, 0.0, 0.0, 0.0, 0.0, 0.6309297535714574, 0.0, 0.0, 0.0, 0.0, 0.0, 0.0, 0.0, 0.0, 0.0, 0.0, 0.0, 0.0, 0.0, 0.0, 0.0, 0.43067655807339306, 0.0, 0.0, 0.0, 0.0, 0.0, 0.0, 0.0, 0.0, 0.0, 0.0, 0.0, 0.0, 0.0, 0.0, 0.0, 0.0, 0.0, 0.0, 0.0, 0.0, 0.0, 0.0, 0.0, 0.0, 0.0, 0.0, 0.0, 0.0, 0.0, 0.0, 0.0, 0.0, 0.2890648263178878, 0.0, 0.0, 0.0, 0.0, 0.0, 0.0, 0.0, 0.0, 0.0, 0.0, 0.0, 0.0, 0.0, 0.0, 0.30657359638272924, 0.0, 0.0, 0.0, 0.0, 0.0, 0.0, 0.0, 0.0, 0.0, 0.0, 0.0, 0.0, 0.0, 0.0, 0.0, 0.0, 0.0, 0.0, 0.0, 0.0, 0.0, 0.0, 0.0, 0.0, 0.0, 0.0, 0.0, 0.0, 0.0, 0.0, 0.0, 0.0, 0.0, 0.0, 0.0, 0.0, 0.0, 0.0, 0.0, 0.0, 0.0, 0.3333333333333333, 0.0, 0.3154648767857287, 0.0, 0.0, 0.0, 0.0, 0.0, 0.0, 0.0, 0.0, 0.0, 0.0, 0.0, 0.0, 0.0, 0.0, 0.0, 0.0, 0.0, 0.0, 0.0, 0.0, 0.0, 0.0, 0.2890648263178878, 0.0, 0.0, 0.0, 0.0, 0.0, 0.0, 0.0, 0.0, 0.0, 0.3154648767857287, 0.0, 0.0, 0.0, 0.0, 0.0, 0.0, 0.0, 0.0, 0.0, 0.0, 0.0, 0.0, 0.0, 0.0, 0.0, 0.0, 0.0, 0.0, 0.0, 0.0, 0.0, 0.0, 0.0, 0.0, 0.0, 0.0, 0.0, 0.0, 0.0, 0.0, 0.0, 0.0, 0.0, 0.0, 0.0, 0.0, 0.0, 0.0, 0.0, 0.0, 0.0, 0.0, 0.0, 0.0, 0.0, 0.0, 0.0, 0.0, 0.0, 0.0, 0.0, 0.0, 0.0, 0.0, 0.0, 0.0, 0.0, 0.0, 0.0, 0.0, 0.0, 0.0, 0.0, 0.0, 0.0, 0.0, 0.0, 0.0, 0.0, 0.0, 0.0, 0.0, 0.0, 0.0, 0.0, 0.0, 0.0, 0.0, 0.0, 0.0, 0.0, 0.0, 0.0, 0.0, 0.0, 0.0, 0.0, 0.0, 0.0, 0.0, 0.0, 0.0, 0.0, 0.0, 0.0, 0.0, 0.3333333333333333, 0.0, 0.0, 0.0, 0.0, 0.0, 0.0, 0.0, 0.0, 0.3562071871080222, 0.0, 0.0, 0.0, 0.0, 0.0, 0.0, 0.0, 0.0, 0.0, 0.3154648767857287, 0.0, 0.0, 0.0, 0.0, 0.0, 0.0, 0.0, 0.0, 0.0, 0.0, 0.0, 0.0, 0.0, 0.0, 0.0, 0.0, 0.0, 0.0, 0.0, 0.0, 0.0, 0.0, 0.0, 0.0, 0.0, 0.0, 0.0, 0.0, 0.0, 0.0, 0.0, 0.0, 0.0, 0.0, 0.0, 0.0, 0.0, 0.0, 0.0, 0.0, 0.0, 0.0, 0.0, 0.0, 0.0, 0.0, 0.0, 0.0, 0.0, 0.0, 0.0, 0.0, 0.0, 0.0, 0.0, 0.0, 0.0, 0.0, 0.0, 0.0, 0.0, 0.0, 0.0, 0.0, 0.0, 0.0, 0.0, 0.0, 0.0, 0.0, 0.0, 0.0, 0.0, 0.0, 0.0, 0.0, 0.0, 0.0, 0.0, 0.0, 0.0, 0.0, 0.0, 0.0, 0.0, 0.0, 0.0, 0.0, 0.38685280723454163, 0.0, 0.0, 0.0, 0.0, 0.0, 0.0, 0.0, 0.0, 0.0, 0.0, 0.0, 0.0, 0.0, 0.6309297535714574, 0.0, 0.0, 0.0, 0.0, 0.0, 0.0, 0.0, 0.0, 0.0, 0.0, 0.0, 0.3562071871080222, 0.0, 0.0, 0.0, 0.0, 0.0, 0.0, 0.0, 0.0, 0.0, 0.0, 0.0, 0.0, 0.0, 0.0, 0.0, 0.0, 0.0, 0.0, 0.0, 0.0, 0.0, 0.0, 0.0, 0.0, 0.0, 0.0, 0.0, 0.0, 0.0, 0.0, 0.0, 0.0, 0.0, 0.0, 0.0, 0.0, 0.0, 0.0, 0.38685280723454163, 0.43067655807339306, 0.3154648767857287, 0.0, 0.0, 0.0, 0.0, 0.0, 0.0, 0.0, 0.0, 0.0, 0.0, 0.0, 0.0, 0.0, 0.0, 0.0, 0.0, 0.0, 0.0, 0.0, 0.0, 0.0, 0.0, 0.0, 0.0, 0.0, 0.2890648263178878, 0.0, 0.0, 0.0, 0.0, 0.0, 0.0, 0.0, 0.0, 0.0, 0.0, 0.0, 0.0, 0.0, 0.0, 0.0, 0.0, 0.0, 0.0, 0.0, 0.0, 0.0, 0.0, 0.0, 0.0, 0.0, 0.0, 0.0, 0.0, 0.0, 0.0, 0.0, 0.0, 0.0, 0.0, 0.0, 0.0, 0.0, 0.0, 0.0, 0.0, 0.0, 0.0, 0.0, 0.0, 0.0, 0.0, 0.0, 0.0, 0.0, 0.0, 0.0, 0.0, 0.0, 0.0, 0.0, 0.0, 0.0, 0.0, 0.0, 0.0, 0.0, 0.0, 0.0, 0.0, 0.0, 0.0, 0.0, 0.0, 0.0, 0.0, 0.0, 0.0, 0.0, 0.0, 0.0, 0.0, 0.0, 0.0, 0.0, 0.0, 0.0, 0.0, 0.0, 0.0, 0.0, 0.0, 0.0, 0.2184074368181642, 0.0, 0.0, 0.3333333333333333, 0.0, 0.0, 0.0, 0.0, 0.0, 0.43067655807339306, 0.0, 0.0, 0.0, 0.0, 0.0, 0.0, 0.0, 0.0, 0.0, 0.0, 0.0, 0.0, 0.0, 0.0, 0.30102999566398114, 0.0, 0.3333333333333333, 0.0, 0.0, 0.0, 0.0, 0.0, 0.0, 0.0, 0.0, 0.0, 0.0, 0.0, 0.0, 0.0, 0.0, 0.0, 0.0, 0.0, 0.0, 0.0, 0.0, 0.0, 0.0, 0.0, 0.0, 0.0, 0.0, 0.0, 0.0, 0.0, 0.0, 0.0, 0.0, 0.0, 0.0, 0.0, 0.0, 0.0, 0.0, 0.0, 0.0, 0.0, 0.0, 0.0, 0.0, 0.0, 0.0, 0.0, 0.0, 0.0, 0.38685280723454163, 0.0, 0.0, 0.0, 0.0, 0.0, 0.3562071871080222, 0.0, 0.0, 0.0, 0.0, 0.0, 0.0, 0.0, 0.0, 0.0, 0.2184074368181642, 0.0, 0.0, 0.0, 0.0, 0.0, 0.0, 0.3154648767857287, 0.0, 0.0, 0.0, 0.0, 0.0, 0.0, 0.0, 0.0, 0.0, 0.0, 0.0, 0.0, 0.0, 0.0, 0.0, 0.0, 0.0, 0.0, 0.0, 0.0, 0.0, 0.0, 0.0, 0.0, 0.0, 0.0, 0.0, 0.0, 0.0, 0.0, 0.0, 0.0, 0.0, 0.3154648767857287, 0.0, 0.0, 0.0, 0.0, 0.43067655807339306, 0.0, 0.0, 0.0, 0.0, 0.0, 0.0, 0.0, 0.0, 0.0, 0.0, 0.0, 0.0, 0.0, 0.0, 0.0, 0.0, 0.0, 0.0, 0.0, 0.3333333333333333, 0.0, 0.0, 0.0, 0.0, 0.0, 0.0, 0.0, 0.0, 0.0, 0.0, 0.0, 0.0, 0.0, 0.0, 0.0, 0.0, 0.0, 0.0, 0.0, 0.0, 0.0, 0.0, 0.0, 0.0, 0.0, 0.0, 0.0, 0.0, 0.0, 0.0, 0.0, 0.0, 0.0, 0.0, 0.0, 0.0, 0.0, 0.0, 0.0, 0.0, 0.0, 0.0, 0.0, 0.0, 0.0, 0.0, 0.0, 0.0, 0.0, 0.0, 0.0, 0.0, 0.0, 0.0, 0.0, 0.0, 0.0, 0.0, 0.0, 0.0, 0.0, 0.0, 0.0, 0.0, 0.0, 0.0, 0.0, 0.0, 0.0, 0.0, 0.0, 0.0, 0.0, 0.0, 0.0, 0.0, 0.0, 0.0, 0.0, 0.0, 0.0, 0.0, 0.0, 0.0, 0.0, 0.0, 0.0, 0.0, 0.0, 0.0, 0.0, 0.0, 0.0, 0.0, 0.0, 0.0, 0.0, 0.0, 0.0, 0.0, 0.0, 0.0, 0.0, 0.0, 0.0, 0.0, 0.0, 0.0, 0.0, 0.0, 0.0, 0.0, 0.0, 0.0, 0.0, 0.0, 0.0, 0.0, 0.0, 0.0, 0.0, 0.0, 0.0, 0.0, 0.0, 0.0, 0.0, 0.0, 0.0, 0.0, 0.0, 0.0, 0.0, 0.0, 0.0, 0.0, 0.0, 0.0, 0.0, 0.0, 0.0, 0.0, 0.0, 0.0, 0.0, 0.0, 0.0]\n"
     ]
    }
   ],
   "source": [
    "#java tf-idf\n",
    "#get result and ndcg\n",
    "import json\n",
    "from elasticsearch import Elasticsearch\n",
    "es = Elasticsearch()\n",
    "ndcg_list_tf=[];result_list_tf=[]\n",
    "for i in each_qid1_cosidf:\n",
    "    qid1_title=es.get(\"javatf\", doc_type='_doc', id=i)['_source']['title']\n",
    "    \n",
    "    f = open(f'{i}tf.json')\n",
    "    data = json.load(f)\n",
    "    _search = ranking(i, qid1_title, data) # Figure 2\n",
    "    result = es.rank_eval(index=\"javatf\",body=_search)\n",
    "    result_list_tf.append(result)\n",
    "        \n",
    "    ndcg = result['metric_score']\n",
    "    ndcg_list_tf.append(ndcg)\n",
    " #   except OSError:\n",
    "  #      pass\n",
    "\n",
    "print(ndcg_list_tf) "
   ]
  },
  {
   "cell_type": "code",
   "execution_count": 29,
   "id": "e003a032-f77e-435b-9cab-a6d48cbd5b2c",
   "metadata": {},
   "outputs": [
    {
     "name": "stdout",
     "output_type": "stream",
     "text": [
      "0.012715244110966339\n"
     ]
    }
   ],
   "source": [
    "#java tf-idf\n",
    "#calculate avg score for java tf-idf\n",
    "sum=0\n",
    "for i in ndcg_list_tf:\n",
    "    sum=sum+i\n",
    "average_ndcg_tf=sum/len(ndcg_list_tf)\n",
    "print(average_ndcg_tf)"
   ]
  },
  {
   "cell_type": "code",
   "execution_count": 30,
   "id": "93086cf1-cfd4-4e19-af72-3c09b7ed0441",
   "metadata": {},
   "outputs": [],
   "source": [
    "# push result of java -tfidf to result json\n",
    "import json\n",
    "with open('result_list_java_tf.json', 'w') as fp:\n",
    "            fp.write(\n",
    "            '[\\n' +\n",
    "            ',\\n'.join(json.dumps(l) for l in result_list_tf) +\n",
    "            '\\n]\\n')"
   ]
  },
  {
   "cell_type": "code",
   "execution_count": 31,
   "id": "178c3a86-afdb-40dd-9780-621e756fac0b",
   "metadata": {},
   "outputs": [],
   "source": [
    "# push ndcg score of java tf-idf to ndcg json\n",
    "import json\n",
    "with open('ndcg_list_java_tfidf.json', 'w') as fp:\n",
    "            fp.write(\n",
    "            '[\\n' +\n",
    "            ',\\n'.join(json.dumps(l) for l in ndcg_list_tf) +\n",
    "            '\\n]\\n')"
   ]
  },
  {
   "cell_type": "code",
   "execution_count": 32,
   "id": "154cd50f-d893-4a68-b076-02f0e2d2dd4e",
   "metadata": {},
   "outputs": [
    {
     "ename": "KeyboardInterrupt",
     "evalue": "",
     "output_type": "error",
     "traceback": [
      "\u001b[0;31m---------------------------------------------------------------------------\u001b[0m",
      "\u001b[0;31mKeyboardInterrupt\u001b[0m                         Traceback (most recent call last)",
      "Input \u001b[0;32mIn [32]\u001b[0m, in \u001b[0;36m<cell line: 5>\u001b[0;34m()\u001b[0m\n\u001b[1;32m      6\u001b[0m ratings\u001b[38;5;241m=\u001b[39m[]\n\u001b[1;32m      7\u001b[0m \u001b[38;5;28;01mfor\u001b[39;00m j \u001b[38;5;129;01min\u001b[39;00m \u001b[38;5;28mrange\u001b[39m(\u001b[38;5;28mlen\u001b[39m(javacosidf_corpus_dataframe)):\n\u001b[0;32m----> 8\u001b[0m         \u001b[38;5;28;01mif\u001b[39;00m(\u001b[43mjavacosidf_corpus_dataframe\u001b[49m\u001b[38;5;241;43m.\u001b[39;49m\u001b[43mqid1\u001b[49m\u001b[43m[\u001b[49m\u001b[43mj\u001b[49m\u001b[43m]\u001b[49m\u001b[38;5;241m==\u001b[39mk):\n\u001b[1;32m      9\u001b[0m                     ratings\u001b[38;5;241m.\u001b[39mappend({\u001b[38;5;124m\"\u001b[39m\u001b[38;5;124m_index\u001b[39m\u001b[38;5;124m\"\u001b[39m:\u001b[38;5;124m\"\u001b[39m\u001b[38;5;124mjavadlm\u001b[39m\u001b[38;5;124m\"\u001b[39m,\u001b[38;5;124m\"\u001b[39m\u001b[38;5;124m_id\u001b[39m\u001b[38;5;124m\"\u001b[39m:javacosidf_corpus_dataframe\u001b[38;5;241m.\u001b[39mqid2[j],\u001b[38;5;124m\"\u001b[39m\u001b[38;5;124mrating\u001b[39m\u001b[38;5;124m\"\u001b[39m:\u001b[38;5;28mint\u001b[39m(javacosidf_corpus_dataframe\u001b[38;5;241m.\u001b[39mlabel[j])})\n\u001b[1;32m     10\u001b[0m                     ratings\u001b[38;5;241m=\u001b[39mratings[\u001b[38;5;241m0\u001b[39m:\u001b[38;5;241m30\u001b[39m]\n",
      "File \u001b[0;32m~/opt/anaconda3/lib/python3.9/site-packages/pandas/core/series.py:958\u001b[0m, in \u001b[0;36mSeries.__getitem__\u001b[0;34m(self, key)\u001b[0m\n\u001b[1;32m    955\u001b[0m     \u001b[38;5;28;01mreturn\u001b[39;00m \u001b[38;5;28mself\u001b[39m\u001b[38;5;241m.\u001b[39m_values[key]\n\u001b[1;32m    957\u001b[0m \u001b[38;5;28;01melif\u001b[39;00m key_is_scalar:\n\u001b[0;32m--> 958\u001b[0m     \u001b[38;5;28;01mreturn\u001b[39;00m \u001b[38;5;28;43mself\u001b[39;49m\u001b[38;5;241;43m.\u001b[39;49m\u001b[43m_get_value\u001b[49m\u001b[43m(\u001b[49m\u001b[43mkey\u001b[49m\u001b[43m)\u001b[49m\n\u001b[1;32m    960\u001b[0m \u001b[38;5;28;01mif\u001b[39;00m is_hashable(key):\n\u001b[1;32m    961\u001b[0m     \u001b[38;5;66;03m# Otherwise index.get_value will raise InvalidIndexError\u001b[39;00m\n\u001b[1;32m    962\u001b[0m     \u001b[38;5;28;01mtry\u001b[39;00m:\n\u001b[1;32m    963\u001b[0m         \u001b[38;5;66;03m# For labels that don't resolve as scalars like tuples and frozensets\u001b[39;00m\n",
      "File \u001b[0;32m~/opt/anaconda3/lib/python3.9/site-packages/pandas/core/series.py:1070\u001b[0m, in \u001b[0;36mSeries._get_value\u001b[0;34m(self, label, takeable)\u001b[0m\n\u001b[1;32m   1068\u001b[0m \u001b[38;5;66;03m# Similar to Index.get_value, but we do not fall back to positional\u001b[39;00m\n\u001b[1;32m   1069\u001b[0m loc \u001b[38;5;241m=\u001b[39m \u001b[38;5;28mself\u001b[39m\u001b[38;5;241m.\u001b[39mindex\u001b[38;5;241m.\u001b[39mget_loc(label)\n\u001b[0;32m-> 1070\u001b[0m \u001b[38;5;28;01mreturn\u001b[39;00m \u001b[38;5;28;43mself\u001b[39;49m\u001b[38;5;241;43m.\u001b[39;49m\u001b[43mindex\u001b[49m\u001b[38;5;241;43m.\u001b[39;49m\u001b[43m_get_values_for_loc\u001b[49m\u001b[43m(\u001b[49m\u001b[38;5;28;43mself\u001b[39;49m\u001b[43m,\u001b[49m\u001b[43m \u001b[49m\u001b[43mloc\u001b[49m\u001b[43m,\u001b[49m\u001b[43m \u001b[49m\u001b[43mlabel\u001b[49m\u001b[43m)\u001b[49m\n",
      "File \u001b[0;32m~/opt/anaconda3/lib/python3.9/site-packages/pandas/core/indexes/base.py:5656\u001b[0m, in \u001b[0;36mIndex._get_values_for_loc\u001b[0;34m(self, series, loc, key)\u001b[0m\n\u001b[1;32m   5647\u001b[0m \u001b[38;5;124;03m\"\"\"\u001b[39;00m\n\u001b[1;32m   5648\u001b[0m \u001b[38;5;124;03mDo a positional lookup on the given Series, returning either a scalar\u001b[39;00m\n\u001b[1;32m   5649\u001b[0m \u001b[38;5;124;03mor a Series.\u001b[39;00m\n\u001b[0;32m   (...)\u001b[0m\n\u001b[1;32m   5653\u001b[0m \u001b[38;5;124;03mkey is included for MultiIndex compat.\u001b[39;00m\n\u001b[1;32m   5654\u001b[0m \u001b[38;5;124;03m\"\"\"\u001b[39;00m\n\u001b[1;32m   5655\u001b[0m \u001b[38;5;28;01mif\u001b[39;00m is_integer(loc):\n\u001b[0;32m-> 5656\u001b[0m     \u001b[38;5;28;01mreturn\u001b[39;00m \u001b[43mseries\u001b[49m\u001b[38;5;241;43m.\u001b[39;49m\u001b[43m_values\u001b[49m\u001b[43m[\u001b[49m\u001b[43mloc\u001b[49m\u001b[43m]\u001b[49m\n\u001b[1;32m   5658\u001b[0m \u001b[38;5;28;01mreturn\u001b[39;00m series\u001b[38;5;241m.\u001b[39miloc[loc]\n",
      "\u001b[0;31mKeyboardInterrupt\u001b[0m: "
     ]
    }
   ],
   "source": [
    "#java Dirichlet\n",
    "#create ratings json for each qid1\n",
    "\n",
    "\n",
    "for k in each_qid1_cosidf:\n",
    "    ratings=[]\n",
    "    for j in range(len(javacosidf_corpus_dataframe)):\n",
    "            if(javacosidf_corpus_dataframe.qid1[j]==k):\n",
    "                        ratings.append({\"_index\":\"javadlm\",\"_id\":javacosidf_corpus_dataframe.qid2[j],\"rating\":int(javacosidf_corpus_dataframe.label[j])})\n",
    "                        ratings=ratings[0:30]\n",
    "    import json\n",
    "    with open(f'{k}dlmjava.json', 'w') as fp:\n",
    "            fp.write(\n",
    "            '[\\n' +\n",
    "            ',\\n'.join(json.dumps(l) for l in ratings) +\n",
    "            '\\n]\\n')"
   ]
  },
  {
   "cell_type": "code",
   "execution_count": null,
   "id": "50e4b076-0418-45dd-9a35-64c3ab614ed6",
   "metadata": {},
   "outputs": [],
   "source": [
    "#java Dirichlet\n",
    "#get result and ndcg\n",
    "\n",
    "import json\n",
    "from elasticsearch import Elasticsearch\n",
    "es = Elasticsearch()\n",
    "ndcg_list_java_lmd=[];result_list_java_lmd=[]\n",
    "for i in each_qid1_cosidf:\n",
    "    qid1_title=es.get(\"javadlm\", doc_type='_doc', id=i)['_source']['title']\n",
    "    \n",
    "    f = open(f'{i}dlmjava.json')\n",
    "    data = json.load(f)\n",
    "    _search = ranking(i, qid1_title, data) # Figure 2\n",
    "    result = es.rank_eval(index=\"javadlm\",body=_search)\n",
    "    result_list_java_lmd.append(result)\n",
    "        \n",
    "    ndcg = result['metric_score']\n",
    "    ndcg_list_java_lmd.append(ndcg)\n",
    " #   except OSError:\n",
    "  #      pass\n",
    "\n",
    "print(ndcg_list_java_lmd) "
   ]
  },
  {
   "cell_type": "code",
   "execution_count": null,
   "id": "11d71832-72e3-4310-b3a1-88ef51aca615",
   "metadata": {},
   "outputs": [],
   "source": [
    "# push result of java Dirichlet to result json\n",
    "\n",
    "import json\n",
    "with open('result_list_java_DLM.json', 'w') as fp:\n",
    "            fp.write(\n",
    "            '[\\n' +\n",
    "            ',\\n'.join(json.dumps(l) for l in result_list_java_lmd) +\n",
    "            '\\n]\\n')"
   ]
  },
  {
   "cell_type": "code",
   "execution_count": null,
   "id": "27af36e9-11b2-4efd-8a17-59e1c04e0e9e",
   "metadata": {},
   "outputs": [],
   "source": [
    "# push ndcg of java Dirichlet to result json\n",
    "\n",
    "import json\n",
    "with open(\"ndcg_score_java_DLM.json\", 'w') as fp:\n",
    "            fp.write(\n",
    "            '[\\n' +\n",
    "            ','.join(json.dumps(l) for l in ndcg_list_java_lmd) +\n",
    "            '\\n]')"
   ]
  },
  {
   "cell_type": "code",
   "execution_count": null,
   "id": "93c52bf7-831a-4bce-b267-39f3f9b88f6c",
   "metadata": {},
   "outputs": [],
   "source": [
    "# get average ndcg score for java Dirichlet\n",
    "\n",
    "sum=0\n",
    "for i in ndcg_list_java_lmd:\n",
    "    sum=sum+i\n",
    "average_ndcg_lmd=sum/len(ndcg_list_java_lmd)\n",
    "print(average_ndcg_lmd)"
   ]
  },
  {
   "cell_type": "code",
   "execution_count": null,
   "id": "6f7b3db7-faf8-4546-a343-6189cedc20c9",
   "metadata": {},
   "outputs": [],
   "source": [
    "#javascript"
   ]
  },
  {
   "cell_type": "code",
   "execution_count": null,
   "id": "9902011a-60bd-4f14-b656-0e4fbff42043",
   "metadata": {},
   "outputs": [],
   "source": [
    "###javascript\n",
    "def load_corpus2(lang=\"javascript\", verbose=False):\n",
    "    lines = load_text_file(base_path / pathlib.Path(f\"{lang}/{lang}_cosidf.txt\"))\n",
    "\n",
    "\n",
    "    record_list = list()\n",
    "    for line in tqdm(lines, disable=not verbose):\n",
    "        record_list.append(\n",
    "            {name: text.strip(string.whitespace) for name, text in zip([\"qid1\", \"qid2\", \"score\", \"label\"], line.split(\"\\t\"))}\n",
    "        )\n",
    "            \n",
    "    javascriptcosidf_corpus_dataframe = pd.DataFrame(record_list)\n",
    "\n",
    "    return javascriptcosidf_corpus_dataframe"
   ]
  },
  {
   "cell_type": "code",
   "execution_count": null,
   "id": "848a350c-7f0d-46d2-b76f-335556600b07",
   "metadata": {},
   "outputs": [],
   "source": [
    "pd.set_option(\"display.max_columns\", 10)\n",
    "\n",
    "javascriptcosidf_corpus_dataframe = load_corpus2(lang=\"javascript\", verbose=True)\n",
    "print(javascriptcosidf_corpus_dataframe)"
   ]
  },
  {
   "cell_type": "code",
   "execution_count": null,
   "id": "f4089fdd-8cc3-4840-a079-cbb525172892",
   "metadata": {},
   "outputs": [],
   "source": [
    "javascriptcosidf_corpus_dataframe = javascriptcosidf_corpus_dataframe.drop(labels=0, axis=0)\n",
    "javascriptcosidf_corpus_dataframe.reset_index(drop=True, inplace=True)"
   ]
  },
  {
   "cell_type": "code",
   "execution_count": null,
   "id": "9b6cfda0-ee99-415a-8331-a067e6c53619",
   "metadata": {},
   "outputs": [],
   "source": [
    "print(javascriptcosidf_corpus_dataframe)"
   ]
  },
  {
   "cell_type": "code",
   "execution_count": null,
   "id": "967ff3ed-a256-4b6f-8134-046b4691cde8",
   "metadata": {},
   "outputs": [],
   "source": [
    "# get each qid1 from javascriptcosidf\n",
    "each_qid1_cosidf_javascript = javascriptcosidf_corpus_dataframe[\"qid1\"].unique()\n",
    "print(each_qid1_cosidf_javascript)"
   ]
  },
  {
   "cell_type": "code",
   "execution_count": null,
   "id": "b19ab8b1-d21b-4275-9a22-092c1b7ba232",
   "metadata": {},
   "outputs": [],
   "source": [
    "# javascript bm25\n",
    "#get ratings json for each qid1\n",
    "for k in each_qid1_cosidf_javascript:\n",
    "    ratings=[]\n",
    "    for j in range(len(javascriptcosidf_corpus_dataframe)):\n",
    "            if(javascriptcosidf_corpus_dataframe.qid1[j]==k):\n",
    "                        ratings.append({\"_index\":\"javascriptbm\",\"_id\":javascriptcosidf_corpus_dataframe.qid2[j],\"rating\":int(javascriptcosidf_corpus_dataframe.label[j])})\n",
    "                        ratings=ratings[0:30]\n",
    "    import json\n",
    "    with open(f'{k}bmjavascript.json', 'w') as fp:\n",
    "            fp.write(\n",
    "            '[\\n' +\n",
    "            ',\\n'.join(json.dumps(l) for l in ratings) +\n",
    "            '\\n]\\n')"
   ]
  },
  {
   "cell_type": "code",
   "execution_count": null,
   "id": "2a17ce8e-fb34-41e7-8818-c9403345f391",
   "metadata": {},
   "outputs": [],
   "source": [
    "# javascript bm25\n",
    "#get result and ndcg scores for each qid1\n",
    "import json\n",
    "from elasticsearch import Elasticsearch\n",
    "es = Elasticsearch()\n",
    "ndcg_list_javascript_bm=[];result_list_javascript_bm=[]\n",
    "for i in each_qid1_cosidf_javascript:\n",
    "    qid1_title=es.get(\"javascriptbm\", doc_type='_doc', id=i)['_source']['title']\n",
    "    \n",
    "    f = open(f'{i}bmjavascript.json')\n",
    "    data = json.load(f)\n",
    "    _search = ranking(i, qid1_title, data) # Figure 2\n",
    "    result = es.rank_eval(index=\"javascriptbm\",body=_search)\n",
    "    result_list_javascript_bm.append(result)\n",
    "        \n",
    "    ndcg = result['metric_score']\n",
    "    ndcg_list_javascript_bm.append(ndcg)\n",
    " #   except OSError:\n",
    "  #      pass\n",
    "\n",
    "print(ndcg_list_javascript_bm) "
   ]
  },
  {
   "cell_type": "code",
   "execution_count": null,
   "id": "cdae4ffc-c90e-492d-b768-88a7a66daa5d",
   "metadata": {},
   "outputs": [],
   "source": [
    "# javascript bm25\n",
    "#push results to results json \n",
    "\n",
    "import json\n",
    "with open('result_list_javascript_bm.json', 'w') as fp:\n",
    "            fp.write(\n",
    "            '[\\n' +\n",
    "            ',\\n'.join(json.dumps(l) for l in result_list_javascript_bm) +\n",
    "            '\\n]\\n')"
   ]
  },
  {
   "cell_type": "code",
   "execution_count": null,
   "id": "9019f2d0-dde6-4779-be35-eb69af63906d",
   "metadata": {},
   "outputs": [],
   "source": [
    "# javascript bm25\n",
    "#push ndcg scores to ndcg json \n",
    "import json\n",
    "with open(\"ndcg_score_javascript_bm.json\", 'w') as fp:\n",
    "            fp.write(\n",
    "            '[\\n' +\n",
    "            ','.join(json.dumps(l) for l in ndcg_list_javascript_bm) +\n",
    "            '\\n]')"
   ]
  },
  {
   "cell_type": "code",
   "execution_count": null,
   "id": "94b26351-2739-46e7-a703-e90bab68a271",
   "metadata": {},
   "outputs": [],
   "source": [
    "# javascript bm25\n",
    "#get average ndcg score\n",
    "sum=0\n",
    "for i in ndcg_list_javascript_bm:\n",
    "    sum=sum+i\n",
    "average_ndcg_js_bm=sum/len(ndcg_list_javascript_bm)\n",
    "print(average_ndcg_js_bm)"
   ]
  },
  {
   "cell_type": "code",
   "execution_count": null,
   "id": "9e707926-0ceb-4153-8909-ad777cb8b567",
   "metadata": {},
   "outputs": [],
   "source": [
    "#javascript tfidf\n",
    "#get ratings json for each qid1\n",
    "for k in each_qid1_cosidf_javascript:\n",
    "    ratings=[]\n",
    "    for j in range(len(javascriptcosidf_corpus_dataframe)):\n",
    "            if(javascriptcosidf_corpus_dataframe.qid1[j]==k):\n",
    "                        ratings.append({\"_index\":\"javascripttf\",\"_id\":javascriptcosidf_corpus_dataframe.qid2[j],\"rating\":int(javascriptcosidf_corpus_dataframe.label[j])})\n",
    "                        ratings=ratings[0:30]\n",
    "    import json\n",
    "    with open(f'{k}tfjavascript.json', 'w') as fp:\n",
    "            fp.write(\n",
    "            '[\\n' +\n",
    "            ',\\n'.join(json.dumps(l) for l in ratings) +\n",
    "            '\\n]\\n')"
   ]
  },
  {
   "cell_type": "code",
   "execution_count": null,
   "id": "208bb821-78f2-4134-bb2b-b8e01af31f8e",
   "metadata": {},
   "outputs": [],
   "source": [
    "# javascript tfidf\n",
    "#get result and ndcg scores for each qid1\n",
    "\n",
    "import json\n",
    "from elasticsearch import Elasticsearch\n",
    "es = Elasticsearch()\n",
    "ndcg_list_javascript_tf=[];result_list_javascript_tf=[]\n",
    "for i in each_qid1_cosidf_javascript:\n",
    "    qid1_title=es.get(\"javascripttf\", doc_type='_doc', id=i)['_source']['title']\n",
    "    \n",
    "    f = open(f'{i}tfjavascript.json')\n",
    "    data = json.load(f)\n",
    "    _search = ranking(i, qid1_title, data) # Figure 2\n",
    "    result = es.rank_eval(index=\"javascripttf\",body=_search)\n",
    "    result_list_javascript_tf.append(result)\n",
    "        \n",
    "    ndcg = result['metric_score']\n",
    "    ndcg_list_javascript_tf.append(ndcg)\n",
    " #   except OSError:\n",
    "  #      pass\n",
    "\n",
    "print(ndcg_list_javascript_tf)"
   ]
  },
  {
   "cell_type": "code",
   "execution_count": null,
   "id": "fe64e1ee-2736-4d4c-8a15-f6e8cafb30fd",
   "metadata": {},
   "outputs": [],
   "source": [
    "# javascript tfidf\n",
    "#push results to results json \n",
    "import json\n",
    "with open('result_list_javascript_tf.json', 'w') as fp:\n",
    "            fp.write(\n",
    "            '[\\n' +\n",
    "            ',\\n'.join(json.dumps(l) for l in result_list_javascript_tf) +\n",
    "            '\\n]\\n')"
   ]
  },
  {
   "cell_type": "code",
   "execution_count": null,
   "id": "86c50bcf-3fba-4443-9a90-7fac38ef0522",
   "metadata": {},
   "outputs": [],
   "source": [
    "# javascript tfidf\n",
    "#push ndcg scores to ndcg json \n",
    "import json\n",
    "with open(\"ndcg_score_javascript_tf.json\", 'w') as fp:\n",
    "            fp.write(\n",
    "            '[\\n' +\n",
    "            ','.join(json.dumps(l) for l in ndcg_list_javascript_tf) +\n",
    "            '\\n]')"
   ]
  },
  {
   "cell_type": "code",
   "execution_count": null,
   "id": "f363883c-24db-410d-adea-565f9d8e9834",
   "metadata": {},
   "outputs": [],
   "source": [
    "# javascript tfidf\n",
    "#get average ndcg score\n",
    "sum=0\n",
    "for i in ndcg_list_javascript_tf:\n",
    "    sum=sum+i\n",
    "average_ndcg_js_tf=sum/len(ndcg_list_javascript_tf)\n",
    "print(average_ndcg_js_tf)"
   ]
  },
  {
   "cell_type": "code",
   "execution_count": null,
   "id": "3e1bdebe-bcb2-4080-9eea-b0d0d2ba92f1",
   "metadata": {},
   "outputs": [],
   "source": [
    "#javascript Dirichlet\n",
    "#get ratings json for each qid1\n",
    "for k in each_qid1_cosidf_javascript:\n",
    "    ratings=[]\n",
    "    for j in range(len(javascriptcosidf_corpus_dataframe)):\n",
    "            if(javascriptcosidf_corpus_dataframe.qid1[j]==k):\n",
    "                        ratings.append({\"_index\":\"javascriptdlm\",\"_id\":javascriptcosidf_corpus_dataframe.qid2[j],\"rating\":int(javascriptcosidf_corpus_dataframe.label[j])})\n",
    "                        ratings=ratings[0:30]\n",
    "    import json\n",
    "    with open(f'{k}dlmjavascript.json', 'w') as fp:\n",
    "            fp.write(\n",
    "            '[\\n' +\n",
    "            ',\\n'.join(json.dumps(l) for l in ratings) +\n",
    "            '\\n]\\n')"
   ]
  },
  {
   "cell_type": "code",
   "execution_count": null,
   "id": "29fc682c-9324-4224-9fce-6a20938bcaa1",
   "metadata": {},
   "outputs": [],
   "source": [
    "# javascript Dirichlet\n",
    "#get result and ndcg scores for each qid1\n",
    "\n",
    "import json\n",
    "from elasticsearch import Elasticsearch\n",
    "es = Elasticsearch()\n",
    "ndcg_list_javascript_dlm=[];result_list_javascript_dlm=[]\n",
    "for i in each_qid1_cosidf_javascript:\n",
    "    qid1_title=es.get(\"javascriptdlm\", doc_type='_doc', id=i)['_source']['title']\n",
    "    \n",
    "    f = open(f'{i}dlmjavascript.json')\n",
    "    data = json.load(f)\n",
    "    _search = ranking(i, qid1_title, data) # Figure 2\n",
    "    result = es.rank_eval(index=\"javascriptdlm\",body=_search)\n",
    "    result_list_javascript_dlm.append(result)\n",
    "        \n",
    "    ndcg = result['metric_score']\n",
    "    ndcg_list_javascript_dlm.append(ndcg)\n",
    " #   except OSError:\n",
    "  #      pass\n",
    "\n",
    "print(ndcg_list_javascript_dlm)"
   ]
  },
  {
   "cell_type": "code",
   "execution_count": null,
   "id": "8e6a0013-4ec6-486e-ae70-6ac0a400d98b",
   "metadata": {},
   "outputs": [],
   "source": [
    "# javascript Dirichlet\n",
    "#push results to results json \n",
    "import json\n",
    "with open('result_list_javascript_dlm.json', 'w') as fp:\n",
    "            fp.write(\n",
    "            '[\\n' +\n",
    "            ',\\n'.join(json.dumps(l) for l in result_list_javascript_dlm) +\n",
    "            '\\n]\\n')"
   ]
  },
  {
   "cell_type": "code",
   "execution_count": null,
   "id": "3379f13c-c58b-49cb-b547-67dddcc2885a",
   "metadata": {},
   "outputs": [],
   "source": [
    "# javascript Dirichlet\n",
    "#push ndcg scores to ndcg json \n",
    "import json\n",
    "with open(\"ndcg_score_javascript_dlm.json\", 'w') as fp:\n",
    "            fp.write(\n",
    "            '[\\n' +\n",
    "            ','.join(json.dumps(l) for l in ndcg_list_javascript_dlm) +\n",
    "            '\\n]')"
   ]
  },
  {
   "cell_type": "code",
   "execution_count": null,
   "id": "d72d33f6-dcfe-438b-bc96-4444972d4af6",
   "metadata": {},
   "outputs": [],
   "source": [
    "# javascript Dirichlet\n",
    "#get average ndcg score\n",
    "sum=0\n",
    "for i in ndcg_list_javascript_dlm:\n",
    "    sum=sum+i\n",
    "average_ndcg_js_dlm=sum/len(ndcg_list_javascript_dlm)\n",
    "print(average_ndcg_js_dlm)"
   ]
  },
  {
   "cell_type": "code",
   "execution_count": null,
   "id": "2c770b99-782c-48fd-933e-2067343831ce",
   "metadata": {},
   "outputs": [],
   "source": [
    "#python\n"
   ]
  },
  {
   "cell_type": "code",
   "execution_count": null,
   "id": "90de75b3-3fe6-45f8-8484-b4562d0cd169",
   "metadata": {},
   "outputs": [],
   "source": [
    "def load_corpus3(lang=\"python\", verbose=False):\n",
    "    lines = load_text_file(base_path / pathlib.Path(f\"{lang}/{lang}_cosidf.txt\"))\n",
    "\n",
    "\n",
    "    record_list = list()\n",
    "    for line in tqdm(lines, disable=not verbose):\n",
    "        record_list.append(\n",
    "            {name: text.strip(string.whitespace) for name, text in zip([\"qid1\", \"qid2\", \"score\", \"label\"], line.split(\"\\t\"))}\n",
    "        )\n",
    "            \n",
    "    pythoncosidf_corpus_dataframe = pd.DataFrame(record_list)\n",
    "\n",
    "    return pythoncosidf_corpus_dataframe\n"
   ]
  },
  {
   "cell_type": "code",
   "execution_count": null,
   "id": "6c789148-be7f-4984-aee0-ab0ebc119abf",
   "metadata": {},
   "outputs": [],
   "source": [
    "pd.set_option(\"display.max_columns\", 10)\n",
    "\n",
    "pythoncosidf_corpus_dataframe = load_corpus3(lang=\"python\", verbose=True)\n",
    "print(pythoncosidf_corpus_dataframe)"
   ]
  },
  {
   "cell_type": "code",
   "execution_count": null,
   "id": "c68017dd-3347-4078-a35a-abf9da702397",
   "metadata": {},
   "outputs": [],
   "source": [
    "#fixing corpus index\n",
    "pythoncosidf_corpus_dataframe = pythoncosidf_corpus_dataframe.drop(labels=0, axis=0)\n",
    "pythoncosidf_corpus_dataframe.reset_index(drop=True, inplace=True)"
   ]
  },
  {
   "cell_type": "code",
   "execution_count": null,
   "id": "7bcd258b-652f-4b7a-926b-6ce3b14d7be1",
   "metadata": {},
   "outputs": [],
   "source": [
    "print(pythoncosidf_corpus_dataframe)"
   ]
  },
  {
   "cell_type": "code",
   "execution_count": null,
   "id": "0b705350-38bf-4d4b-95da-e0b52d2b6683",
   "metadata": {},
   "outputs": [],
   "source": [
    "#getting ech qid1 from pythoncosidf\n",
    "each_qid1_cosidf_python = pythoncosidf_corpus_dataframe[\"qid1\"].unique()\n",
    "print(each_qid1_cosidf_python)"
   ]
  },
  {
   "cell_type": "code",
   "execution_count": null,
   "id": "59a19e42-ff30-4d41-9b38-623c6fb3effa",
   "metadata": {},
   "outputs": [],
   "source": [
    "#python bm25\n",
    "##get ratings json for each qid1\n",
    "for k in each_qid1_cosidf_python:\n",
    "    ratings=[]\n",
    "    for j in range(len(pythoncosidf_corpus_dataframe)):\n",
    "            if(pythoncosidf_corpus_dataframe.qid1[j]==k):\n",
    "                        ratings.append({\"_index\":\"pythonbm\",\"_id\":pythoncosidf_corpus_dataframe.qid2[j],\"rating\":int(pythoncosidf_corpus_dataframe.label[j])})\n",
    "                        ratings=ratings[0:30]\n",
    "    import json\n",
    "    with open(f'{k}bmpython.json', 'w') as fp:\n",
    "            fp.write(\n",
    "            '[\\n' +\n",
    "            ',\\n'.join(json.dumps(l) for l in ratings) +\n",
    "            '\\n]\\n')"
   ]
  },
  {
   "cell_type": "code",
   "execution_count": null,
   "id": "50d6c246-ca0d-4b12-a8a5-3197663ba84c",
   "metadata": {},
   "outputs": [],
   "source": [
    "# python bm25\n",
    "#get result and ndcg scores for each qid1\n",
    "import json\n",
    "from elasticsearch import Elasticsearch\n",
    "es = Elasticsearch()\n",
    "ndcg_list_python_bm=[];result_list_python_bm=[]\n",
    "for i in each_qid1_cosidf_python:\n",
    "    qid1_title=es.get(\"pythonbm\", doc_type='_doc', id=i)['_source']['title']\n",
    "    \n",
    "    f = open(f'{i}bmpython.json')\n",
    "    data = json.load(f)\n",
    "    _search = ranking(i, qid1_title, data) # Figure 2\n",
    "    result = es.rank_eval(index=\"pythonbm\",body=_search)\n",
    "    result_list_python_bm.append(result)\n",
    "        \n",
    "    ndcg = result['metric_score']\n",
    "    ndcg_list_python_bm.append(ndcg)\n",
    " #   except OSError:\n",
    "  #      pass\n",
    "\n",
    "print(ndcg_list_python_bm)"
   ]
  },
  {
   "cell_type": "code",
   "execution_count": null,
   "id": "30289487-1a47-4b47-bc76-9cf04d753531",
   "metadata": {},
   "outputs": [],
   "source": [
    "# python bm25\n",
    "#push results to results json \n",
    "import json\n",
    "with open('result_list_python_bm.json', 'w') as fp:\n",
    "            fp.write(\n",
    "            '[\\n' +\n",
    "            ',\\n'.join(json.dumps(l) for l in result_list_python_bm) +\n",
    "            '\\n]\\n')"
   ]
  },
  {
   "cell_type": "code",
   "execution_count": null,
   "id": "f6aa5793-2c6e-431d-b2e8-443df08d6914",
   "metadata": {},
   "outputs": [],
   "source": [
    "# python bm25\n",
    "#push ndcg_scores to ndcg json \n",
    "import json\n",
    "with open(\"ndcg_score_python_bm.json\", 'w') as fp:\n",
    "            fp.write(\n",
    "            '[\\n' +\n",
    "            ','.join(json.dumps(l) for l in ndcg_list_python_bm) +\n",
    "            '\\n]')"
   ]
  },
  {
   "cell_type": "code",
   "execution_count": null,
   "id": "c05138ec-ca6a-4fc5-a9ee-59f2657a2cc2",
   "metadata": {},
   "outputs": [],
   "source": [
    "# python bm25\n",
    "#get average ndcg score\n",
    "sum=0\n",
    "for i in ndcg_list_python_bm:\n",
    "    sum=sum+i\n",
    "average_ndcg_python_bm=sum/len(ndcg_list_python_bm)\n",
    "print(average_ndcg_python_bm)"
   ]
  },
  {
   "cell_type": "code",
   "execution_count": null,
   "id": "0814e15e-64b6-404a-90fb-2e7d64eea594",
   "metadata": {},
   "outputs": [],
   "source": [
    "#python tfidf\n",
    "##get ratings json for each qid1\n",
    "for k in each_qid1_cosidf_python:\n",
    "    ratings=[]\n",
    "    for j in range(len(pythoncosidf_corpus_dataframe)):\n",
    "            if(pythoncosidf_corpus_dataframe.qid1[j]==k):\n",
    "                        ratings.append({\"_index\":\"pythontf\",\"_id\":pythoncosidf_corpus_dataframe.qid2[j],\"rating\":int(pythoncosidf_corpus_dataframe.label[j])})\n",
    "                        ratings=ratings[0:30]\n",
    "    import json\n",
    "    with open(f'{k}tfpython.json', 'w') as fp:\n",
    "            fp.write(\n",
    "            '[\\n' +\n",
    "            ',\\n'.join(json.dumps(l) for l in ratings) +\n",
    "            '\\n]\\n')"
   ]
  },
  {
   "cell_type": "code",
   "execution_count": null,
   "id": "84317810-0ea1-403b-b1f0-9961164da96a",
   "metadata": {},
   "outputs": [],
   "source": [
    "# python tfidf\n",
    "#get result and ndcg scores for each qid1\n",
    "import json\n",
    "from elasticsearch import Elasticsearch\n",
    "es = Elasticsearch()\n",
    "ndcg_list_python_tf=[];result_list_python_tf=[]\n",
    "for i in each_qid1_cosidf_python:\n",
    "    qid1_title=es.get(\"pythontf\", doc_type='_doc', id=i)['_source']['title']\n",
    "    \n",
    "    f = open(f'{i}tfpython.json')\n",
    "    data = json.load(f)\n",
    "    _search = ranking(i, qid1_title, data) # Figure 2\n",
    "    result = es.rank_eval(index=\"pythontf\",body=_search)\n",
    "    result_list_python_tf.append(result)\n",
    "        \n",
    "    ndcg = result['metric_score']\n",
    "    ndcg_list_python_tf.append(ndcg)\n",
    " #   except OSError:\n",
    "  #      pass\n",
    "\n",
    "print(ndcg_list_python_tf)"
   ]
  },
  {
   "cell_type": "code",
   "execution_count": null,
   "id": "4f36aac2-e6e7-4e65-8050-c658bc04a1cf",
   "metadata": {},
   "outputs": [],
   "source": [
    "# python tfidf\n",
    "#push results to results json \n",
    "import json\n",
    "with open('result_list_python_tf.json', 'w') as fp:\n",
    "            fp.write(\n",
    "            '[\\n' +\n",
    "            ',\\n'.join(json.dumps(l) for l in result_list_python_tf) +\n",
    "            '\\n]\\n')"
   ]
  },
  {
   "cell_type": "code",
   "execution_count": null,
   "id": "958a9574-1833-4762-8820-e20fdcb20e34",
   "metadata": {},
   "outputs": [],
   "source": [
    "# python tfidf\n",
    "#push ndcg_scores to ndcg json \n",
    "import json\n",
    "with open(\"ndcg_score_python_tf.json\", 'w') as fp:\n",
    "            fp.write(\n",
    "            '[\\n' +\n",
    "            ','.join(json.dumps(l) for l in ndcg_list_python_tf) +\n",
    "            '\\n]')"
   ]
  },
  {
   "cell_type": "code",
   "execution_count": null,
   "id": "60c5c14c-e3bc-4197-a005-ff59283efa94",
   "metadata": {},
   "outputs": [],
   "source": [
    "# python tfidf\n",
    "#get average ndcg score\n",
    "sum=0\n",
    "for i in ndcg_list_python_tf:\n",
    "    sum=sum+i\n",
    "average_ndcg_python_tf=sum/len(ndcg_list_python_tf)\n",
    "print(average_ndcg_python_tf)"
   ]
  },
  {
   "cell_type": "code",
   "execution_count": null,
   "id": "00742eff-a0ae-458f-91d2-a4aa942ef2e5",
   "metadata": {},
   "outputs": [],
   "source": [
    "#python Dirichlet\n",
    "##get ratings json for each qid1\n",
    "for k in each_qid1_cosidf_python:\n",
    "    ratings=[]\n",
    "    for j in range(len(pythoncosidf_corpus_dataframe)):\n",
    "            if(pythoncosidf_corpus_dataframe.qid1[j]==k):\n",
    "                        ratings.append({\"_index\":\"pythondlm\",\"_id\":pythoncosidf_corpus_dataframe.qid2[j],\"rating\":int(pythoncosidf_corpus_dataframe.label[j])})\n",
    "                        ratings=ratings[0:30]\n",
    "    import json\n",
    "    with open(f'{k}dlmpython.json', 'w') as fp:\n",
    "            fp.write(\n",
    "            '[\\n' +\n",
    "            ',\\n'.join(json.dumps(l) for l in ratings) +\n",
    "            '\\n]\\n')"
   ]
  },
  {
   "cell_type": "code",
   "execution_count": null,
   "id": "a863dd65-08c3-47b7-a009-e500abae6e74",
   "metadata": {},
   "outputs": [],
   "source": [
    "# python Dirichlet\n",
    "#get result and ndcg scores for each qid1\n",
    "import json\n",
    "from elasticsearch import Elasticsearch\n",
    "es = Elasticsearch()\n",
    "ndcg_list_python_dlm=[];result_list_python_dlm=[]\n",
    "for i in each_qid1_cosidf_python:\n",
    "    qid1_title=es.get(\"pythondlm\", doc_type='_doc', id=i)['_source']['title']\n",
    "    \n",
    "    f = open(f'{i}dlmpython.json')\n",
    "    data = json.load(f)\n",
    "    _search = ranking(i, qid1_title, data) # Figure 2\n",
    "    result = es.rank_eval(index=\"pythondlm\",body=_search)\n",
    "    result_list_python_dlm.append(result)\n",
    "        \n",
    "    ndcg = result['metric_score']\n",
    "    ndcg_list_python_dlm.append(ndcg)\n",
    " #   except OSError:\n",
    "  #      pass\n",
    "\n",
    "print(ndcg_list_python_dlm)"
   ]
  },
  {
   "cell_type": "code",
   "execution_count": null,
   "id": "82afd48f-25a5-4c02-8814-5fd0484dda79",
   "metadata": {},
   "outputs": [],
   "source": [
    "# python Dirichlet\n",
    "#push results to results json \n",
    "import json\n",
    "with open('result_list_python_dlm.json', 'w') as fp:\n",
    "            fp.write(\n",
    "            '[\\n' +\n",
    "            ',\\n'.join(json.dumps(l) for l in result_list_python_dlm) +\n",
    "            '\\n]\\n')"
   ]
  },
  {
   "cell_type": "code",
   "execution_count": null,
   "id": "72a5f7f0-9337-468b-9f9a-678a875be333",
   "metadata": {},
   "outputs": [],
   "source": [
    "# python Dirichlet\n",
    "#push ndcg_scores to ndcg json \n",
    "import json\n",
    "with open(\"ndcg_score_python_dlm.json\", 'w') as fp:\n",
    "            fp.write(\n",
    "            '[\\n' +\n",
    "            ','.join(json.dumps(l) for l in ndcg_list_python_dlm) +\n",
    "            '\\n]')"
   ]
  },
  {
   "cell_type": "code",
   "execution_count": null,
   "id": "424e723d-7900-4af9-8497-b4a55e6f3526",
   "metadata": {},
   "outputs": [],
   "source": [
    "# python Dirichlet\n",
    "#get average ndcg score\n",
    "sum=0\n",
    "for i in ndcg_list_python_dlm:\n",
    "    sum=sum+i\n",
    "average_ndcg_python_dlm=sum/len(ndcg_list_python_dlm)\n",
    "print(average_ndcg_python_dlm)"
   ]
  },
  {
   "cell_type": "code",
   "execution_count": null,
   "id": "aec7564b-dd01-455b-85a3-aed12dd9f5f9",
   "metadata": {},
   "outputs": [],
   "source": []
  }
 ],
 "metadata": {
  "kernelspec": {
   "display_name": "Python 3 (ipykernel)",
   "language": "python",
   "name": "python3"
  },
  "language_info": {
   "codemirror_mode": {
    "name": "ipython",
    "version": 3
   },
   "file_extension": ".py",
   "mimetype": "text/x-python",
   "name": "python",
   "nbconvert_exporter": "python",
   "pygments_lexer": "ipython3",
   "version": "3.9.12"
  }
 },
 "nbformat": 4,
 "nbformat_minor": 5
}
